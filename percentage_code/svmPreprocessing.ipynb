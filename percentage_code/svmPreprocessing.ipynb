{
  "nbformat": 4,
  "nbformat_minor": 0,
  "metadata": {
    "colab": {
      "provenance": [],
      "gpuType": "T4",
      "mount_file_id": "16I27WAVU4YHFUwpMZZSP5J7TV-mHyd8A",
      "authorship_tag": "ABX9TyNGmb9lsZM927C22SYPltv3",
      "include_colab_link": true
    },
    "kernelspec": {
      "name": "python3",
      "display_name": "Python 3"
    },
    "language_info": {
      "name": "python"
    },
    "accelerator": "GPU"
  },
  "cells": [
    {
      "cell_type": "markdown",
      "metadata": {
        "id": "view-in-github",
        "colab_type": "text"
      },
      "source": [
        "<a href=\"https://colab.research.google.com/github/Centrattic/SEESZooniverse/blob/main/percentage_code/svmPreprocessing.ipynb\" target=\"_parent\"><img src=\"https://colab.research.google.com/assets/colab-badge.svg\" alt=\"Open In Colab\"/></a>"
      ]
    },
    {
      "cell_type": "markdown",
      "source": [
        "## SVM w/ Color Histograms"
      ],
      "metadata": {
        "id": "r7rTJ8sOHN_l"
      }
    },
    {
      "cell_type": "code",
      "source": [
        "import pandas as pd\n",
        "import matplotlib.pyplot as plt\n",
        "import matplotlib.colors as colors\n",
        "import numpy as np\n",
        "import os\n",
        "import PIL\n",
        "from PIL import Image\n",
        "from tqdm import tqdm\n",
        "import cv2\n",
        "from functools import partial"
      ],
      "metadata": {
        "id": "XK3-Ml8_HILD"
      },
      "execution_count": null,
      "outputs": []
    },
    {
      "cell_type": "code",
      "source": [
        "data_path = \"drive/MyDrive/Zooniverse_Images2/\""
      ],
      "metadata": {
        "id": "yh6m21BDHIOK"
      },
      "execution_count": null,
      "outputs": []
    },
    {
      "cell_type": "code",
      "source": [
        "image_set = os.listdir(data_path)"
      ],
      "metadata": {
        "id": "8Nm08v2LHQcn"
      },
      "execution_count": null,
      "outputs": []
    },
    {
      "cell_type": "code",
      "source": [],
      "metadata": {
        "id": "C72IDmt4MyzJ"
      },
      "execution_count": null,
      "outputs": []
    },
    {
      "cell_type": "code",
      "source": [
        "import numpy as np\n",
        "import matplotlib.pyplot as plt\n",
        "import matplotlib.colors as colors\n",
        "from PIL import Image\n",
        "\n",
        "def plot_histogram_2d(image_path, bins=256):\n",
        "    # Load the image and convert it to grayscale\n",
        "    image = Image.open(image_path).convert('L')\n",
        "    image_data = np.array(image)\n",
        "\n",
        "    # Create the 2D histogram\n",
        "    hist, x_edges, y_edges = np.histogram2d(\n",
        "        np.ravel(image_data),\n",
        "        np.arange(image_data.shape[0]).repeat(image_data.shape[1]),\n",
        "        bins=[bins, image_data.shape[0]],\n",
        "        range=[[0, 256], [0, image_data.shape[0]]]\n",
        "    )\n",
        "\n",
        "    # Compute the logarithm of the histogram values\n",
        "    log_hist = np.log1p(hist)\n",
        "\n",
        "    # Create the plot\n",
        "    fig, ax = plt.subplots(figsize=(8, 6))\n",
        "    pcm = ax.pcolormesh(x_edges, y_edges, log_hist, norm=colors.LogNorm(vmin=log_hist.min(), vmax=log_hist.max()), cmap='viridis')\n",
        "    fig.colorbar(pcm, ax=ax, label='Logarithmic Frequency')\n",
        "\n",
        "    # Set labels and title\n",
        "    ax.set_xlabel('Pixel Value')\n",
        "    ax.set_ylabel('Row Index')\n",
        "    ax.set_title('2D Histogram with Logarithmic Color Scale')\n",
        "\n",
        "    # Show the plot\n",
        "    plt.show()\n",
        "\n",
        "# Example usage:\n",
        "image_path = 'drive/MyDrive/Zooniverse_Images2/3424449.jpg'\n",
        "plot_histogram_2d(image_path)"
      ],
      "metadata": {
        "colab": {
          "base_uri": "https://localhost:8080/",
          "height": 904
        },
        "id": "RpydyyjqMy13",
        "outputId": "cdd6ee8d-2bb8-4665-f261-079bdfadcdf0"
      },
      "execution_count": null,
      "outputs": [
        {
          "output_type": "error",
          "ename": "TypeError",
          "evalue": "ignored",
          "traceback": [
            "\u001b[0;31m---------------------------------------------------------------------------\u001b[0m",
            "\u001b[0;31mTypeError\u001b[0m                                 Traceback (most recent call last)",
            "\u001b[0;32m<ipython-input-91-ad8158bddb77>\u001b[0m in \u001b[0;36m<cell line: 37>\u001b[0;34m()\u001b[0m\n\u001b[1;32m     35\u001b[0m \u001b[0;31m# Example usage:\u001b[0m\u001b[0;34m\u001b[0m\u001b[0;34m\u001b[0m\u001b[0m\n\u001b[1;32m     36\u001b[0m \u001b[0mimage_path\u001b[0m \u001b[0;34m=\u001b[0m \u001b[0;34m'drive/MyDrive/Zooniverse_Images2/3424449.jpg'\u001b[0m\u001b[0;34m\u001b[0m\u001b[0;34m\u001b[0m\u001b[0m\n\u001b[0;32m---> 37\u001b[0;31m \u001b[0mplot_histogram_2d\u001b[0m\u001b[0;34m(\u001b[0m\u001b[0mimage_path\u001b[0m\u001b[0;34m)\u001b[0m\u001b[0;34m\u001b[0m\u001b[0;34m\u001b[0m\u001b[0m\n\u001b[0m",
            "\u001b[0;32m<ipython-input-91-ad8158bddb77>\u001b[0m in \u001b[0;36mplot_histogram_2d\u001b[0;34m(image_path, bins)\u001b[0m\n\u001b[1;32m     22\u001b[0m     \u001b[0;31m# Create the plot\u001b[0m\u001b[0;34m\u001b[0m\u001b[0;34m\u001b[0m\u001b[0m\n\u001b[1;32m     23\u001b[0m     \u001b[0mfig\u001b[0m\u001b[0;34m,\u001b[0m \u001b[0max\u001b[0m \u001b[0;34m=\u001b[0m \u001b[0mplt\u001b[0m\u001b[0;34m.\u001b[0m\u001b[0msubplots\u001b[0m\u001b[0;34m(\u001b[0m\u001b[0mfigsize\u001b[0m\u001b[0;34m=\u001b[0m\u001b[0;34m(\u001b[0m\u001b[0;36m8\u001b[0m\u001b[0;34m,\u001b[0m \u001b[0;36m6\u001b[0m\u001b[0;34m)\u001b[0m\u001b[0;34m)\u001b[0m\u001b[0;34m\u001b[0m\u001b[0;34m\u001b[0m\u001b[0m\n\u001b[0;32m---> 24\u001b[0;31m     \u001b[0mpcm\u001b[0m \u001b[0;34m=\u001b[0m \u001b[0max\u001b[0m\u001b[0;34m.\u001b[0m\u001b[0mpcolormesh\u001b[0m\u001b[0;34m(\u001b[0m\u001b[0mx_edges\u001b[0m\u001b[0;34m,\u001b[0m \u001b[0my_edges\u001b[0m\u001b[0;34m,\u001b[0m \u001b[0mlog_hist\u001b[0m\u001b[0;34m,\u001b[0m \u001b[0mnorm\u001b[0m\u001b[0;34m=\u001b[0m\u001b[0mcolors\u001b[0m\u001b[0;34m.\u001b[0m\u001b[0mLogNorm\u001b[0m\u001b[0;34m(\u001b[0m\u001b[0mvmin\u001b[0m\u001b[0;34m=\u001b[0m\u001b[0mlog_hist\u001b[0m\u001b[0;34m.\u001b[0m\u001b[0mmin\u001b[0m\u001b[0;34m(\u001b[0m\u001b[0;34m)\u001b[0m\u001b[0;34m,\u001b[0m \u001b[0mvmax\u001b[0m\u001b[0;34m=\u001b[0m\u001b[0mlog_hist\u001b[0m\u001b[0;34m.\u001b[0m\u001b[0mmax\u001b[0m\u001b[0;34m(\u001b[0m\u001b[0;34m)\u001b[0m\u001b[0;34m)\u001b[0m\u001b[0;34m,\u001b[0m \u001b[0mcmap\u001b[0m\u001b[0;34m=\u001b[0m\u001b[0;34m'viridis'\u001b[0m\u001b[0;34m)\u001b[0m\u001b[0;34m\u001b[0m\u001b[0;34m\u001b[0m\u001b[0m\n\u001b[0m\u001b[1;32m     25\u001b[0m     \u001b[0mfig\u001b[0m\u001b[0;34m.\u001b[0m\u001b[0mcolorbar\u001b[0m\u001b[0;34m(\u001b[0m\u001b[0mpcm\u001b[0m\u001b[0;34m,\u001b[0m \u001b[0max\u001b[0m\u001b[0;34m=\u001b[0m\u001b[0max\u001b[0m\u001b[0;34m,\u001b[0m \u001b[0mlabel\u001b[0m\u001b[0;34m=\u001b[0m\u001b[0;34m'Logarithmic Frequency'\u001b[0m\u001b[0;34m)\u001b[0m\u001b[0;34m\u001b[0m\u001b[0;34m\u001b[0m\u001b[0m\n\u001b[1;32m     26\u001b[0m \u001b[0;34m\u001b[0m\u001b[0m\n",
            "\u001b[0;32m/usr/local/lib/python3.10/dist-packages/matplotlib/__init__.py\u001b[0m in \u001b[0;36minner\u001b[0;34m(ax, data, *args, **kwargs)\u001b[0m\n\u001b[1;32m   1440\u001b[0m     \u001b[0;32mdef\u001b[0m \u001b[0minner\u001b[0m\u001b[0;34m(\u001b[0m\u001b[0max\u001b[0m\u001b[0;34m,\u001b[0m \u001b[0;34m*\u001b[0m\u001b[0margs\u001b[0m\u001b[0;34m,\u001b[0m \u001b[0mdata\u001b[0m\u001b[0;34m=\u001b[0m\u001b[0;32mNone\u001b[0m\u001b[0;34m,\u001b[0m \u001b[0;34m**\u001b[0m\u001b[0mkwargs\u001b[0m\u001b[0;34m)\u001b[0m\u001b[0;34m:\u001b[0m\u001b[0;34m\u001b[0m\u001b[0;34m\u001b[0m\u001b[0m\n\u001b[1;32m   1441\u001b[0m         \u001b[0;32mif\u001b[0m \u001b[0mdata\u001b[0m \u001b[0;32mis\u001b[0m \u001b[0;32mNone\u001b[0m\u001b[0;34m:\u001b[0m\u001b[0;34m\u001b[0m\u001b[0;34m\u001b[0m\u001b[0m\n\u001b[0;32m-> 1442\u001b[0;31m             \u001b[0;32mreturn\u001b[0m \u001b[0mfunc\u001b[0m\u001b[0;34m(\u001b[0m\u001b[0max\u001b[0m\u001b[0;34m,\u001b[0m \u001b[0;34m*\u001b[0m\u001b[0mmap\u001b[0m\u001b[0;34m(\u001b[0m\u001b[0msanitize_sequence\u001b[0m\u001b[0;34m,\u001b[0m \u001b[0margs\u001b[0m\u001b[0;34m)\u001b[0m\u001b[0;34m,\u001b[0m \u001b[0;34m**\u001b[0m\u001b[0mkwargs\u001b[0m\u001b[0;34m)\u001b[0m\u001b[0;34m\u001b[0m\u001b[0;34m\u001b[0m\u001b[0m\n\u001b[0m\u001b[1;32m   1443\u001b[0m \u001b[0;34m\u001b[0m\u001b[0m\n\u001b[1;32m   1444\u001b[0m         \u001b[0mbound\u001b[0m \u001b[0;34m=\u001b[0m \u001b[0mnew_sig\u001b[0m\u001b[0;34m.\u001b[0m\u001b[0mbind\u001b[0m\u001b[0;34m(\u001b[0m\u001b[0max\u001b[0m\u001b[0;34m,\u001b[0m \u001b[0;34m*\u001b[0m\u001b[0margs\u001b[0m\u001b[0;34m,\u001b[0m \u001b[0;34m**\u001b[0m\u001b[0mkwargs\u001b[0m\u001b[0;34m)\u001b[0m\u001b[0;34m\u001b[0m\u001b[0;34m\u001b[0m\u001b[0m\n",
            "\u001b[0;32m/usr/local/lib/python3.10/dist-packages/matplotlib/axes/_axes.py\u001b[0m in \u001b[0;36mpcolormesh\u001b[0;34m(self, alpha, norm, cmap, vmin, vmax, shading, antialiased, *args, **kwargs)\u001b[0m\n\u001b[1;32m   6218\u001b[0m         \u001b[0mkwargs\u001b[0m\u001b[0;34m.\u001b[0m\u001b[0msetdefault\u001b[0m\u001b[0;34m(\u001b[0m\u001b[0;34m'edgecolors'\u001b[0m\u001b[0;34m,\u001b[0m \u001b[0;34m'none'\u001b[0m\u001b[0;34m)\u001b[0m\u001b[0;34m\u001b[0m\u001b[0;34m\u001b[0m\u001b[0m\n\u001b[1;32m   6219\u001b[0m \u001b[0;34m\u001b[0m\u001b[0m\n\u001b[0;32m-> 6220\u001b[0;31m         X, Y, C, shading = self._pcolorargs('pcolormesh', *args,\n\u001b[0m\u001b[1;32m   6221\u001b[0m                                             shading=shading, kwargs=kwargs)\n\u001b[1;32m   6222\u001b[0m         \u001b[0mcoords\u001b[0m \u001b[0;34m=\u001b[0m \u001b[0mnp\u001b[0m\u001b[0;34m.\u001b[0m\u001b[0mstack\u001b[0m\u001b[0;34m(\u001b[0m\u001b[0;34m[\u001b[0m\u001b[0mX\u001b[0m\u001b[0;34m,\u001b[0m \u001b[0mY\u001b[0m\u001b[0;34m]\u001b[0m\u001b[0;34m,\u001b[0m \u001b[0maxis\u001b[0m\u001b[0;34m=\u001b[0m\u001b[0;34m-\u001b[0m\u001b[0;36m1\u001b[0m\u001b[0;34m)\u001b[0m\u001b[0;34m\u001b[0m\u001b[0;34m\u001b[0m\u001b[0m\n",
            "\u001b[0;32m/usr/local/lib/python3.10/dist-packages/matplotlib/axes/_axes.py\u001b[0m in \u001b[0;36m_pcolorargs\u001b[0;34m(self, funcname, shading, *args, **kwargs)\u001b[0m\n\u001b[1;32m   5749\u001b[0m         \u001b[0;32mif\u001b[0m \u001b[0mshading\u001b[0m \u001b[0;34m==\u001b[0m \u001b[0;34m'flat'\u001b[0m\u001b[0;34m:\u001b[0m\u001b[0;34m\u001b[0m\u001b[0;34m\u001b[0m\u001b[0m\n\u001b[1;32m   5750\u001b[0m             \u001b[0;32mif\u001b[0m \u001b[0;34m(\u001b[0m\u001b[0mNx\u001b[0m\u001b[0;34m,\u001b[0m \u001b[0mNy\u001b[0m\u001b[0;34m)\u001b[0m \u001b[0;34m!=\u001b[0m \u001b[0;34m(\u001b[0m\u001b[0mncols\u001b[0m \u001b[0;34m+\u001b[0m \u001b[0;36m1\u001b[0m\u001b[0;34m,\u001b[0m \u001b[0mnrows\u001b[0m \u001b[0;34m+\u001b[0m \u001b[0;36m1\u001b[0m\u001b[0;34m)\u001b[0m\u001b[0;34m:\u001b[0m\u001b[0;34m\u001b[0m\u001b[0;34m\u001b[0m\u001b[0m\n\u001b[0;32m-> 5751\u001b[0;31m                 raise TypeError(f\"Dimensions of C {C.shape} should\"\n\u001b[0m\u001b[1;32m   5752\u001b[0m                                 \u001b[0;34mf\" be one smaller than X({Nx}) and Y({Ny})\"\u001b[0m\u001b[0;34m\u001b[0m\u001b[0;34m\u001b[0m\u001b[0m\n\u001b[1;32m   5753\u001b[0m                                 \u001b[0;34mf\" while using shading='flat'\"\u001b[0m\u001b[0;34m\u001b[0m\u001b[0;34m\u001b[0m\u001b[0m\n",
            "\u001b[0;31mTypeError\u001b[0m: Dimensions of C (256, 512) should be one smaller than X(257) and Y(513) while using shading='flat' see help(pcolormesh)"
          ]
        },
        {
          "output_type": "display_data",
          "data": {
            "text/plain": [
              "<Figure size 800x600 with 1 Axes>"
            ],
            "image/png": "[encoded data removed]"
          },
          "metadata": {}
        }
      ]
    },
    {
      "cell_type": "code",
      "source": [],
      "metadata": {
        "id": "kbs4dtaNMy4C"
      },
      "execution_count": null,
      "outputs": []
    },
    {
      "cell_type": "code",
      "source": [],
      "metadata": {
        "id": "LU2BMtczMy68"
      },
      "execution_count": null,
      "outputs": []
    },
    {
      "cell_type": "code",
      "source": [],
      "metadata": {
        "id": "R-fIOIbEMzBe"
      },
      "execution_count": null,
      "outputs": []
    },
    {
      "cell_type": "code",
      "source": [],
      "metadata": {
        "id": "PFf33vVhMzDC"
      },
      "execution_count": null,
      "outputs": []
    },
    {
      "cell_type": "code",
      "source": [
        "color_histogram = np.zeros((224 * 224 * len(image_set)))\n",
        "\n",
        "img_arr = np.array(Image.open(data_path + image_set[0]))\n",
        "resized_img = cv2.resize(img_arr, (224, 224))\n",
        "flat_img = resized_img.flatten()\n",
        "\n",
        "for j in range(len(flat_img)):\n",
        "    color_histogram[j] = flat_img[j]"
      ],
      "metadata": {
        "id": "qj6Z2VeRHQfY"
      },
      "execution_count": null,
      "outputs": []
    },
    {
      "cell_type": "code",
      "source": [
        "hist = color_histogram[color_histogram!=0]"
      ],
      "metadata": {
        "id": "2CVb4YiZHQiH"
      },
      "execution_count": null,
      "outputs": []
    },
    {
      "cell_type": "code",
      "source": [
        "len(hist)"
      ],
      "metadata": {
        "colab": {
          "base_uri": "https://localhost:8080/"
        },
        "id": "9OnmKi4CHIQ5",
        "outputId": "790ff09b-6157-451a-c47c-61869b758703"
      },
      "execution_count": null,
      "outputs": [
        {
          "output_type": "execute_result",
          "data": {
            "text/plain": [
              "150519"
            ]
          },
          "metadata": {},
          "execution_count": 34
        }
      ]
    },
    {
      "cell_type": "code",
      "source": [
        "os.listdir(data_path)"
      ],
      "metadata": {
        "id": "prDjl0KPIAVb"
      },
      "execution_count": null,
      "outputs": []
    },
    {
      "cell_type": "code",
      "source": [
        "img_path = \"drive/MyDrive/Zooniverse_Images2/3424449.jpg\""
      ],
      "metadata": {
        "id": "FCavvWStH8nx"
      },
      "execution_count": null,
      "outputs": []
    },
    {
      "cell_type": "code",
      "source": [
        "test_img = cv2.imread(img_path)"
      ],
      "metadata": {
        "id": "Jmf30CbwH8s2"
      },
      "execution_count": null,
      "outputs": []
    },
    {
      "cell_type": "code",
      "source": [
        "hist_arr = [0] * 3\n",
        "color_arr = ['red', 'green', 'blue']\n",
        "for i in range(3):\n",
        "  hist = test_img[:,:,i].flatten()\n",
        "  hist_arr[i] = hist"
      ],
      "metadata": {
        "id": "oWXtMYHWImVT"
      },
      "execution_count": null,
      "outputs": []
    },
    {
      "cell_type": "code",
      "source": [
        "test_bins = np.linspace(0, 255, 120)"
      ],
      "metadata": {
        "id": "GAlA7X27IeKU"
      },
      "execution_count": null,
      "outputs": []
    },
    {
      "cell_type": "code",
      "source": [
        "hist_arr[0]"
      ],
      "metadata": {
        "colab": {
          "base_uri": "https://localhost:8080/"
        },
        "id": "c8tCxkR0I77e",
        "outputId": "8858d433-9461-43f0-ad7e-0f090c74940d"
      },
      "execution_count": null,
      "outputs": [
        {
          "output_type": "execute_result",
          "data": {
            "text/plain": [
              "array([127, 130, 131, ..., 119, 115, 114], dtype=uint8)"
            ]
          },
          "metadata": {},
          "execution_count": 48
        }
      ]
    },
    {
      "cell_type": "code",
      "source": [],
      "metadata": {
        "id": "ZJXKp84HJlap"
      },
      "execution_count": null,
      "outputs": []
    },
    {
      "cell_type": "code",
      "source": [
        "plt.title(\"Color Histogram\")\n",
        "plt.xlabel(\"PIVs\")\n",
        "plt.ylabel(\"Relative Frequency of PIV\")\n",
        "\n",
        "plt.yscale('linear')\n",
        "\n",
        "plt.gcf().set_size_inches(7,3)\n",
        "for i in range(2):\n",
        "  plt.hist(hist_arr[i], test_bins, ls = 'dashed',edgecolor = None, density = False, histtype = 'barstacked',\n",
        "           alpha = 0.5, fill=True, norm = colors.LogNorm)\n",
        "\n",
        "plt.show()"
      ],
      "metadata": {
        "colab": {
          "base_uri": "https://localhost:8080/",
          "height": 727
        },
        "id": "nxkdAn4RH8vo",
        "outputId": "239e79ac-36b6-4549-cc74-29d772d086e3"
      },
      "execution_count": null,
      "outputs": [
        {
          "output_type": "error",
          "ename": "AttributeError",
          "evalue": "ignored",
          "traceback": [
            "\u001b[0;31m---------------------------------------------------------------------------\u001b[0m",
            "\u001b[0;31mAttributeError\u001b[0m                            Traceback (most recent call last)",
            "\u001b[0;32m<ipython-input-89-8cbf74d1d43d>\u001b[0m in \u001b[0;36m<cell line: 8>\u001b[0;34m()\u001b[0m\n\u001b[1;32m      7\u001b[0m \u001b[0mplt\u001b[0m\u001b[0;34m.\u001b[0m\u001b[0mgcf\u001b[0m\u001b[0;34m(\u001b[0m\u001b[0;34m)\u001b[0m\u001b[0;34m.\u001b[0m\u001b[0mset_size_inches\u001b[0m\u001b[0;34m(\u001b[0m\u001b[0;36m7\u001b[0m\u001b[0;34m,\u001b[0m\u001b[0;36m3\u001b[0m\u001b[0;34m)\u001b[0m\u001b[0;34m\u001b[0m\u001b[0;34m\u001b[0m\u001b[0m\n\u001b[1;32m      8\u001b[0m \u001b[0;32mfor\u001b[0m \u001b[0mi\u001b[0m \u001b[0;32min\u001b[0m \u001b[0mrange\u001b[0m\u001b[0;34m(\u001b[0m\u001b[0;36m2\u001b[0m\u001b[0;34m)\u001b[0m\u001b[0;34m:\u001b[0m\u001b[0;34m\u001b[0m\u001b[0;34m\u001b[0m\u001b[0m\n\u001b[0;32m----> 9\u001b[0;31m   plt.hist(hist_arr[i], test_bins, ls = 'dashed',edgecolor = None, density = False, histtype = 'barstacked', \n\u001b[0m\u001b[1;32m     10\u001b[0m            alpha = 0.5, fill=True, norm = colors.LogNorm)\n\u001b[1;32m     11\u001b[0m \u001b[0;34m\u001b[0m\u001b[0m\n",
            "\u001b[0;32m/usr/local/lib/python3.10/dist-packages/matplotlib/pyplot.py\u001b[0m in \u001b[0;36mhist\u001b[0;34m(x, bins, range, density, weights, cumulative, bottom, histtype, align, orientation, rwidth, log, color, label, stacked, data, **kwargs)\u001b[0m\n\u001b[1;32m   2643\u001b[0m         \u001b[0morientation\u001b[0m\u001b[0;34m=\u001b[0m\u001b[0;34m'vertical'\u001b[0m\u001b[0;34m,\u001b[0m \u001b[0mrwidth\u001b[0m\u001b[0;34m=\u001b[0m\u001b[0;32mNone\u001b[0m\u001b[0;34m,\u001b[0m \u001b[0mlog\u001b[0m\u001b[0;34m=\u001b[0m\u001b[0;32mFalse\u001b[0m\u001b[0;34m,\u001b[0m \u001b[0mcolor\u001b[0m\u001b[0;34m=\u001b[0m\u001b[0;32mNone\u001b[0m\u001b[0;34m,\u001b[0m\u001b[0;34m\u001b[0m\u001b[0;34m\u001b[0m\u001b[0m\n\u001b[1;32m   2644\u001b[0m         label=None, stacked=False, *, data=None, **kwargs):\n\u001b[0;32m-> 2645\u001b[0;31m     return gca().hist(\n\u001b[0m\u001b[1;32m   2646\u001b[0m         \u001b[0mx\u001b[0m\u001b[0;34m,\u001b[0m \u001b[0mbins\u001b[0m\u001b[0;34m=\u001b[0m\u001b[0mbins\u001b[0m\u001b[0;34m,\u001b[0m \u001b[0mrange\u001b[0m\u001b[0;34m=\u001b[0m\u001b[0mrange\u001b[0m\u001b[0;34m,\u001b[0m \u001b[0mdensity\u001b[0m\u001b[0;34m=\u001b[0m\u001b[0mdensity\u001b[0m\u001b[0;34m,\u001b[0m \u001b[0mweights\u001b[0m\u001b[0;34m=\u001b[0m\u001b[0mweights\u001b[0m\u001b[0;34m,\u001b[0m\u001b[0;34m\u001b[0m\u001b[0;34m\u001b[0m\u001b[0m\n\u001b[1;32m   2647\u001b[0m         \u001b[0mcumulative\u001b[0m\u001b[0;34m=\u001b[0m\u001b[0mcumulative\u001b[0m\u001b[0;34m,\u001b[0m \u001b[0mbottom\u001b[0m\u001b[0;34m=\u001b[0m\u001b[0mbottom\u001b[0m\u001b[0;34m,\u001b[0m \u001b[0mhisttype\u001b[0m\u001b[0;34m=\u001b[0m\u001b[0mhisttype\u001b[0m\u001b[0;34m,\u001b[0m\u001b[0;34m\u001b[0m\u001b[0;34m\u001b[0m\u001b[0m\n",
            "\u001b[0;32m/usr/local/lib/python3.10/dist-packages/matplotlib/__init__.py\u001b[0m in \u001b[0;36minner\u001b[0;34m(ax, data, *args, **kwargs)\u001b[0m\n\u001b[1;32m   1440\u001b[0m     \u001b[0;32mdef\u001b[0m \u001b[0minner\u001b[0m\u001b[0;34m(\u001b[0m\u001b[0max\u001b[0m\u001b[0;34m,\u001b[0m \u001b[0;34m*\u001b[0m\u001b[0margs\u001b[0m\u001b[0;34m,\u001b[0m \u001b[0mdata\u001b[0m\u001b[0;34m=\u001b[0m\u001b[0;32mNone\u001b[0m\u001b[0;34m,\u001b[0m \u001b[0;34m**\u001b[0m\u001b[0mkwargs\u001b[0m\u001b[0;34m)\u001b[0m\u001b[0;34m:\u001b[0m\u001b[0;34m\u001b[0m\u001b[0;34m\u001b[0m\u001b[0m\n\u001b[1;32m   1441\u001b[0m         \u001b[0;32mif\u001b[0m \u001b[0mdata\u001b[0m \u001b[0;32mis\u001b[0m \u001b[0;32mNone\u001b[0m\u001b[0;34m:\u001b[0m\u001b[0;34m\u001b[0m\u001b[0;34m\u001b[0m\u001b[0m\n\u001b[0;32m-> 1442\u001b[0;31m             \u001b[0;32mreturn\u001b[0m \u001b[0mfunc\u001b[0m\u001b[0;34m(\u001b[0m\u001b[0max\u001b[0m\u001b[0;34m,\u001b[0m \u001b[0;34m*\u001b[0m\u001b[0mmap\u001b[0m\u001b[0;34m(\u001b[0m\u001b[0msanitize_sequence\u001b[0m\u001b[0;34m,\u001b[0m \u001b[0margs\u001b[0m\u001b[0;34m)\u001b[0m\u001b[0;34m,\u001b[0m \u001b[0;34m**\u001b[0m\u001b[0mkwargs\u001b[0m\u001b[0;34m)\u001b[0m\u001b[0;34m\u001b[0m\u001b[0;34m\u001b[0m\u001b[0m\n\u001b[0m\u001b[1;32m   1443\u001b[0m \u001b[0;34m\u001b[0m\u001b[0m\n\u001b[1;32m   1444\u001b[0m         \u001b[0mbound\u001b[0m \u001b[0;34m=\u001b[0m \u001b[0mnew_sig\u001b[0m\u001b[0;34m.\u001b[0m\u001b[0mbind\u001b[0m\u001b[0;34m(\u001b[0m\u001b[0max\u001b[0m\u001b[0;34m,\u001b[0m \u001b[0;34m*\u001b[0m\u001b[0margs\u001b[0m\u001b[0;34m,\u001b[0m \u001b[0;34m**\u001b[0m\u001b[0mkwargs\u001b[0m\u001b[0;34m)\u001b[0m\u001b[0;34m\u001b[0m\u001b[0;34m\u001b[0m\u001b[0m\n",
            "\u001b[0;32m/usr/local/lib/python3.10/dist-packages/matplotlib/axes/_axes.py\u001b[0m in \u001b[0;36mhist\u001b[0;34m(self, x, bins, range, density, weights, cumulative, bottom, histtype, align, orientation, rwidth, log, color, label, stacked, **kwargs)\u001b[0m\n\u001b[1;32m   6941\u001b[0m             \u001b[0;32mif\u001b[0m \u001b[0mpatch\u001b[0m\u001b[0;34m:\u001b[0m\u001b[0;34m\u001b[0m\u001b[0;34m\u001b[0m\u001b[0m\n\u001b[1;32m   6942\u001b[0m                 \u001b[0mp\u001b[0m \u001b[0;34m=\u001b[0m \u001b[0mpatch\u001b[0m\u001b[0;34m[\u001b[0m\u001b[0;36m0\u001b[0m\u001b[0;34m]\u001b[0m\u001b[0;34m\u001b[0m\u001b[0;34m\u001b[0m\u001b[0m\n\u001b[0;32m-> 6943\u001b[0;31m                 \u001b[0mp\u001b[0m\u001b[0;34m.\u001b[0m\u001b[0m_internal_update\u001b[0m\u001b[0;34m(\u001b[0m\u001b[0mkwargs\u001b[0m\u001b[0;34m)\u001b[0m\u001b[0;34m\u001b[0m\u001b[0;34m\u001b[0m\u001b[0m\n\u001b[0m\u001b[1;32m   6944\u001b[0m                 \u001b[0;32mif\u001b[0m \u001b[0mlbl\u001b[0m \u001b[0;32mis\u001b[0m \u001b[0;32mnot\u001b[0m \u001b[0;32mNone\u001b[0m\u001b[0;34m:\u001b[0m\u001b[0;34m\u001b[0m\u001b[0;34m\u001b[0m\u001b[0m\n\u001b[1;32m   6945\u001b[0m                     \u001b[0mp\u001b[0m\u001b[0;34m.\u001b[0m\u001b[0mset_label\u001b[0m\u001b[0;34m(\u001b[0m\u001b[0mlbl\u001b[0m\u001b[0;34m)\u001b[0m\u001b[0;34m\u001b[0m\u001b[0;34m\u001b[0m\u001b[0m\n",
            "\u001b[0;32m/usr/local/lib/python3.10/dist-packages/matplotlib/artist.py\u001b[0m in \u001b[0;36m_internal_update\u001b[0;34m(self, kwargs)\u001b[0m\n\u001b[1;32m   1221\u001b[0m         \u001b[0mThe\u001b[0m \u001b[0mlack\u001b[0m \u001b[0mof\u001b[0m \u001b[0mprenormalization\u001b[0m \u001b[0;32mis\u001b[0m \u001b[0mto\u001b[0m \u001b[0mmaintain\u001b[0m \u001b[0mbackcompatibility\u001b[0m\u001b[0;34m.\u001b[0m\u001b[0;34m\u001b[0m\u001b[0;34m\u001b[0m\u001b[0m\n\u001b[1;32m   1222\u001b[0m         \"\"\"\n\u001b[0;32m-> 1223\u001b[0;31m         return self._update_props(\n\u001b[0m\u001b[1;32m   1224\u001b[0m             \u001b[0mkwargs\u001b[0m\u001b[0;34m,\u001b[0m \u001b[0;34m\"{cls.__name__}.set() got an unexpected keyword argument \"\u001b[0m\u001b[0;34m\u001b[0m\u001b[0;34m\u001b[0m\u001b[0m\n\u001b[1;32m   1225\u001b[0m             \"{prop_name!r}\")\n",
            "\u001b[0;32m/usr/local/lib/python3.10/dist-packages/matplotlib/artist.py\u001b[0m in \u001b[0;36m_update_props\u001b[0;34m(self, props, errfmt)\u001b[0m\n\u001b[1;32m   1195\u001b[0m                     \u001b[0mfunc\u001b[0m \u001b[0;34m=\u001b[0m \u001b[0mgetattr\u001b[0m\u001b[0;34m(\u001b[0m\u001b[0mself\u001b[0m\u001b[0;34m,\u001b[0m \u001b[0;34mf\"set_{k}\"\u001b[0m\u001b[0;34m,\u001b[0m \u001b[0;32mNone\u001b[0m\u001b[0;34m)\u001b[0m\u001b[0;34m\u001b[0m\u001b[0;34m\u001b[0m\u001b[0m\n\u001b[1;32m   1196\u001b[0m                     \u001b[0;32mif\u001b[0m \u001b[0;32mnot\u001b[0m \u001b[0mcallable\u001b[0m\u001b[0;34m(\u001b[0m\u001b[0mfunc\u001b[0m\u001b[0;34m)\u001b[0m\u001b[0;34m:\u001b[0m\u001b[0;34m\u001b[0m\u001b[0;34m\u001b[0m\u001b[0m\n\u001b[0;32m-> 1197\u001b[0;31m                         raise AttributeError(\n\u001b[0m\u001b[1;32m   1198\u001b[0m                             errfmt.format(cls=type(self), prop_name=k))\n\u001b[1;32m   1199\u001b[0m                     \u001b[0mret\u001b[0m\u001b[0;34m.\u001b[0m\u001b[0mappend\u001b[0m\u001b[0;34m(\u001b[0m\u001b[0mfunc\u001b[0m\u001b[0;34m(\u001b[0m\u001b[0mv\u001b[0m\u001b[0;34m)\u001b[0m\u001b[0;34m)\u001b[0m\u001b[0;34m\u001b[0m\u001b[0;34m\u001b[0m\u001b[0m\n",
            "\u001b[0;31mAttributeError\u001b[0m: Rectangle.set() got an unexpected keyword argument 'norm'"
          ]
        },
        {
          "output_type": "display_data",
          "data": {
            "text/plain": [
              "<Figure size 700x300 with 1 Axes>"
            ],
            "image/png": "[encoded data removed]"
          },
          "metadata": {}
        }
      ]
    },
    {
      "cell_type": "code",
      "source": [
        "plt.title(\"Color Histogram of PIVs\")\n",
        "plt.xlabel(\"PIVs\")\n",
        "plt.ylabel(\"Relative Frequency of PIVs\")\n",
        "\n",
        "plt.yscale('linear')\n",
        "\n",
        "plt.gcf().set_size_inches(7,3)\n",
        "for i in range(2):\n",
        "  plt.hist(hist_arr[i], test_bins, edgecolor = None, density = False, histtype = 'barstacked',\n",
        "           alpha = 0.5, color = color_arr[i])\n",
        "  plt.legend(['Red', 'Green'])\n",
        "\n",
        "plt.show()"
      ],
      "metadata": {
        "colab": {
          "base_uri": "https://localhost:8080/",
          "height": 333
        },
        "id": "6X_GSpHXMIo_",
        "outputId": "6d67c902-3d58-4bbc-9fce-205f4947f7a0"
      },
      "execution_count": null,
      "outputs": [
        {
          "output_type": "display_data",
          "data": {
            "text/plain": [
              "<Figure size 700x300 with 1 Axes>"
            ],
            "image/png": "[encoded data removed]"
          },
          "metadata": {}
        }
      ]
    },
    {
      "cell_type": "code",
      "source": [],
      "metadata": {
        "id": "k89sdDWxHIce"
      },
      "execution_count": null,
      "outputs": []
    },
    {
      "cell_type": "code",
      "source": [],
      "metadata": {
        "id": "_IL4K8gNHIhZ"
      },
      "execution_count": null,
      "outputs": []
    },
    {
      "cell_type": "code",
      "source": [],
      "metadata": {
        "id": "Q4ds5KafHIl_"
      },
      "execution_count": null,
      "outputs": []
    },
    {
      "cell_type": "markdown",
      "source": [
        "## data preprocessing"
      ],
      "metadata": {
        "id": "U3cSG_OEHLI6"
      }
    },
    {
      "cell_type": "code",
      "source": [
        "!pip install skorch"
      ],
      "metadata": {
        "colab": {
          "base_uri": "https://localhost:8080/"
        },
        "id": "ZvIvHdzot3WA",
        "outputId": "8be91b48-8da9-4769-c478-aaad660a04ff"
      },
      "execution_count": null,
      "outputs": [
        {
          "output_type": "stream",
          "name": "stdout",
          "text": [
            "Collecting skorch\n",
            "  Downloading skorch-0.14.0-py3-none-any.whl (221 kB)\n",
            "\u001b[?25l     \u001b[90m━━━━━━━━━━━━━━━━━━━━━━━━━━━━━━━━━━━━━━━━\u001b[0m \u001b[32m0.0/221.3 kB\u001b[0m \u001b[31m?\u001b[0m eta \u001b[36m-:--:--\u001b[0m\r\u001b[2K     \u001b[91m━━━━━━━━━━━━━━\u001b[0m\u001b[91m╸\u001b[0m\u001b[90m━━━━━━━━━━━━━━━━━━━━━━━━━\u001b[0m \u001b[32m81.9/221.3 kB\u001b[0m \u001b[31m2.2 MB/s\u001b[0m eta \u001b[36m0:00:01\u001b[0m\r\u001b[2K     \u001b[90m━━━━━━━━━━━━━━━━━━━━━━━━━━━━━━━━━━━━━━━\u001b[0m \u001b[32m221.3/221.3 kB\u001b[0m \u001b[31m3.9 MB/s\u001b[0m eta \u001b[36m0:00:00\u001b[0m\n",
            "\u001b[?25hRequirement already satisfied: numpy>=1.13.3 in /usr/local/lib/python3.10/dist-packages (from skorch) (1.22.4)\n",
            "Requirement already satisfied: scikit-learn>=0.22.0 in /usr/local/lib/python3.10/dist-packages (from skorch) (1.2.2)\n",
            "Requirement already satisfied: scipy>=1.1.0 in /usr/local/lib/python3.10/dist-packages (from skorch) (1.10.1)\n",
            "Requirement already satisfied: tabulate>=0.7.7 in /usr/local/lib/python3.10/dist-packages (from skorch) (0.9.0)\n",
            "Requirement already satisfied: tqdm>=4.14.0 in /usr/local/lib/python3.10/dist-packages (from skorch) (4.65.0)\n",
            "Requirement already satisfied: joblib>=1.1.1 in /usr/local/lib/python3.10/dist-packages (from scikit-learn>=0.22.0->skorch) (1.3.1)\n",
            "Requirement already satisfied: threadpoolctl>=2.0.0 in /usr/local/lib/python3.10/dist-packages (from scikit-learn>=0.22.0->skorch) (3.2.0)\n",
            "Installing collected packages: skorch\n",
            "Successfully installed skorch-0.14.0\n"
          ]
        }
      ]
    },
    {
      "cell_type": "code",
      "execution_count": null,
      "metadata": {
        "id": "X8eJ8CVFCQxp"
      },
      "outputs": [],
      "source": [
        "import os\n",
        "import numpy as np\n",
        "import torch\n",
        "import pandas as pd"
      ]
    },
    {
      "cell_type": "code",
      "source": [
        "from skimage.morphology import skeletonize\n",
        "from skorch import NeuralNetClassifier\n",
        "from skorch.callbacks import LRScheduler, Checkpoint, EpochScoring, EarlyStopping\n",
        "from skorch.dataset import Dataset\n",
        "from skorch.helper import predefined_split\n",
        "import torch\n",
        "import torch.nn as nn\n",
        "import torch.optim as optim\n",
        "from torchvision import datasets, models, transforms\n",
        "from sklearn.model_selection import train_test_split\n",
        "from sklearn.metrics import roc_auc_score, roc_curve\n",
        "from sklearn.utils import shuffle\n",
        "\n",
        "from tqdm import tqdm\n",
        "import re"
      ],
      "metadata": {
        "id": "2bDerzhWCXvr"
      },
      "execution_count": null,
      "outputs": []
    },
    {
      "cell_type": "code",
      "source": [
        "from google.colab import drive\n",
        "drive.mount('/content/drive')"
      ],
      "metadata": {
        "colab": {
          "base_uri": "https://localhost:8080/"
        },
        "id": "7PBrPW3W7GB8",
        "outputId": "b62e2bf9-91cf-4aac-b543-8377adba8a23"
      },
      "execution_count": null,
      "outputs": [
        {
          "output_type": "stream",
          "name": "stdout",
          "text": [
            "Drive already mounted at /content/drive; to attempt to forcibly remount, call drive.mount(\"/content/drive\", force_remount=True).\n"
          ]
        }
      ]
    },
    {
      "cell_type": "code",
      "source": [
        "import warnings\n",
        "warnings.filterwarnings(\"ignore\")"
      ],
      "metadata": {
        "id": "w3OoIqdQA6Do"
      },
      "execution_count": null,
      "outputs": []
    },
    {
      "cell_type": "code",
      "source": [
        "class PretrainedModel(nn.Module):\n",
        "    def __init__(self, output_features):\n",
        "        super().__init__()\n",
        "        model = models.resnet18(pretrained=True)\n",
        "        num_ftrs = model.fc.in_features\n",
        "        model.fc = nn.Linear(num_ftrs, output_features)\n",
        "        self.model = model\n",
        "\n",
        "    def forward(self, x):\n",
        "        return self.model(x)"
      ],
      "metadata": {
        "id": "M32I0EtGGWEn"
      },
      "execution_count": null,
      "outputs": []
    },
    {
      "cell_type": "code",
      "source": [
        "path = \"drive/MyDrive/Colab Notebooks/outputs/checkpoints/water/augmentation_very_high_lr/model.pt\""
      ],
      "metadata": {
        "id": "yRweY13DD6O1"
      },
      "execution_count": null,
      "outputs": []
    },
    {
      "cell_type": "code",
      "source": [
        "model = torch.load(path)  # map_location=torch.device('cpu')"
      ],
      "metadata": {
        "id": "vo2bpklED5nk"
      },
      "execution_count": null,
      "outputs": []
    },
    {
      "cell_type": "code",
      "source": [
        "model = PretrainedModel(2)\n",
        "optimizer = torch.optim.Adam(model.parameters(), lr=1e-3) # change to whatever optimizer was used\n",
        "\n",
        "checkpoint = torch.load(path) # , map_location=torch.device('cpu')\n",
        "model.load_state_dict(checkpoint)\n",
        "conv=model.model"
      ],
      "metadata": {
        "colab": {
          "base_uri": "https://localhost:8080/"
        },
        "id": "UyE5BgqGu15C",
        "outputId": "53e98135-6ff0-42e6-85c3-dc595eab3637"
      },
      "execution_count": null,
      "outputs": [
        {
          "output_type": "stream",
          "name": "stderr",
          "text": [
            "Downloading: \"https://download.pytorch.org/models/resnet18-f37072fd.pth\" to /root/.cache/torch/hub/checkpoints/resnet18-f37072fd.pth\n",
            "100%|██████████| 44.7M/44.7M [00:00<00:00, 120MB/s]\n"
          ]
        }
      ]
    },
    {
      "cell_type": "code",
      "source": [],
      "metadata": {
        "id": "XI0EDWpsyc4b"
      },
      "execution_count": null,
      "outputs": []
    },
    {
      "cell_type": "code",
      "source": [
        "activation = {}\n",
        "def get_activation(name):\n",
        "    def hook(model, input, output):\n",
        "        activation[name] = output.detach()\n",
        "    return hook"
      ],
      "metadata": {
        "id": "8cIiVZtkvPrN"
      },
      "execution_count": null,
      "outputs": []
    },
    {
      "cell_type": "code",
      "source": [
        "# making dataframe with just imagename from folder (98 images) and the data of 512 length in each own individual column\n",
        "def make_df(i, conv, image_size = (224, 224)):\n",
        "\n",
        "    # full dataset available in just the test folder\n",
        "    data_dir = \"drive/MyDrive/datasets/water\"\n",
        "    device = torch.device(\"cuda:0\" if torch.cuda.is_available() else \"cpu\")\n",
        "    if device == 'cuda:0':\n",
        "        torch.cuda.empty_cache()\n",
        "\n",
        "    data_transforms = transforms.Compose([transforms.Resize(image_size), # no lambda transform\n",
        "                                          transforms.ToTensor(),\n",
        "                                          transforms.Normalize([0.485, 0.456, 0.406],\n",
        "                                                          [0.229, 0.224, 0.225])])\n",
        "    folder = os.path.join(data_dir)\n",
        "    full_dataset = datasets.ImageFolder(folder, data_transforms)\n",
        "\n",
        "    subset_index = [i]\n",
        "    dataset = torch.utils.data.Subset(full_dataset, subset_index)\n",
        "\n",
        "    # get features\n",
        "    conv.avgpool.register_forward_hook(get_activation('avgpool'))\n",
        "\n",
        "    # load into Skorch\n",
        "    net = NeuralNetClassifier(conv, # model directly, not class. is that okeys?\n",
        "                              criterion=nn.CrossEntropyLoss,\n",
        "                              device=device)\n",
        "\n",
        "    net.initialize() # bc I am not using net.fit (training the model)\n",
        "\n",
        "    output = net.predict_proba(dataset)\n",
        "    features_pool = activation['avgpool']\n",
        "\n",
        "    return full_dataset, features_pool"
      ],
      "metadata": {
        "id": "BqgOG29kvPuN"
      },
      "execution_count": null,
      "outputs": []
    },
    {
      "cell_type": "code",
      "source": [
        "for i in tqdm(range(1)):\n",
        "    ref_dataset, ref_features = make_df(i, conv)"
      ],
      "metadata": {
        "id": "R8MYj8t8FKqf"
      },
      "execution_count": null,
      "outputs": []
    },
    {
      "cell_type": "code",
      "source": [
        "len(ref_dataset)"
      ],
      "metadata": {
        "id": "lhN30lZQFiOI"
      },
      "execution_count": null,
      "outputs": []
    },
    {
      "cell_type": "code",
      "source": [],
      "metadata": {
        "id": "ZcyiORcU7B2i"
      },
      "execution_count": null,
      "outputs": []
    },
    {
      "cell_type": "code",
      "source": [
        "def get_columns(csv, dir):\n",
        "  cols = list(csv.columns[:-4])\n",
        "  print(cols)\n",
        "  cols.append(f'landcovers{dir}PhotoName')\n",
        "\n",
        "  return cols\n",
        "\n",
        "def modify_cols(csv, dir):\n",
        "  df = csv.rename(columns={f'landcovers{dir}PhotoName': 'imageName'})\n",
        "  df['imageDirection'] = np.array([dir]*len(df))\n",
        "\n",
        "  return df\n",
        "\n",
        "def make_image_csv(path):\n",
        "  csv = pd.read_csv(path)\n",
        "\n",
        "  westcols = get_columns(csv, 'West')\n",
        "  northcols = get_columns(csv, 'North')\n",
        "  eastcols = get_columns(csv, 'East')\n",
        "  southcols = get_columns(csv, 'South')\n",
        "\n",
        "  west = modify_cols(csv[westcols], 'West')\n",
        "  north = modify_cols(csv[northcols], 'North')\n",
        "  east = modify_cols(csv[eastcols], 'East')\n",
        "  south = modify_cols(csv[southcols], 'South')\n",
        "\n",
        "  image_csv = pd.concat([west, north, east, south], axis=0)\n",
        "  image_csv.reset_index(drop=True)\n",
        "\n",
        "  return image_csv"
      ],
      "metadata": {
        "id": "axmjFPeECdr2"
      },
      "execution_count": null,
      "outputs": []
    },
    {
      "cell_type": "code",
      "source": [
        "path = \"drive/MyDrive/Data_Files/Zooniverse_data.csv\""
      ],
      "metadata": {
        "id": "wEJGq2Mn0Bb9"
      },
      "execution_count": null,
      "outputs": []
    },
    {
      "cell_type": "code",
      "source": [
        "image_df = make_image_csv(path)"
      ],
      "metadata": {
        "id": "3D6oVDUYDOSm"
      },
      "execution_count": null,
      "outputs": []
    },
    {
      "cell_type": "code",
      "source": [
        "image_df.to_csv(\"drive/MyDrive/Data_Files/Zooniverse_images.csv\")"
      ],
      "metadata": {
        "id": "0oIbiIFeEPx-"
      },
      "execution_count": null,
      "outputs": []
    },
    {
      "cell_type": "code",
      "source": [
        "dataset_loc_arr = [0] * len(ref_dataset)\n",
        "\n",
        "for i in tqdm(range(len(image_df))):\n",
        "    for j in range(len(ref_dataset.imgs)):\n",
        "        if np.array(image_df['imageName'])[i] in ref_dataset.imgs[j][0]:\n",
        "            dataset_loc_arr[i] = j\n",
        "            break;"
      ],
      "metadata": {
        "colab": {
          "base_uri": "https://localhost:8080/"
        },
        "id": "c33fVESuykeh",
        "outputId": "f043fdc2-0f88-4147-bb8b-10a2737c7d78"
      },
      "execution_count": null,
      "outputs": [
        {
          "output_type": "stream",
          "name": "stderr",
          "text": [
            "100%|██████████| 5896/5896 [09:35<00:00, 10.25it/s]\n"
          ]
        }
      ]
    },
    {
      "cell_type": "code",
      "source": [
        "image_df['datasetLoc'] = dataset_loc_arr"
      ],
      "metadata": {
        "id": "ZdVMOVRzBbFs"
      },
      "execution_count": null,
      "outputs": []
    },
    {
      "cell_type": "code",
      "source": [
        "image_df['features'] = np.empty(len(image_df))"
      ],
      "metadata": {
        "id": "T5P0R40R9TG5"
      },
      "execution_count": null,
      "outputs": []
    },
    {
      "cell_type": "code",
      "source": [
        "image_df = image_df.reset_index(drop=True)"
      ],
      "metadata": {
        "id": "Tii2QU3e9h7e"
      },
      "execution_count": null,
      "outputs": []
    },
    {
      "cell_type": "code",
      "source": [
        "np.array(ref_features.to('cpu')).flatten()"
      ],
      "metadata": {
        "id": "duob1cuC9Vcb"
      },
      "execution_count": null,
      "outputs": []
    },
    {
      "cell_type": "code",
      "source": [
        "new_image_df = pd.DataFrame()\n",
        "\n",
        "# dataset loc is a bit convoluted but should work??\n",
        "# basically we look at each row's position in the dataset, which accounts for skipped rows\n",
        "# we take the ith image feature value in the dataset, and assign to the row which is the ith\n",
        "# (bc the dataset is always in same order - order of files in folder)\n",
        "\n",
        "for i in tqdm(range(len(ref_dataset))):\n",
        "    # should do len of ref_dataset i think tho, bc that's why i was losing 8\n",
        "\n",
        "    full_dataset, features_pool = make_df(i, conv)\n",
        "    flattened_ftrs = np.array(features_pool.to('cpu')).flatten()\n",
        "\n",
        "    image_row = image_df.loc[image_df['datasetLoc'] == i]\n",
        "    if image_row.empty == False: # those 8 images\n",
        "        image_row['features'] = [flattened_ftrs]\n",
        "        new_image_df = new_image_df.append(image_row)"
      ],
      "metadata": {
        "colab": {
          "base_uri": "https://localhost:8080/"
        },
        "id": "tRhvp-KM9WvP",
        "outputId": "f692b035-afe0-48d0-f111-f2b59a101a9f"
      },
      "execution_count": null,
      "outputs": [
        {
          "output_type": "stream",
          "name": "stderr",
          "text": [
            "100%|██████████| 5896/5896 [17:20<00:00,  5.66it/s]\n"
          ]
        }
      ]
    },
    {
      "cell_type": "code",
      "source": [
        "len(new_image_df.head().iloc[0]['features'])"
      ],
      "metadata": {
        "colab": {
          "base_uri": "https://localhost:8080/"
        },
        "id": "Gajhl16sKARe",
        "outputId": "8a041219-98a5-410f-d51c-3cbc334d739f"
      },
      "execution_count": null,
      "outputs": [
        {
          "output_type": "execute_result",
          "data": {
            "text/plain": [
              "512"
            ]
          },
          "metadata": {},
          "execution_count": 32
        }
      ]
    },
    {
      "cell_type": "code",
      "source": [
        "new_image_df.to_csv(\"drive/MyDrive/Data_Files/Zooniverse_images_features.csv\")"
      ],
      "metadata": {
        "id": "5AWwVWhRSbAS"
      },
      "execution_count": null,
      "outputs": []
    },
    {
      "cell_type": "code",
      "source": [],
      "metadata": {
        "id": "vvNUXGZgGVFO"
      },
      "execution_count": null,
      "outputs": []
    },
    {
      "cell_type": "markdown",
      "source": [
        "## getting final x and y sets"
      ],
      "metadata": {
        "id": "K7DiUHsjGVOg"
      }
    },
    {
      "cell_type": "code",
      "source": [
        "new_image_df = pd.read_csv(\"drive/MyDrive/Data_Files/Zooniverse_images_features.csv\")"
      ],
      "metadata": {
        "id": "So8PHVBs7-K0"
      },
      "execution_count": null,
      "outputs": []
    },
    {
      "cell_type": "code",
      "source": [
        "zooni_df = pd.read_csv(\"drive/MyDrive/Data_Files/parsed_zooni_out.csv\")"
      ],
      "metadata": {
        "id": "BNz5TzdmEuaT"
      },
      "execution_count": null,
      "outputs": []
    },
    {
      "cell_type": "code",
      "source": [
        "zooni_df"
      ],
      "metadata": {
        "colab": {
          "base_uri": "https://localhost:8080/",
          "height": 852
        },
        "id": "qSgec9Yid10H",
        "outputId": "36a02bc8-b180-422f-b8b7-2c0fd07b1e6a"
      },
      "execution_count": null,
      "outputs": [
        {
          "output_type": "execute_result",
          "data": {
            "text/plain": [
              "      Unnamed: 0  classification_id                           user_name  \\\n",
              "0              0          501999199                     MountainRobot03   \n",
              "1              1          501999214                     MountainRobot03   \n",
              "2              2          501999223                     MountainRobot03   \n",
              "3              3          501999240                     MountainRobot03   \n",
              "4              4          501999254                     MountainRobot03   \n",
              "...          ...                ...                                 ...   \n",
              "5891        5891          502055456  not-logged-in-a25b3a3911a6cd660d6b   \n",
              "5892        5892          502055478  not-logged-in-a25b3a3911a6cd660d6b   \n",
              "5893        5893          502055508  not-logged-in-a25b3a3911a6cd660d6b   \n",
              "5894        5894          502055607  not-logged-in-a25b3a3911a6cd660d6b   \n",
              "5895        5895          502058095  not-logged-in-e07a0516dc846251e96a   \n",
              "\n",
              "        user_id               user_ip  workflow_id  \\\n",
              "0     2624165.0  a954d9bd77756da2e84f        24748   \n",
              "1     2624165.0  a954d9bd77756da2e84f        24748   \n",
              "2     2624165.0  a954d9bd77756da2e84f        24748   \n",
              "3     2624165.0  a954d9bd77756da2e84f        24748   \n",
              "4     2624165.0  a954d9bd77756da2e84f        24748   \n",
              "...         ...                   ...          ...   \n",
              "5891        NaN  a25b3a3911a6cd660d6b        24748   \n",
              "5892        NaN  a25b3a3911a6cd660d6b        24748   \n",
              "5893        NaN  a25b3a3911a6cd660d6b        24748   \n",
              "5894        NaN  a25b3a3911a6cd660d6b        24748   \n",
              "5895        NaN  e07a0516dc846251e96a        24748   \n",
              "\n",
              "                         workflow_name  workflow_version  \\\n",
              "0     Choose the Land Cover Categories               6.9   \n",
              "1     Choose the Land Cover Categories               6.9   \n",
              "2     Choose the Land Cover Categories               6.9   \n",
              "3     Choose the Land Cover Categories               6.9   \n",
              "4     Choose the Land Cover Categories               6.9   \n",
              "...                                ...               ...   \n",
              "5891  Choose the Land Cover Categories               6.9   \n",
              "5892  Choose the Land Cover Categories               6.9   \n",
              "5893  Choose the Land Cover Categories               6.9   \n",
              "5894  Choose the Land Cover Categories               6.9   \n",
              "5895  Choose the Land Cover Categories               6.9   \n",
              "\n",
              "                   created_at  gold_standard  expert  \\\n",
              "0     2023-07-19 18:17:59 UTC            NaN     NaN   \n",
              "1     2023-07-19 18:18:02 UTC            NaN     NaN   \n",
              "2     2023-07-19 18:18:05 UTC            NaN     NaN   \n",
              "3     2023-07-19 18:18:09 UTC            NaN     NaN   \n",
              "4     2023-07-19 18:18:13 UTC            NaN     NaN   \n",
              "...                       ...            ...     ...   \n",
              "5891  2023-07-19 22:26:40 UTC            NaN     NaN   \n",
              "5892  2023-07-19 22:26:47 UTC            NaN     NaN   \n",
              "5893  2023-07-19 22:26:57 UTC            NaN     NaN   \n",
              "5894  2023-07-19 22:27:34 UTC            NaN     NaN   \n",
              "5895  2023-07-19 22:50:38 UTC            NaN     NaN   \n",
              "\n",
              "                                               metadata  \\\n",
              "0     {\"source\":\"api\",\"session\":\"1592f2abcf85083013e...   \n",
              "1     {\"source\":\"api\",\"session\":\"1592f2abcf85083013e...   \n",
              "2     {\"source\":\"api\",\"session\":\"1592f2abcf85083013e...   \n",
              "3     {\"source\":\"api\",\"session\":\"1592f2abcf85083013e...   \n",
              "4     {\"source\":\"api\",\"session\":\"1592f2abcf85083013e...   \n",
              "...                                                 ...   \n",
              "5891  {\"source\":\"api\",\"session\":\"54ecc0d268db46681db...   \n",
              "5892  {\"source\":\"api\",\"session\":\"54ecc0d268db46681db...   \n",
              "5893  {\"source\":\"api\",\"session\":\"54ecc0d268db46681db...   \n",
              "5894  {\"source\":\"api\",\"session\":\"d3f380f3d52ce6ab4b0...   \n",
              "5895  {\"source\":\"api\",\"session\":\"96f37539a0dad2cfb96...   \n",
              "\n",
              "                                            annotations  \\\n",
              "0     [{\"task\":\"T0\",\"task_label\":\"Select each of the...   \n",
              "1     [{\"task\":\"T0\",\"task_label\":\"Select each of the...   \n",
              "2     [{\"task\":\"T0\",\"task_label\":\"Select each of the...   \n",
              "3     [{\"task\":\"T0\",\"task_label\":\"Select each of the...   \n",
              "4     [{\"task\":\"T0\",\"task_label\":\"Select each of the...   \n",
              "...                                                 ...   \n",
              "5891  [{\"task\":\"T0\",\"task_label\":\"Select each of the...   \n",
              "5892  [{\"task\":\"T0\",\"task_label\":\"Select each of the...   \n",
              "5893  [{\"task\":\"T0\",\"task_label\":\"Select each of the...   \n",
              "5894  [{\"task\":\"T0\",\"task_label\":\"Select each of the...   \n",
              "5895  [{\"task\":\"T0\",\"task_label\":\"Select each of the...   \n",
              "\n",
              "                                           subject_data  subject_ids  water  \\\n",
              "0     {\"90815996\":{\"retired\":{\"id\":118054626,\"workfl...     90815996      0   \n",
              "1     {\"90812812\":{\"retired\":{\"id\":118054627,\"workfl...     90812812      0   \n",
              "2     {\"90814635\":{\"retired\":{\"id\":118054630,\"workfl...     90814635      0   \n",
              "3     {\"90810735\":{\"retired\":{\"id\":118054631,\"workfl...     90810735      0   \n",
              "4     {\"90810670\":{\"retired\":{\"id\":118054636,\"workfl...     90810670      1   \n",
              "...                                                 ...          ...    ...   \n",
              "5891  {\"90810624\":{\"retired\":{\"id\":118057742,\"workfl...     90810624      1   \n",
              "5892  {\"90816433\":{\"retired\":{\"id\":118058754,\"workfl...     90816433      0   \n",
              "5893  {\"90816472\":{\"retired\":{\"id\":118062310,\"workfl...     90816472      0   \n",
              "5894  {\"90814710\":{\"retired\":{\"id\":118061412,\"workfl...     90814710      1   \n",
              "5895  {\"90816410\":{\"retired\":{\"id\":118055157,\"workfl...     90816410      0   \n",
              "\n",
              "      sky  land     img_name  \n",
              "0       1     1  3471352.jpg  \n",
              "1       1     1  3445155.jpg  \n",
              "2       0     1  3456233.jpg  \n",
              "3       1     1  3426903.jpg  \n",
              "4       0     1  3426742.jpg  \n",
              "...   ...   ...          ...  \n",
              "5891    1     1  3426619.jpg  \n",
              "5892    1     1  3482798.jpg  \n",
              "5893    0     0  3482851.jpg  \n",
              "5894    1     1  3457726.jpg  \n",
              "5895    1     1  3482766.jpg  \n",
              "\n",
              "[5896 rows x 19 columns]"
            ],
            "text/html": [
              "\n",
              "\n",
              "  <div id=\"df-c41a90af-c818-4dbf-8171-b53819cc1d65\">\n",
              "    <div class=\"colab-df-container\">\n",
              "      <div>\n",
              "<style scoped>\n",
              "    .dataframe tbody tr th:only-of-type {\n",
              "        vertical-align: middle;\n",
              "    }\n",
              "\n",
              "    .dataframe tbody tr th {\n",
              "        vertical-align: top;\n",
              "    }\n",
              "\n",
              "    .dataframe thead th {\n",
              "        text-align: right;\n",
              "    }\n",
              "</style>\n",
              "<table border=\"1\" class=\"dataframe\">\n",
              "  <thead>\n",
              "    <tr style=\"text-align: right;\">\n",
              "      <th></th>\n",
              "      <th>Unnamed: 0</th>\n",
              "      <th>classification_id</th>\n",
              "      <th>user_name</th>\n",
              "      <th>user_id</th>\n",
              "      <th>user_ip</th>\n",
              "      <th>workflow_id</th>\n",
              "      <th>workflow_name</th>\n",
              "      <th>workflow_version</th>\n",
              "      <th>created_at</th>\n",
              "      <th>gold_standard</th>\n",
              "      <th>expert</th>\n",
              "      <th>metadata</th>\n",
              "      <th>annotations</th>\n",
              "      <th>subject_data</th>\n",
              "      <th>subject_ids</th>\n",
              "      <th>water</th>\n",
              "      <th>sky</th>\n",
              "      <th>land</th>\n",
              "      <th>img_name</th>\n",
              "    </tr>\n",
              "  </thead>\n",
              "  <tbody>\n",
              "    <tr>\n",
              "      <th>0</th>\n",
              "      <td>0</td>\n",
              "      <td>501999199</td>\n",
              "      <td>MountainRobot03</td>\n",
              "      <td>2624165.0</td>\n",
              "      <td>a954d9bd77756da2e84f</td>\n",
              "      <td>24748</td>\n",
              "      <td>Choose the Land Cover Categories</td>\n",
              "      <td>6.9</td>\n",
              "      <td>2023-07-19 18:17:59 UTC</td>\n",
              "      <td>NaN</td>\n",
              "      <td>NaN</td>\n",
              "      <td>{\"source\":\"api\",\"session\":\"1592f2abcf85083013e...</td>\n",
              "      <td>[{\"task\":\"T0\",\"task_label\":\"Select each of the...</td>\n",
              "      <td>{\"90815996\":{\"retired\":{\"id\":118054626,\"workfl...</td>\n",
              "      <td>90815996</td>\n",
              "      <td>0</td>\n",
              "      <td>1</td>\n",
              "      <td>1</td>\n",
              "      <td>3471352.jpg</td>\n",
              "    </tr>\n",
              "    <tr>\n",
              "      <th>1</th>\n",
              "      <td>1</td>\n",
              "      <td>501999214</td>\n",
              "      <td>MountainRobot03</td>\n",
              "      <td>2624165.0</td>\n",
              "      <td>a954d9bd77756da2e84f</td>\n",
              "      <td>24748</td>\n",
              "      <td>Choose the Land Cover Categories</td>\n",
              "      <td>6.9</td>\n",
              "      <td>2023-07-19 18:18:02 UTC</td>\n",
              "      <td>NaN</td>\n",
              "      <td>NaN</td>\n",
              "      <td>{\"source\":\"api\",\"session\":\"1592f2abcf85083013e...</td>\n",
              "      <td>[{\"task\":\"T0\",\"task_label\":\"Select each of the...</td>\n",
              "      <td>{\"90812812\":{\"retired\":{\"id\":118054627,\"workfl...</td>\n",
              "      <td>90812812</td>\n",
              "      <td>0</td>\n",
              "      <td>1</td>\n",
              "      <td>1</td>\n",
              "      <td>3445155.jpg</td>\n",
              "    </tr>\n",
              "    <tr>\n",
              "      <th>2</th>\n",
              "      <td>2</td>\n",
              "      <td>501999223</td>\n",
              "      <td>MountainRobot03</td>\n",
              "      <td>2624165.0</td>\n",
              "      <td>a954d9bd77756da2e84f</td>\n",
              "      <td>24748</td>\n",
              "      <td>Choose the Land Cover Categories</td>\n",
              "      <td>6.9</td>\n",
              "      <td>2023-07-19 18:18:05 UTC</td>\n",
              "      <td>NaN</td>\n",
              "      <td>NaN</td>\n",
              "      <td>{\"source\":\"api\",\"session\":\"1592f2abcf85083013e...</td>\n",
              "      <td>[{\"task\":\"T0\",\"task_label\":\"Select each of the...</td>\n",
              "      <td>{\"90814635\":{\"retired\":{\"id\":118054630,\"workfl...</td>\n",
              "      <td>90814635</td>\n",
              "      <td>0</td>\n",
              "      <td>0</td>\n",
              "      <td>1</td>\n",
              "      <td>3456233.jpg</td>\n",
              "    </tr>\n",
              "    <tr>\n",
              "      <th>3</th>\n",
              "      <td>3</td>\n",
              "      <td>501999240</td>\n",
              "      <td>MountainRobot03</td>\n",
              "      <td>2624165.0</td>\n",
              "      <td>a954d9bd77756da2e84f</td>\n",
              "      <td>24748</td>\n",
              "      <td>Choose the Land Cover Categories</td>\n",
              "      <td>6.9</td>\n",
              "      <td>2023-07-19 18:18:09 UTC</td>\n",
              "      <td>NaN</td>\n",
              "      <td>NaN</td>\n",
              "      <td>{\"source\":\"api\",\"session\":\"1592f2abcf85083013e...</td>\n",
              "      <td>[{\"task\":\"T0\",\"task_label\":\"Select each of the...</td>\n",
              "      <td>{\"90810735\":{\"retired\":{\"id\":118054631,\"workfl...</td>\n",
              "      <td>90810735</td>\n",
              "      <td>0</td>\n",
              "      <td>1</td>\n",
              "      <td>1</td>\n",
              "      <td>3426903.jpg</td>\n",
              "    </tr>\n",
              "    <tr>\n",
              "      <th>4</th>\n",
              "      <td>4</td>\n",
              "      <td>501999254</td>\n",
              "      <td>MountainRobot03</td>\n",
              "      <td>2624165.0</td>\n",
              "      <td>a954d9bd77756da2e84f</td>\n",
              "      <td>24748</td>\n",
              "      <td>Choose the Land Cover Categories</td>\n",
              "      <td>6.9</td>\n",
              "      <td>2023-07-19 18:18:13 UTC</td>\n",
              "      <td>NaN</td>\n",
              "      <td>NaN</td>\n",
              "      <td>{\"source\":\"api\",\"session\":\"1592f2abcf85083013e...</td>\n",
              "      <td>[{\"task\":\"T0\",\"task_label\":\"Select each of the...</td>\n",
              "      <td>{\"90810670\":{\"retired\":{\"id\":118054636,\"workfl...</td>\n",
              "      <td>90810670</td>\n",
              "      <td>1</td>\n",
              "      <td>0</td>\n",
              "      <td>1</td>\n",
              "      <td>3426742.jpg</td>\n",
              "    </tr>\n",
              "    <tr>\n",
              "      <th>...</th>\n",
              "      <td>...</td>\n",
              "      <td>...</td>\n",
              "      <td>...</td>\n",
              "      <td>...</td>\n",
              "      <td>...</td>\n",
              "      <td>...</td>\n",
              "      <td>...</td>\n",
              "      <td>...</td>\n",
              "      <td>...</td>\n",
              "      <td>...</td>\n",
              "      <td>...</td>\n",
              "      <td>...</td>\n",
              "      <td>...</td>\n",
              "      <td>...</td>\n",
              "      <td>...</td>\n",
              "      <td>...</td>\n",
              "      <td>...</td>\n",
              "      <td>...</td>\n",
              "      <td>...</td>\n",
              "    </tr>\n",
              "    <tr>\n",
              "      <th>5891</th>\n",
              "      <td>5891</td>\n",
              "      <td>502055456</td>\n",
              "      <td>not-logged-in-a25b3a3911a6cd660d6b</td>\n",
              "      <td>NaN</td>\n",
              "      <td>a25b3a3911a6cd660d6b</td>\n",
              "      <td>24748</td>\n",
              "      <td>Choose the Land Cover Categories</td>\n",
              "      <td>6.9</td>\n",
              "      <td>2023-07-19 22:26:40 UTC</td>\n",
              "      <td>NaN</td>\n",
              "      <td>NaN</td>\n",
              "      <td>{\"source\":\"api\",\"session\":\"54ecc0d268db46681db...</td>\n",
              "      <td>[{\"task\":\"T0\",\"task_label\":\"Select each of the...</td>\n",
              "      <td>{\"90810624\":{\"retired\":{\"id\":118057742,\"workfl...</td>\n",
              "      <td>90810624</td>\n",
              "      <td>1</td>\n",
              "      <td>1</td>\n",
              "      <td>1</td>\n",
              "      <td>3426619.jpg</td>\n",
              "    </tr>\n",
              "    <tr>\n",
              "      <th>5892</th>\n",
              "      <td>5892</td>\n",
              "      <td>502055478</td>\n",
              "      <td>not-logged-in-a25b3a3911a6cd660d6b</td>\n",
              "      <td>NaN</td>\n",
              "      <td>a25b3a3911a6cd660d6b</td>\n",
              "      <td>24748</td>\n",
              "      <td>Choose the Land Cover Categories</td>\n",
              "      <td>6.9</td>\n",
              "      <td>2023-07-19 22:26:47 UTC</td>\n",
              "      <td>NaN</td>\n",
              "      <td>NaN</td>\n",
              "      <td>{\"source\":\"api\",\"session\":\"54ecc0d268db46681db...</td>\n",
              "      <td>[{\"task\":\"T0\",\"task_label\":\"Select each of the...</td>\n",
              "      <td>{\"90816433\":{\"retired\":{\"id\":118058754,\"workfl...</td>\n",
              "      <td>90816433</td>\n",
              "      <td>0</td>\n",
              "      <td>1</td>\n",
              "      <td>1</td>\n",
              "      <td>3482798.jpg</td>\n",
              "    </tr>\n",
              "    <tr>\n",
              "      <th>5893</th>\n",
              "      <td>5893</td>\n",
              "      <td>502055508</td>\n",
              "      <td>not-logged-in-a25b3a3911a6cd660d6b</td>\n",
              "      <td>NaN</td>\n",
              "      <td>a25b3a3911a6cd660d6b</td>\n",
              "      <td>24748</td>\n",
              "      <td>Choose the Land Cover Categories</td>\n",
              "      <td>6.9</td>\n",
              "      <td>2023-07-19 22:26:57 UTC</td>\n",
              "      <td>NaN</td>\n",
              "      <td>NaN</td>\n",
              "      <td>{\"source\":\"api\",\"session\":\"54ecc0d268db46681db...</td>\n",
              "      <td>[{\"task\":\"T0\",\"task_label\":\"Select each of the...</td>\n",
              "      <td>{\"90816472\":{\"retired\":{\"id\":118062310,\"workfl...</td>\n",
              "      <td>90816472</td>\n",
              "      <td>0</td>\n",
              "      <td>0</td>\n",
              "      <td>0</td>\n",
              "      <td>3482851.jpg</td>\n",
              "    </tr>\n",
              "    <tr>\n",
              "      <th>5894</th>\n",
              "      <td>5894</td>\n",
              "      <td>502055607</td>\n",
              "      <td>not-logged-in-a25b3a3911a6cd660d6b</td>\n",
              "      <td>NaN</td>\n",
              "      <td>a25b3a3911a6cd660d6b</td>\n",
              "      <td>24748</td>\n",
              "      <td>Choose the Land Cover Categories</td>\n",
              "      <td>6.9</td>\n",
              "      <td>2023-07-19 22:27:34 UTC</td>\n",
              "      <td>NaN</td>\n",
              "      <td>NaN</td>\n",
              "      <td>{\"source\":\"api\",\"session\":\"d3f380f3d52ce6ab4b0...</td>\n",
              "      <td>[{\"task\":\"T0\",\"task_label\":\"Select each of the...</td>\n",
              "      <td>{\"90814710\":{\"retired\":{\"id\":118061412,\"workfl...</td>\n",
              "      <td>90814710</td>\n",
              "      <td>1</td>\n",
              "      <td>1</td>\n",
              "      <td>1</td>\n",
              "      <td>3457726.jpg</td>\n",
              "    </tr>\n",
              "    <tr>\n",
              "      <th>5895</th>\n",
              "      <td>5895</td>\n",
              "      <td>502058095</td>\n",
              "      <td>not-logged-in-e07a0516dc846251e96a</td>\n",
              "      <td>NaN</td>\n",
              "      <td>e07a0516dc846251e96a</td>\n",
              "      <td>24748</td>\n",
              "      <td>Choose the Land Cover Categories</td>\n",
              "      <td>6.9</td>\n",
              "      <td>2023-07-19 22:50:38 UTC</td>\n",
              "      <td>NaN</td>\n",
              "      <td>NaN</td>\n",
              "      <td>{\"source\":\"api\",\"session\":\"96f37539a0dad2cfb96...</td>\n",
              "      <td>[{\"task\":\"T0\",\"task_label\":\"Select each of the...</td>\n",
              "      <td>{\"90816410\":{\"retired\":{\"id\":118055157,\"workfl...</td>\n",
              "      <td>90816410</td>\n",
              "      <td>0</td>\n",
              "      <td>1</td>\n",
              "      <td>1</td>\n",
              "      <td>3482766.jpg</td>\n",
              "    </tr>\n",
              "  </tbody>\n",
              "</table>\n",
              "<p>5896 rows × 19 columns</p>\n",
              "</div>\n",
              "      <button class=\"colab-df-convert\" onclick=\"convertToInteractive('df-c41a90af-c818-4dbf-8171-b53819cc1d65')\"\n",
              "              title=\"Convert this dataframe to an interactive table.\"\n",
              "              style=\"display:none;\">\n",
              "\n",
              "  <svg xmlns=\"http://www.w3.org/2000/svg\" height=\"24px\"viewBox=\"0 0 24 24\"\n",
              "       width=\"24px\">\n",
              "    <path d=\"M0 0h24v24H0V0z\" fill=\"none\"/>\n",
              "    <path d=\"M18.56 5.44l.94 2.06.94-2.06 2.06-.94-2.06-.94-.94-2.06-.94 2.06-2.06.94zm-11 1L8.5 8.5l.94-2.06 2.06-.94-2.06-.94L8.5 2.5l-.94 2.06-2.06.94zm10 10l.94 2.06.94-2.06 2.06-.94-2.06-.94-.94-2.06-.94 2.06-2.06.94z\"/><path d=\"M17.41 7.96l-1.37-1.37c-.4-.4-.92-.59-1.43-.59-.52 0-1.04.2-1.43.59L10.3 9.45l-7.72 7.72c-.78.78-.78 2.05 0 2.83L4 21.41c.39.39.9.59 1.41.59.51 0 1.02-.2 1.41-.59l7.78-7.78 2.81-2.81c.8-.78.8-2.07 0-2.86zM5.41 20L4 18.59l7.72-7.72 1.47 1.35L5.41 20z\"/>\n",
              "  </svg>\n",
              "      </button>\n",
              "\n",
              "\n",
              "\n",
              "    <div id=\"df-72c6f4b5-b5a6-4d60-94cd-8c21d6c569b8\">\n",
              "      <button class=\"colab-df-quickchart\" onclick=\"quickchart('df-72c6f4b5-b5a6-4d60-94cd-8c21d6c569b8')\"\n",
              "              title=\"Suggest charts.\"\n",
              "              style=\"display:none;\">\n",
              "\n",
              "<svg xmlns=\"http://www.w3.org/2000/svg\" height=\"24px\"viewBox=\"0 0 24 24\"\n",
              "     width=\"24px\">\n",
              "    <g>\n",
              "        <path d=\"M19 3H5c-1.1 0-2 .9-2 2v14c0 1.1.9 2 2 2h14c1.1 0 2-.9 2-2V5c0-1.1-.9-2-2-2zM9 17H7v-7h2v7zm4 0h-2V7h2v10zm4 0h-2v-4h2v4z\"/>\n",
              "    </g>\n",
              "</svg>\n",
              "      </button>\n",
              "    </div>\n",
              "\n",
              "<style>\n",
              "  .colab-df-quickchart {\n",
              "    background-color: #E8F0FE;\n",
              "    border: none;\n",
              "    border-radius: 50%;\n",
              "    cursor: pointer;\n",
              "    display: none;\n",
              "    fill: #1967D2;\n",
              "    height: 32px;\n",
              "    padding: 0 0 0 0;\n",
              "    width: 32px;\n",
              "  }\n",
              "\n",
              "  .colab-df-quickchart:hover {\n",
              "    background-color: #E2EBFA;\n",
              "    box-shadow: 0px 1px 2px rgba(60, 64, 67, 0.3), 0px 1px 3px 1px rgba(60, 64, 67, 0.15);\n",
              "    fill: #174EA6;\n",
              "  }\n",
              "\n",
              "  [theme=dark] .colab-df-quickchart {\n",
              "    background-color: #3B4455;\n",
              "    fill: #D2E3FC;\n",
              "  }\n",
              "\n",
              "  [theme=dark] .colab-df-quickchart:hover {\n",
              "    background-color: #434B5C;\n",
              "    box-shadow: 0px 1px 3px 1px rgba(0, 0, 0, 0.15);\n",
              "    filter: drop-shadow(0px 1px 2px rgba(0, 0, 0, 0.3));\n",
              "    fill: #FFFFFF;\n",
              "  }\n",
              "</style>\n",
              "\n",
              "    <script>\n",
              "      async function quickchart(key) {\n",
              "        const containerElement = document.querySelector('#' + key);\n",
              "        const charts = await google.colab.kernel.invokeFunction(\n",
              "            'suggestCharts', [key], {});\n",
              "      }\n",
              "    </script>\n",
              "\n",
              "      <script>\n",
              "\n",
              "function displayQuickchartButton(domScope) {\n",
              "  let quickchartButtonEl =\n",
              "    domScope.querySelector('#df-72c6f4b5-b5a6-4d60-94cd-8c21d6c569b8 button.colab-df-quickchart');\n",
              "  quickchartButtonEl.style.display =\n",
              "    google.colab.kernel.accessAllowed ? 'block' : 'none';\n",
              "}\n",
              "\n",
              "        displayQuickchartButton(document);\n",
              "      </script>\n",
              "      <style>\n",
              "    .colab-df-container {\n",
              "      display:flex;\n",
              "      flex-wrap:wrap;\n",
              "      gap: 12px;\n",
              "    }\n",
              "\n",
              "    .colab-df-convert {\n",
              "      background-color: #E8F0FE;\n",
              "      border: none;\n",
              "      border-radius: 50%;\n",
              "      cursor: pointer;\n",
              "      display: none;\n",
              "      fill: #1967D2;\n",
              "      height: 32px;\n",
              "      padding: 0 0 0 0;\n",
              "      width: 32px;\n",
              "    }\n",
              "\n",
              "    .colab-df-convert:hover {\n",
              "      background-color: #E2EBFA;\n",
              "      box-shadow: 0px 1px 2px rgba(60, 64, 67, 0.3), 0px 1px 3px 1px rgba(60, 64, 67, 0.15);\n",
              "      fill: #174EA6;\n",
              "    }\n",
              "\n",
              "    [theme=dark] .colab-df-convert {\n",
              "      background-color: #3B4455;\n",
              "      fill: #D2E3FC;\n",
              "    }\n",
              "\n",
              "    [theme=dark] .colab-df-convert:hover {\n",
              "      background-color: #434B5C;\n",
              "      box-shadow: 0px 1px 3px 1px rgba(0, 0, 0, 0.15);\n",
              "      filter: drop-shadow(0px 1px 2px rgba(0, 0, 0, 0.3));\n",
              "      fill: #FFFFFF;\n",
              "    }\n",
              "  </style>\n",
              "\n",
              "      <script>\n",
              "        const buttonEl =\n",
              "          document.querySelector('#df-c41a90af-c818-4dbf-8171-b53819cc1d65 button.colab-df-convert');\n",
              "        buttonEl.style.display =\n",
              "          google.colab.kernel.accessAllowed ? 'block' : 'none';\n",
              "\n",
              "        async function convertToInteractive(key) {\n",
              "          const element = document.querySelector('#df-c41a90af-c818-4dbf-8171-b53819cc1d65');\n",
              "          const dataTable =\n",
              "            await google.colab.kernel.invokeFunction('convertToInteractive',\n",
              "                                                     [key], {});\n",
              "          if (!dataTable) return;\n",
              "\n",
              "          const docLinkHtml = 'Like what you see? Visit the ' +\n",
              "            '<a target=\"_blank\" href=https://colab.research.google.com/notebooks/data_table.ipynb>data table notebook</a>'\n",
              "            + ' to learn more about interactive tables.';\n",
              "          element.innerHTML = '';\n",
              "          dataTable['output_type'] = 'display_data';\n",
              "          await google.colab.output.renderOutput(dataTable, element);\n",
              "          const docLink = document.createElement('div');\n",
              "          docLink.innerHTML = docLinkHtml;\n",
              "          element.appendChild(docLink);\n",
              "        }\n",
              "      </script>\n",
              "    </div>\n",
              "  </div>\n"
            ]
          },
          "metadata": {},
          "execution_count": 149
        }
      ]
    },
    {
      "cell_type": "code",
      "source": [
        "label_dict = {0:'trees', 1:'shrubs', 2:'herbaceous/grassland', 3:'barren', 4:'wetlands',\n",
        "              5:'open water', 6:'cultivated', 7:'urban'}\n",
        "\n",
        "class_dict = {0: ['01', '02', '03', '00', '11', '12', '13', '1'], # 0 or 1\n",
        "              1: ['21', '22', '23','31','32','33','3'], # 2 or 3\n",
        "              2: ['41', '42', '43', '44'], #4\n",
        "              3: ['51','52','53','54','55','56'], # 5\n",
        "              4: ['61','63','64'], # 6\n",
        "              5: ['71', '72'], # 7\n",
        "              6: ['811','812','814','82'], # 8\n",
        "              7: ['91', '92', '93','94']} # 9\n",
        "\n",
        "short_class_dict = {0: ['0', '1'], 1: ['2','3'], 2: ['4'], 3: ['5'], 4: ['6'],\n",
        "                    5: ['7'], 6: ['8'], 7: ['9']}\n",
        "\n",
        "# conclusion. I only need to look at the first digit"
      ],
      "metadata": {
        "id": "Ohln45MbVBO1"
      },
      "execution_count": null,
      "outputs": []
    },
    {
      "cell_type": "code",
      "source": [
        "word = '30% MUC 11 (b) [Trees, Loosely Spaced, Evergreen - Broad Leaved]; 30% MUC 12 (b) [Trees, Loosely Spaced, Deciduous - Broad Leaved]; 90% MUC 81 (1) [Cultivated, Crops or Pastures]; 10% MUC 92 [Urban, Commercial Property]'\n",
        "[m.start() for m in re.finditer('MUC', word)]\n"
      ],
      "metadata": {
        "colab": {
          "base_uri": "https://localhost:8080/"
        },
        "id": "567YymC5Lo4g",
        "outputId": "f19a26f6-f2e6-43b5-cb9b-006254cbc274"
      },
      "execution_count": null,
      "outputs": [
        {
          "output_type": "execute_result",
          "data": {
            "text/plain": [
              "[4, 70, 136, 184]"
            ]
          },
          "metadata": {},
          "execution_count": 71
        }
      ]
    },
    {
      "cell_type": "code",
      "source": [
        "word[4+4:4+7] # +4 to the classification"
      ],
      "metadata": {
        "colab": {
          "base_uri": "https://localhost:8080/",
          "height": 36
        },
        "id": "NeJA_Ha0L_v9",
        "outputId": "7ec38a43-b266-41f2-f2b8-cd75eeb17f09"
      },
      "execution_count": null,
      "outputs": [
        {
          "output_type": "execute_result",
          "data": {
            "text/plain": [
              "'11 '"
            ],
            "application/vnd.google.colaboratory.intrinsic+json": {
              "type": "string"
            }
          },
          "metadata": {},
          "execution_count": 80
        }
      ]
    },
    {
      "cell_type": "code",
      "source": [
        "[m.start() for m in re.finditer('%', word)]"
      ],
      "metadata": {
        "colab": {
          "base_uri": "https://localhost:8080/"
        },
        "id": "_5feQlh7N0ql",
        "outputId": "d2387e53-54df-483c-89be-740e3b014535"
      },
      "execution_count": null,
      "outputs": [
        {
          "output_type": "execute_result",
          "data": {
            "text/plain": [
              "[2, 68, 134, 182]"
            ]
          },
          "metadata": {},
          "execution_count": 77
        }
      ]
    },
    {
      "cell_type": "code",
      "source": [
        "int(word[68-3:68])"
      ],
      "metadata": {
        "colab": {
          "base_uri": "https://localhost:8080/"
        },
        "id": "ijuD_WctNy-p",
        "outputId": "8c2e1558-5011-4331-9c50-2c2fa0d50a28"
      },
      "execution_count": null,
      "outputs": [
        {
          "output_type": "execute_result",
          "data": {
            "text/plain": [
              "30"
            ]
          },
          "metadata": {},
          "execution_count": 79
        }
      ]
    },
    {
      "cell_type": "code",
      "source": [
        "def floor_zero(num):\n",
        "  if num > 0:\n",
        "    return num\n",
        "  if num < 0:\n",
        "    return 0\n",
        "  if num == 0:\n",
        "    return 0"
      ],
      "metadata": {
        "id": "v3LVcp72Xjm_"
      },
      "execution_count": null,
      "outputs": []
    },
    {
      "cell_type": "code",
      "source": [
        "def make_xy(csv, zooni_csv, short_class_dict, label_dict):\n",
        "  nan_idxs = [] # to drop\n",
        "  new_df = pd.DataFrame()\n",
        "  for index in tqdm(csv.index): # all the ranges # i in csv gives us COLUMN not row\n",
        "    i = csv[index:index+1] # that single row, hopefully edits happen\n",
        "    # add classification percentages\n",
        "    dir = i['imageDirection'][index]\n",
        "    # print(dir[index])\n",
        "    classification = i[f'landcovers{dir}Classifications'][index] # ex. landcoversNorthClassifications\n",
        "    if pd.isnull(classification):\n",
        "      nan_idxs.append(index)\n",
        "    else:\n",
        "      nums_check = []\n",
        "      nums = np.array(re.findall('\\d+', classification))\n",
        "\n",
        "      mucs = np.array([m.start() for m in re.finditer('MUC', classification)]).astype(int)\n",
        "      percents = np.array([m.start() for m in re.finditer('%', classification)]).astype(int)\n",
        "      for p in range(len(mucs)):\n",
        "        # print(classification)\n",
        "        percent_clas = np.array(re.findall('\\d+', classification[floor_zero(percents[p]-3):percents[p]]))[0]\n",
        "        mucs_clas = np.array(re.findall('\\d+', classification[mucs[p]+4:mucs[p]+7]))[0] # findall removes all spaces/other annoying things\n",
        "        nums_check.append(percent_clas)\n",
        "        nums_check.append(mucs_clas)\n",
        "\n",
        "      new_nums = np.array(nums_check) # no point of nums lol ig\n",
        "      try:\n",
        "        if(len(new_nums) != 2):\n",
        "          nums_reshape = new_nums.reshape(2,int(len(new_nums)/2))\n",
        "        if(len(new_nums) == 2):\n",
        "          nums_reshape=list([new_nums]) # making 2D array\n",
        "      except:\n",
        "        print(classification)\n",
        "        print()\n",
        "        print(new_nums)\n",
        "\n",
        "      for j in nums_reshape:\n",
        "        # print(j)\n",
        "        mucid = str(j[1])[0] # first identifier\n",
        "        for k in short_class_dict.values():\n",
        "          classid = list(short_class_dict.keys())[list(short_class_dict.values()).index(k)]\n",
        "          classname = label_dict[classid]\n",
        "          if mucid in k: # will only be in one\n",
        "            i[f'{classname}'] = int(j[0])/100 # adding value to df\n",
        "          if mucid not in k:\n",
        "            i[f'{classname}'] = 0\n",
        "\n",
        "\n",
        "    # get zooni_csv values\n",
        "    imagename = i['imageName'][index]\n",
        "    relevant_row = zooni_csv[zooni_csv['img_name'] == imagename]\n",
        "    assert(len(relevant_row) == 1)\n",
        "    i[['water', 'land', 'sky']] = np.array(relevant_row[['water', 'land', 'sky']])\n",
        "\n",
        "    new_df = new_df.append(i)\n",
        "\n",
        "  return new_df, nan_idxs"
      ],
      "metadata": {
        "id": "CbwzZA3adRdO"
      },
      "execution_count": null,
      "outputs": []
    },
    {
      "cell_type": "code",
      "source": [
        "processed_csv, nan_idxs = make_xy(new_image_df, zooni_df, short_class_dict, label_dict)"
      ],
      "metadata": {
        "colab": {
          "base_uri": "https://localhost:8080/"
        },
        "id": "2MHuLmlFGAIz",
        "outputId": "cb37247d-6744-4acb-8528-5aace37f3ee9"
      },
      "execution_count": null,
      "outputs": [
        {
          "output_type": "stream",
          "name": "stderr",
          "text": [
            "100%|██████████| 5896/5896 [01:03<00:00, 92.88it/s]\n"
          ]
        }
      ]
    },
    {
      "cell_type": "code",
      "source": [
        "final_csv = processed_csv.drop(nan_idxs)"
      ],
      "metadata": {
        "id": "S2-Q7fnbeRnA"
      },
      "execution_count": null,
      "outputs": []
    },
    {
      "cell_type": "code",
      "source": [
        "final_csv.to_csv(\"drive/MyDrive/Data_Files/svm_final.csv\")"
      ],
      "metadata": {
        "id": "S7CSvRkbgPXs"
      },
      "execution_count": null,
      "outputs": []
    },
    {
      "cell_type": "code",
      "source": [
        "final_csv.columns"
      ],
      "metadata": {
        "colab": {
          "base_uri": "https://localhost:8080/"
        },
        "id": "qWl1YkRahPTH",
        "outputId": "26e6ce0a-c9c9-4bce-f661-92b7e5661821"
      },
      "execution_count": null,
      "outputs": [
        {
          "output_type": "execute_result",
          "data": {
            "text/plain": [
              "Index(['Unnamed: 0.1', 'Unnamed: 0', 'protocol', 'measuredDate', 'createDate',\n",
              "       'updateDate', 'publishDate', 'organizationId', 'organizationName',\n",
              "       'siteId', 'siteName', 'countryName', 'countryCode', 'latitude',\n",
              "       'longitude', 'elevation', 'pid', 'landcoversDownwardPhotoUrl',\n",
              "       'landcoversEastExtraData', 'landcoversEastPhotoUrl',\n",
              "       'landcoversLocationAccuracyM', 'landcoversMucCode',\n",
              "       'landcoversUpwardPhotoUrl', 'landcoversEastCaption',\n",
              "       'landcoversMeasurementLatitude', 'landcoversWestClassifications',\n",
              "       'landcoversNorthCaption', 'landcoversNorthExtraData',\n",
              "       'landcoversDataSource', 'landcoversDryGround', 'landcoversWestCaption',\n",
              "       'landcoversSouthClassifications', 'landcoversNorthPhotoUrl',\n",
              "       'landcoversUpwardCaption', 'landcoversDownwardExtraData',\n",
              "       'landcoversEastClassifications', 'landcoversMucDetails',\n",
              "       'landcoversLocationMethod', 'landcoversMeasuredAt',\n",
              "       'landcoversDownwardCaption', 'landcoversSouthPhotoUrl',\n",
              "       'landcoversMuddy', 'landcoversWestPhotoUrl', 'landcoversStandingWater',\n",
              "       '0', 'landcoversLeavesOnTrees', 'landcoversUserid',\n",
              "       'landcoversSouthExtraData', 'landcoversSouthCaption',\n",
              "       'landcoversRainingSnowing', 'landcoversUpwardExtraData',\n",
              "       'landcoversMeasurementElevation', 'landcoversWestExtraData',\n",
              "       'landcoversLandCoverId', 'landcoversMeasurementLongitude',\n",
              "       'landcoversMucDescription', 'landcoversSnowIce',\n",
              "       'landcoversNorthClassifications', 'landcoversFieldNotes', 'imageName',\n",
              "       'imageDirection', 'datasetLoc', 'features', 'trees', 'shrubs',\n",
              "       'herbaceous/grassland', 'barren', 'wetlands', 'open water',\n",
              "       'cultivated', 'urban', 'water', 'land', 'sky'],\n",
              "      dtype='object')"
            ]
          },
          "metadata": {},
          "execution_count": 173
        }
      ]
    },
    {
      "cell_type": "markdown",
      "source": [
        "## test models"
      ],
      "metadata": {
        "id": "RhyZ0P28CIqZ"
      }
    },
    {
      "cell_type": "code",
      "source": [
        "import os\n",
        "import numpy as np\n",
        "import pandas as pd\n",
        "from sklearn.model_selection import train_test_split\n",
        "from sklearn.metrics import roc_curve, auc, confusion_matrix, precision_recall_curve, average_precision_score\n",
        "from sklearn.pipeline import make_pipeline\n",
        "from sklearn.preprocessing import StandardScaler\n",
        "from sklearn.tree import DecisionTreeRegressor\n",
        "from sklearn.model_selection import cross_val_score\n",
        "from sklearn.svm import SVR\n",
        "from sklearn.linear_model import LinearRegression\n",
        "from sklearn import metrics\n",
        "from sklearn.metrics import RocCurveDisplay\n",
        "import matplotlib.pyplot as plt\n",
        "import scipy"
      ],
      "metadata": {
        "id": "bqBYvjKorllc"
      },
      "execution_count": null,
      "outputs": []
    },
    {
      "cell_type": "markdown",
      "source": [
        "Let's do this per class. No cross val."
      ],
      "metadata": {
        "id": "98RH6fmRgY8U"
      }
    },
    {
      "cell_type": "code",
      "source": [
        "final_df = pd.read_csv(\"drive/MyDrive/Data_Files/svm_final.csv\")"
      ],
      "metadata": {
        "id": "b8lJKH3eq5gI"
      },
      "execution_count": null,
      "outputs": []
    },
    {
      "cell_type": "code",
      "source": [
        "label_dict = {0:'trees', 1:'shrubs', 2:'herbaceous/grassland', 3:'barren', 4:'wetlands',\n",
        "              5:'open water', 6:'cultivated', 7:'urban'}"
      ],
      "metadata": {
        "id": "duy2vSe0hICN"
      },
      "execution_count": null,
      "outputs": []
    },
    {
      "cell_type": "code",
      "source": [
        "\n",
        "def features_df(df, class_name):\n",
        "    df = df.reset_index(drop=True)\n",
        "    X=df['features']\n",
        "    X_list = [0] * len(X)\n",
        "    for i in range(len(X)):\n",
        "        mod_X = X[i][1:]\n",
        "        mod_2X = mod_X[:-1]\n",
        "        X_list[i] = np.array(np.fromstring(mod_2X, dtype=float, sep=' '))\n",
        "    X_df = pd.DataFrame(X_list)\n",
        "    X_df[['water', 'land', 'sky']] = df[['water', 'land', 'sky']]\n",
        "\n",
        "    y = np.array(df[f'{class_name}'])\n",
        "\n",
        "    return X_df, y"
      ],
      "metadata": {
        "id": "8RvWRW5ZrbzZ"
      },
      "execution_count": null,
      "outputs": []
    },
    {
      "cell_type": "code",
      "source": [
        "def get_splits(df, class_num, label_dict): # maybe add image dir after and see how much weight it got\n",
        "  class_name = label_dict[class_num]\n",
        "  cols = ['imageName', 'features',  'water', 'land', 'sky', class_name]\n",
        "  X = df[cols]\n",
        "  # we can try this later, balancing classes ah = cut_csv[cut_csv[class_name] != 0]\n",
        "\n",
        "  num_zero_keep = len(X[X[class_name] != 0])\n",
        "  df_zero = X[X[class_name] == 0]\n",
        "  indices_zero = (df_zero).index\n",
        "  drop_indices = np.random.choice(indices_zero, int(len(indices_zero) - num_zero_keep/5), replace=False)\n",
        "  X = X.drop(drop_indices, axis=0)\n",
        "\n",
        "  print(len(X))\n",
        "\n",
        "  X_df, y = features_df(X, class_name)\n",
        "  nonzero_y = (y>0).astype(int) # for stratification only\n",
        "\n",
        "  X_train, X_test, y_train, y_test = train_test_split(X_df , y, test_size = 0.2, stratify=nonzero_y, random_state = 86)\n",
        "\n",
        "  X_train = X_train.reset_index(drop=True)\n",
        "  X_test = X_test.reset_index(drop=True)\n",
        "\n",
        "  return X_train, X_test, y_train, y_test"
      ],
      "metadata": {
        "id": "7pNfmQAtrW9j"
      },
      "execution_count": null,
      "outputs": []
    },
    {
      "cell_type": "code",
      "source": [
        "def train_test_model(df, class_num, label_dict):\n",
        "    X_train, X_test, y_train, y_test = get_splits(df, class_num, label_dict)\n",
        "\n",
        "    # svr_rbf = SVR(kernel=\"rbf\", C=100, gamma=0.1, epsilon=0.1)\n",
        "    # svr_poly = SVR(kernel=\"poly\", C=100, gamma=\"auto\", degree=3, epsilon=0.1, coef0=1)\n",
        "    # svr_lin = SVR(kernel=\"poly\", degree = 120, C=10, gamma=\"scale\"), clf = make_pipeline(StandardScaler(), svr_lin)\n",
        "    # clf = LinearRegression()\n",
        "    regressor = DecisionTreeRegressor(random_state=86)\n",
        "    cross_val_score(regressor, X, y, cv=10)\n",
        "\n",
        "\n",
        "    clf.fit(X_train[:].values, y_train) # only values no header\n",
        "\n",
        "    preds = clf.predict(X_test[:].values)\n",
        "    return clf, preds, y_test, X_train"
      ],
      "metadata": {
        "id": "Us2UVhPvrSkf"
      },
      "execution_count": null,
      "outputs": []
    },
    {
      "cell_type": "code",
      "source": [
        "clf, preds, y_test, X_train = train_test_model(final_df,5, label_dict)"
      ],
      "metadata": {
        "colab": {
          "base_uri": "https://localhost:8080/"
        },
        "id": "w6o0ghWXAyGN",
        "outputId": "fd71dc92-04c5-43a4-cc49-9e3d57554382"
      },
      "execution_count": null,
      "outputs": [
        {
          "output_type": "stream",
          "name": "stdout",
          "text": [
            "160\n"
          ]
        }
      ]
    },
    {
      "cell_type": "code",
      "source": [
        "X_train"
      ],
      "metadata": {
        "colab": {
          "base_uri": "https://localhost:8080/",
          "height": 487
        },
        "id": "HJIQCK0hmrK_",
        "outputId": "4f37c9b0-cea4-4cb6-a642-f44a0b754660"
      },
      "execution_count": null,
      "outputs": [
        {
          "output_type": "execute_result",
          "data": {
            "text/plain": [
              "            0         1         2         3         4         5         6  \\\n",
              "0    0.156682  0.544455  1.168823  0.222908  0.113312  1.420613  0.619419   \n",
              "1    2.479974  0.091244  0.275835  0.162278  0.157234  0.553682  1.779637   \n",
              "2    0.913267  0.254065  0.457749  0.078389  0.895416  1.335853  0.006378   \n",
              "3    0.201777  0.670976  0.497371  0.225935  0.074104  0.262568  0.140983   \n",
              "4    0.221349  2.651493  1.686017  0.391896  0.243863  1.226999  0.000000   \n",
              "..        ...       ...       ...       ...       ...       ...       ...   \n",
              "123  1.000749  0.000000  0.335330  0.923201  0.066468  0.497983  0.034587   \n",
              "124  0.541831  1.433851  0.166100  0.405206  0.070704  1.334211  0.000000   \n",
              "125  0.672413  2.858837  1.247775  0.250124  0.000000  2.368288  0.013859   \n",
              "126  0.117534  1.067656  0.327422  0.377484  0.331776  2.435990  0.041633   \n",
              "127  0.782452  0.469303  0.121638  0.574215  0.338826  0.641115  0.031603   \n",
              "\n",
              "            7         8         9  ...       505       506       507  \\\n",
              "0    0.388168  0.956613  1.336461  ...  0.465926  1.117562  0.830627   \n",
              "1    3.201842  3.881706  0.349521  ...  0.323870  1.134562  0.015164   \n",
              "2    0.520716  2.486288  0.267494  ...  0.520365  0.520569  3.509817   \n",
              "3    0.448007  1.788635  0.330094  ...  1.102799  1.772145  0.072216   \n",
              "4    0.217658  0.746010  1.074220  ...  0.629728  1.265595  1.236949   \n",
              "..        ...       ...       ...  ...       ...       ...       ...   \n",
              "123  0.885978  0.676861  0.016695  ...  0.150726  0.338351  0.188168   \n",
              "124  0.018138  1.693227  0.415823  ...  1.195693  1.704087  0.431502   \n",
              "125  0.022830  0.754624  1.279889  ...  1.237345  1.296458  2.429547   \n",
              "126  0.867049  1.771649  0.028136  ...  0.526172  0.252179  0.861685   \n",
              "127  0.082391  0.232143  0.266116  ...  0.774938  0.455250  0.409483   \n",
              "\n",
              "          508       509       510       511  water  land  sky  \n",
              "0    1.235641  0.274298  1.010259  1.225062      0     1    1  \n",
              "1    0.406770  1.130457  1.355548  0.557614      1     1    1  \n",
              "2    0.012047  0.817769  2.609023  0.480241      1     1    0  \n",
              "3    0.815493  0.682240  0.448326  0.375660      0     1    1  \n",
              "4    0.049249  1.708826  0.150156  0.208446      0     1    1  \n",
              "..        ...       ...       ...       ...    ...   ...  ...  \n",
              "123  1.810821  0.116170  0.389582  1.639830      1     1    1  \n",
              "124  0.060398  0.160687  0.012416  0.681343      0     1    0  \n",
              "125  0.070533  0.474470  1.890727  0.478275      0     1    1  \n",
              "126  0.776066  0.720133  1.383945  1.774894      0     1    1  \n",
              "127  0.264917  0.941600  0.069418  0.629440      0     1    1  \n",
              "\n",
              "[128 rows x 515 columns]"
            ],
            "text/html": [
              "\n",
              "\n",
              "  <div id=\"df-4a114a80-a919-4727-8f69-b5a38a5ca33d\">\n",
              "    <div class=\"colab-df-container\">\n",
              "      <div>\n",
              "<style scoped>\n",
              "    .dataframe tbody tr th:only-of-type {\n",
              "        vertical-align: middle;\n",
              "    }\n",
              "\n",
              "    .dataframe tbody tr th {\n",
              "        vertical-align: top;\n",
              "    }\n",
              "\n",
              "    .dataframe thead th {\n",
              "        text-align: right;\n",
              "    }\n",
              "</style>\n",
              "<table border=\"1\" class=\"dataframe\">\n",
              "  <thead>\n",
              "    <tr style=\"text-align: right;\">\n",
              "      <th></th>\n",
              "      <th>0</th>\n",
              "      <th>1</th>\n",
              "      <th>2</th>\n",
              "      <th>3</th>\n",
              "      <th>4</th>\n",
              "      <th>5</th>\n",
              "      <th>6</th>\n",
              "      <th>7</th>\n",
              "      <th>8</th>\n",
              "      <th>9</th>\n",
              "      <th>...</th>\n",
              "      <th>505</th>\n",
              "      <th>506</th>\n",
              "      <th>507</th>\n",
              "      <th>508</th>\n",
              "      <th>509</th>\n",
              "      <th>510</th>\n",
              "      <th>511</th>\n",
              "      <th>water</th>\n",
              "      <th>land</th>\n",
              "      <th>sky</th>\n",
              "    </tr>\n",
              "  </thead>\n",
              "  <tbody>\n",
              "    <tr>\n",
              "      <th>0</th>\n",
              "      <td>0.156682</td>\n",
              "      <td>0.544455</td>\n",
              "      <td>1.168823</td>\n",
              "      <td>0.222908</td>\n",
              "      <td>0.113312</td>\n",
              "      <td>1.420613</td>\n",
              "      <td>0.619419</td>\n",
              "      <td>0.388168</td>\n",
              "      <td>0.956613</td>\n",
              "      <td>1.336461</td>\n",
              "      <td>...</td>\n",
              "      <td>0.465926</td>\n",
              "      <td>1.117562</td>\n",
              "      <td>0.830627</td>\n",
              "      <td>1.235641</td>\n",
              "      <td>0.274298</td>\n",
              "      <td>1.010259</td>\n",
              "      <td>1.225062</td>\n",
              "      <td>0</td>\n",
              "      <td>1</td>\n",
              "      <td>1</td>\n",
              "    </tr>\n",
              "    <tr>\n",
              "      <th>1</th>\n",
              "      <td>2.479974</td>\n",
              "      <td>0.091244</td>\n",
              "      <td>0.275835</td>\n",
              "      <td>0.162278</td>\n",
              "      <td>0.157234</td>\n",
              "      <td>0.553682</td>\n",
              "      <td>1.779637</td>\n",
              "      <td>3.201842</td>\n",
              "      <td>3.881706</td>\n",
              "      <td>0.349521</td>\n",
              "      <td>...</td>\n",
              "      <td>0.323870</td>\n",
              "      <td>1.134562</td>\n",
              "      <td>0.015164</td>\n",
              "      <td>0.406770</td>\n",
              "      <td>1.130457</td>\n",
              "      <td>1.355548</td>\n",
              "      <td>0.557614</td>\n",
              "      <td>1</td>\n",
              "      <td>1</td>\n",
              "      <td>1</td>\n",
              "    </tr>\n",
              "    <tr>\n",
              "      <th>2</th>\n",
              "      <td>0.913267</td>\n",
              "      <td>0.254065</td>\n",
              "      <td>0.457749</td>\n",
              "      <td>0.078389</td>\n",
              "      <td>0.895416</td>\n",
              "      <td>1.335853</td>\n",
              "      <td>0.006378</td>\n",
              "      <td>0.520716</td>\n",
              "      <td>2.486288</td>\n",
              "      <td>0.267494</td>\n",
              "      <td>...</td>\n",
              "      <td>0.520365</td>\n",
              "      <td>0.520569</td>\n",
              "      <td>3.509817</td>\n",
              "      <td>0.012047</td>\n",
              "      <td>0.817769</td>\n",
              "      <td>2.609023</td>\n",
              "      <td>0.480241</td>\n",
              "      <td>1</td>\n",
              "      <td>1</td>\n",
              "      <td>0</td>\n",
              "    </tr>\n",
              "    <tr>\n",
              "      <th>3</th>\n",
              "      <td>0.201777</td>\n",
              "      <td>0.670976</td>\n",
              "      <td>0.497371</td>\n",
              "      <td>0.225935</td>\n",
              "      <td>0.074104</td>\n",
              "      <td>0.262568</td>\n",
              "      <td>0.140983</td>\n",
              "      <td>0.448007</td>\n",
              "      <td>1.788635</td>\n",
              "      <td>0.330094</td>\n",
              "      <td>...</td>\n",
              "      <td>1.102799</td>\n",
              "      <td>1.772145</td>\n",
              "      <td>0.072216</td>\n",
              "      <td>0.815493</td>\n",
              "      <td>0.682240</td>\n",
              "      <td>0.448326</td>\n",
              "      <td>0.375660</td>\n",
              "      <td>0</td>\n",
              "      <td>1</td>\n",
              "      <td>1</td>\n",
              "    </tr>\n",
              "    <tr>\n",
              "      <th>4</th>\n",
              "      <td>0.221349</td>\n",
              "      <td>2.651493</td>\n",
              "      <td>1.686017</td>\n",
              "      <td>0.391896</td>\n",
              "      <td>0.243863</td>\n",
              "      <td>1.226999</td>\n",
              "      <td>0.000000</td>\n",
              "      <td>0.217658</td>\n",
              "      <td>0.746010</td>\n",
              "      <td>1.074220</td>\n",
              "      <td>...</td>\n",
              "      <td>0.629728</td>\n",
              "      <td>1.265595</td>\n",
              "      <td>1.236949</td>\n",
              "      <td>0.049249</td>\n",
              "      <td>1.708826</td>\n",
              "      <td>0.150156</td>\n",
              "      <td>0.208446</td>\n",
              "      <td>0</td>\n",
              "      <td>1</td>\n",
              "      <td>1</td>\n",
              "    </tr>\n",
              "    <tr>\n",
              "      <th>...</th>\n",
              "      <td>...</td>\n",
              "      <td>...</td>\n",
              "      <td>...</td>\n",
              "      <td>...</td>\n",
              "      <td>...</td>\n",
              "      <td>...</td>\n",
              "      <td>...</td>\n",
              "      <td>...</td>\n",
              "      <td>...</td>\n",
              "      <td>...</td>\n",
              "      <td>...</td>\n",
              "      <td>...</td>\n",
              "      <td>...</td>\n",
              "      <td>...</td>\n",
              "      <td>...</td>\n",
              "      <td>...</td>\n",
              "      <td>...</td>\n",
              "      <td>...</td>\n",
              "      <td>...</td>\n",
              "      <td>...</td>\n",
              "      <td>...</td>\n",
              "    </tr>\n",
              "    <tr>\n",
              "      <th>123</th>\n",
              "      <td>1.000749</td>\n",
              "      <td>0.000000</td>\n",
              "      <td>0.335330</td>\n",
              "      <td>0.923201</td>\n",
              "      <td>0.066468</td>\n",
              "      <td>0.497983</td>\n",
              "      <td>0.034587</td>\n",
              "      <td>0.885978</td>\n",
              "      <td>0.676861</td>\n",
              "      <td>0.016695</td>\n",
              "      <td>...</td>\n",
              "      <td>0.150726</td>\n",
              "      <td>0.338351</td>\n",
              "      <td>0.188168</td>\n",
              "      <td>1.810821</td>\n",
              "      <td>0.116170</td>\n",
              "      <td>0.389582</td>\n",
              "      <td>1.639830</td>\n",
              "      <td>1</td>\n",
              "      <td>1</td>\n",
              "      <td>1</td>\n",
              "    </tr>\n",
              "    <tr>\n",
              "      <th>124</th>\n",
              "      <td>0.541831</td>\n",
              "      <td>1.433851</td>\n",
              "      <td>0.166100</td>\n",
              "      <td>0.405206</td>\n",
              "      <td>0.070704</td>\n",
              "      <td>1.334211</td>\n",
              "      <td>0.000000</td>\n",
              "      <td>0.018138</td>\n",
              "      <td>1.693227</td>\n",
              "      <td>0.415823</td>\n",
              "      <td>...</td>\n",
              "      <td>1.195693</td>\n",
              "      <td>1.704087</td>\n",
              "      <td>0.431502</td>\n",
              "      <td>0.060398</td>\n",
              "      <td>0.160687</td>\n",
              "      <td>0.012416</td>\n",
              "      <td>0.681343</td>\n",
              "      <td>0</td>\n",
              "      <td>1</td>\n",
              "      <td>0</td>\n",
              "    </tr>\n",
              "    <tr>\n",
              "      <th>125</th>\n",
              "      <td>0.672413</td>\n",
              "      <td>2.858837</td>\n",
              "      <td>1.247775</td>\n",
              "      <td>0.250124</td>\n",
              "      <td>0.000000</td>\n",
              "      <td>2.368288</td>\n",
              "      <td>0.013859</td>\n",
              "      <td>0.022830</td>\n",
              "      <td>0.754624</td>\n",
              "      <td>1.279889</td>\n",
              "      <td>...</td>\n",
              "      <td>1.237345</td>\n",
              "      <td>1.296458</td>\n",
              "      <td>2.429547</td>\n",
              "      <td>0.070533</td>\n",
              "      <td>0.474470</td>\n",
              "      <td>1.890727</td>\n",
              "      <td>0.478275</td>\n",
              "      <td>0</td>\n",
              "      <td>1</td>\n",
              "      <td>1</td>\n",
              "    </tr>\n",
              "    <tr>\n",
              "      <th>126</th>\n",
              "      <td>0.117534</td>\n",
              "      <td>1.067656</td>\n",
              "      <td>0.327422</td>\n",
              "      <td>0.377484</td>\n",
              "      <td>0.331776</td>\n",
              "      <td>2.435990</td>\n",
              "      <td>0.041633</td>\n",
              "      <td>0.867049</td>\n",
              "      <td>1.771649</td>\n",
              "      <td>0.028136</td>\n",
              "      <td>...</td>\n",
              "      <td>0.526172</td>\n",
              "      <td>0.252179</td>\n",
              "      <td>0.861685</td>\n",
              "      <td>0.776066</td>\n",
              "      <td>0.720133</td>\n",
              "      <td>1.383945</td>\n",
              "      <td>1.774894</td>\n",
              "      <td>0</td>\n",
              "      <td>1</td>\n",
              "      <td>1</td>\n",
              "    </tr>\n",
              "    <tr>\n",
              "      <th>127</th>\n",
              "      <td>0.782452</td>\n",
              "      <td>0.469303</td>\n",
              "      <td>0.121638</td>\n",
              "      <td>0.574215</td>\n",
              "      <td>0.338826</td>\n",
              "      <td>0.641115</td>\n",
              "      <td>0.031603</td>\n",
              "      <td>0.082391</td>\n",
              "      <td>0.232143</td>\n",
              "      <td>0.266116</td>\n",
              "      <td>...</td>\n",
              "      <td>0.774938</td>\n",
              "      <td>0.455250</td>\n",
              "      <td>0.409483</td>\n",
              "      <td>0.264917</td>\n",
              "      <td>0.941600</td>\n",
              "      <td>0.069418</td>\n",
              "      <td>0.629440</td>\n",
              "      <td>0</td>\n",
              "      <td>1</td>\n",
              "      <td>1</td>\n",
              "    </tr>\n",
              "  </tbody>\n",
              "</table>\n",
              "<p>128 rows × 515 columns</p>\n",
              "</div>\n",
              "      <button class=\"colab-df-convert\" onclick=\"convertToInteractive('df-4a114a80-a919-4727-8f69-b5a38a5ca33d')\"\n",
              "              title=\"Convert this dataframe to an interactive table.\"\n",
              "              style=\"display:none;\">\n",
              "\n",
              "  <svg xmlns=\"http://www.w3.org/2000/svg\" height=\"24px\"viewBox=\"0 0 24 24\"\n",
              "       width=\"24px\">\n",
              "    <path d=\"M0 0h24v24H0V0z\" fill=\"none\"/>\n",
              "    <path d=\"M18.56 5.44l.94 2.06.94-2.06 2.06-.94-2.06-.94-.94-2.06-.94 2.06-2.06.94zm-11 1L8.5 8.5l.94-2.06 2.06-.94-2.06-.94L8.5 2.5l-.94 2.06-2.06.94zm10 10l.94 2.06.94-2.06 2.06-.94-2.06-.94-.94-2.06-.94 2.06-2.06.94z\"/><path d=\"M17.41 7.96l-1.37-1.37c-.4-.4-.92-.59-1.43-.59-.52 0-1.04.2-1.43.59L10.3 9.45l-7.72 7.72c-.78.78-.78 2.05 0 2.83L4 21.41c.39.39.9.59 1.41.59.51 0 1.02-.2 1.41-.59l7.78-7.78 2.81-2.81c.8-.78.8-2.07 0-2.86zM5.41 20L4 18.59l7.72-7.72 1.47 1.35L5.41 20z\"/>\n",
              "  </svg>\n",
              "      </button>\n",
              "\n",
              "\n",
              "\n",
              "    <div id=\"df-b67af04b-bc69-46fc-9a96-72e427289ae5\">\n",
              "      <button class=\"colab-df-quickchart\" onclick=\"quickchart('df-b67af04b-bc69-46fc-9a96-72e427289ae5')\"\n",
              "              title=\"Suggest charts.\"\n",
              "              style=\"display:none;\">\n",
              "\n",
              "<svg xmlns=\"http://www.w3.org/2000/svg\" height=\"24px\"viewBox=\"0 0 24 24\"\n",
              "     width=\"24px\">\n",
              "    <g>\n",
              "        <path d=\"M19 3H5c-1.1 0-2 .9-2 2v14c0 1.1.9 2 2 2h14c1.1 0 2-.9 2-2V5c0-1.1-.9-2-2-2zM9 17H7v-7h2v7zm4 0h-2V7h2v10zm4 0h-2v-4h2v4z\"/>\n",
              "    </g>\n",
              "</svg>\n",
              "      </button>\n",
              "    </div>\n",
              "\n",
              "<style>\n",
              "  .colab-df-quickchart {\n",
              "    background-color: #E8F0FE;\n",
              "    border: none;\n",
              "    border-radius: 50%;\n",
              "    cursor: pointer;\n",
              "    display: none;\n",
              "    fill: #1967D2;\n",
              "    height: 32px;\n",
              "    padding: 0 0 0 0;\n",
              "    width: 32px;\n",
              "  }\n",
              "\n",
              "  .colab-df-quickchart:hover {\n",
              "    background-color: #E2EBFA;\n",
              "    box-shadow: 0px 1px 2px rgba(60, 64, 67, 0.3), 0px 1px 3px 1px rgba(60, 64, 67, 0.15);\n",
              "    fill: #174EA6;\n",
              "  }\n",
              "\n",
              "  [theme=dark] .colab-df-quickchart {\n",
              "    background-color: #3B4455;\n",
              "    fill: #D2E3FC;\n",
              "  }\n",
              "\n",
              "  [theme=dark] .colab-df-quickchart:hover {\n",
              "    background-color: #434B5C;\n",
              "    box-shadow: 0px 1px 3px 1px rgba(0, 0, 0, 0.15);\n",
              "    filter: drop-shadow(0px 1px 2px rgba(0, 0, 0, 0.3));\n",
              "    fill: #FFFFFF;\n",
              "  }\n",
              "</style>\n",
              "\n",
              "    <script>\n",
              "      async function quickchart(key) {\n",
              "        const containerElement = document.querySelector('#' + key);\n",
              "        const charts = await google.colab.kernel.invokeFunction(\n",
              "            'suggestCharts', [key], {});\n",
              "      }\n",
              "    </script>\n",
              "\n",
              "      <script>\n",
              "\n",
              "function displayQuickchartButton(domScope) {\n",
              "  let quickchartButtonEl =\n",
              "    domScope.querySelector('#df-b67af04b-bc69-46fc-9a96-72e427289ae5 button.colab-df-quickchart');\n",
              "  quickchartButtonEl.style.display =\n",
              "    google.colab.kernel.accessAllowed ? 'block' : 'none';\n",
              "}\n",
              "\n",
              "        displayQuickchartButton(document);\n",
              "      </script>\n",
              "      <style>\n",
              "    .colab-df-container {\n",
              "      display:flex;\n",
              "      flex-wrap:wrap;\n",
              "      gap: 12px;\n",
              "    }\n",
              "\n",
              "    .colab-df-convert {\n",
              "      background-color: #E8F0FE;\n",
              "      border: none;\n",
              "      border-radius: 50%;\n",
              "      cursor: pointer;\n",
              "      display: none;\n",
              "      fill: #1967D2;\n",
              "      height: 32px;\n",
              "      padding: 0 0 0 0;\n",
              "      width: 32px;\n",
              "    }\n",
              "\n",
              "    .colab-df-convert:hover {\n",
              "      background-color: #E2EBFA;\n",
              "      box-shadow: 0px 1px 2px rgba(60, 64, 67, 0.3), 0px 1px 3px 1px rgba(60, 64, 67, 0.15);\n",
              "      fill: #174EA6;\n",
              "    }\n",
              "\n",
              "    [theme=dark] .colab-df-convert {\n",
              "      background-color: #3B4455;\n",
              "      fill: #D2E3FC;\n",
              "    }\n",
              "\n",
              "    [theme=dark] .colab-df-convert:hover {\n",
              "      background-color: #434B5C;\n",
              "      box-shadow: 0px 1px 3px 1px rgba(0, 0, 0, 0.15);\n",
              "      filter: drop-shadow(0px 1px 2px rgba(0, 0, 0, 0.3));\n",
              "      fill: #FFFFFF;\n",
              "    }\n",
              "  </style>\n",
              "\n",
              "      <script>\n",
              "        const buttonEl =\n",
              "          document.querySelector('#df-4a114a80-a919-4727-8f69-b5a38a5ca33d button.colab-df-convert');\n",
              "        buttonEl.style.display =\n",
              "          google.colab.kernel.accessAllowed ? 'block' : 'none';\n",
              "\n",
              "        async function convertToInteractive(key) {\n",
              "          const element = document.querySelector('#df-4a114a80-a919-4727-8f69-b5a38a5ca33d');\n",
              "          const dataTable =\n",
              "            await google.colab.kernel.invokeFunction('convertToInteractive',\n",
              "                                                     [key], {});\n",
              "          if (!dataTable) return;\n",
              "\n",
              "          const docLinkHtml = 'Like what you see? Visit the ' +\n",
              "            '<a target=\"_blank\" href=https://colab.research.google.com/notebooks/data_table.ipynb>data table notebook</a>'\n",
              "            + ' to learn more about interactive tables.';\n",
              "          element.innerHTML = '';\n",
              "          dataTable['output_type'] = 'display_data';\n",
              "          await google.colab.output.renderOutput(dataTable, element);\n",
              "          const docLink = document.createElement('div');\n",
              "          docLink.innerHTML = docLinkHtml;\n",
              "          element.appendChild(docLink);\n",
              "        }\n",
              "      </script>\n",
              "    </div>\n",
              "  </div>\n"
            ]
          },
          "metadata": {},
          "execution_count": 81
        }
      ]
    },
    {
      "cell_type": "code",
      "source": [
        "def floor_zero(num):\n",
        "  if num > 0:\n",
        "    return num\n",
        "  if num < 0:\n",
        "    return 0\n",
        "  if num == 0:\n",
        "    return 0"
      ],
      "metadata": {
        "id": "xWEV4R5GYUUT"
      },
      "execution_count": null,
      "outputs": []
    },
    {
      "cell_type": "code",
      "source": [
        "attempt = [floor_zero(i) for i in (preds-0.6)]"
      ],
      "metadata": {
        "id": "AFCG3_1gYaOx"
      },
      "execution_count": null,
      "outputs": []
    },
    {
      "cell_type": "code",
      "source": [
        "plt.scatter(y_test, preds)"
      ],
      "metadata": {
        "colab": {
          "base_uri": "https://localhost:8080/",
          "height": 448
        },
        "id": "qnXFOhH-YCl9",
        "outputId": "e25c629c-8a25-4f81-af88-806845457312"
      },
      "execution_count": null,
      "outputs": [
        {
          "output_type": "execute_result",
          "data": {
            "text/plain": [
              "<matplotlib.collections.PathCollection at 0x7ed497fd6d70>"
            ]
          },
          "metadata": {},
          "execution_count": 82
        },
        {
          "output_type": "display_data",
          "data": {
            "text/plain": [
              "<Figure size 640x480 with 1 Axes>"
            ],
            "image/png": "[encoded data removed]"
          },
          "metadata": {}
        }
      ]
    },
    {
      "cell_type": "code",
      "source": [
        "y_test"
      ],
      "metadata": {
        "colab": {
          "base_uri": "https://localhost:8080/"
        },
        "id": "96cFk3P7T-9X",
        "outputId": "b3acc531-1e4e-4f4e-94c3-b0d9a08b4b98"
      },
      "execution_count": null,
      "outputs": [
        {
          "output_type": "execute_result",
          "data": {
            "text/plain": [
              "array([0.8 , 0.1 , 0.43, 0.43, 0.1 , 0.12, 1.  , 0.3 , 0.  , 0.52, 0.91,\n",
              "       0.  , 1.  , 0.44, 0.32, 0.  , 0.1 , 0.93, 0.91, 0.91, 0.  , 0.5 ,\n",
              "       0.42, 0.5 , 0.  , 0.43, 0.2 , 0.1 , 0.2 , 0.91, 0.2 , 0.43])"
            ]
          },
          "metadata": {},
          "execution_count": 97
        }
      ]
    },
    {
      "cell_type": "code",
      "source": [
        "np.round(preds, 2)"
      ],
      "metadata": {
        "colab": {
          "base_uri": "https://localhost:8080/"
        },
        "id": "NcsQZiFpT86H",
        "outputId": "e59f6308-e73d-47bb-f5af-8d11dbf5951e"
      },
      "execution_count": null,
      "outputs": [
        {
          "output_type": "execute_result",
          "data": {
            "text/plain": [
              "array([0.24, 0.24, 0.24, 0.24, 0.24, 0.24, 0.24, 0.24, 0.24, 0.24, 0.24,\n",
              "       0.24, 0.24, 0.24, 0.24, 0.24, 0.24, 0.24, 0.24, 0.24, 0.24, 0.24,\n",
              "       0.24, 0.24, 0.24, 0.24, 0.24, 0.24, 0.24, 0.24, 0.24, 0.24])"
            ]
          },
          "metadata": {},
          "execution_count": 98
        }
      ]
    },
    {
      "cell_type": "code",
      "source": [
        "print('yay')"
      ],
      "metadata": {
        "id": "XNp0o1Qs05a4"
      },
      "execution_count": null,
      "outputs": []
    },
    {
      "cell_type": "code",
      "source": [],
      "metadata": {
        "id": "Bx9Kv6FsJCMI"
      },
      "execution_count": null,
      "outputs": []
    },
    {
      "cell_type": "code",
      "source": [],
      "metadata": {
        "id": "uQjj7gbTuI6t"
      },
      "execution_count": null,
      "outputs": []
    },
    {
      "cell_type": "code",
      "source": [],
      "metadata": {
        "id": "dd3TkplnuI9J"
      },
      "execution_count": null,
      "outputs": []
    },
    {
      "cell_type": "markdown",
      "source": [
        "Future Work\n",
        "* split into grid and have cnn predict the three classes\n",
        "* use color histograms with 10 size bins (75 features)\n",
        "* choose 12 or more colors, and assign each pixel's similarity with a color. Then get percentage of each color and just pass that in to the model"
      ],
      "metadata": {
        "id": "xOx0K3J5uJJF"
      }
    },
    {
      "cell_type": "code",
      "source": [],
      "metadata": {
        "id": "9jmJvugCuULB"
      },
      "execution_count": null,
      "outputs": []
    }
  ]
}