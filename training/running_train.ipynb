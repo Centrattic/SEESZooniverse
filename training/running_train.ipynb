{
  "cells": [
    {
      "cell_type": "markdown",
      "metadata": {
        "id": "view-in-github",
        "colab_type": "text"
      },
      "source": [
        "<a href=\"https://colab.research.google.com/github/Centrattic/SEESZooniverse/blob/main/training/running_train.ipynb\" target=\"_parent\"><img src=\"https://colab.research.google.com/assets/colab-badge.svg\" alt=\"Open In Colab\"/></a>"
      ]
    },
    {
      "cell_type": "code",
      "execution_count": null,
      "metadata": {
        "colab": {
          "base_uri": "https://localhost:8080/"
        },
        "id": "oOsWyFDOelYa",
        "outputId": "a95cfca2-8bde-4ea3-cc3a-09940a79d9df"
      },
      "outputs": [
        {
          "output_type": "stream",
          "name": "stdout",
          "text": [
            "Requirement already satisfied: skorch in /usr/local/lib/python3.10/dist-packages (0.14.0)\n",
            "Requirement already satisfied: numpy>=1.13.3 in /usr/local/lib/python3.10/dist-packages (from skorch) (1.22.4)\n",
            "Requirement already satisfied: scikit-learn>=0.22.0 in /usr/local/lib/python3.10/dist-packages (from skorch) (1.2.2)\n",
            "Requirement already satisfied: scipy>=1.1.0 in /usr/local/lib/python3.10/dist-packages (from skorch) (1.10.1)\n",
            "Requirement already satisfied: tabulate>=0.7.7 in /usr/local/lib/python3.10/dist-packages (from skorch) (0.9.0)\n",
            "Requirement already satisfied: tqdm>=4.14.0 in /usr/local/lib/python3.10/dist-packages (from skorch) (4.65.0)\n",
            "Requirement already satisfied: joblib>=1.1.1 in /usr/local/lib/python3.10/dist-packages (from scikit-learn>=0.22.0->skorch) (1.3.1)\n",
            "Requirement already satisfied: threadpoolctl>=2.0.0 in /usr/local/lib/python3.10/dist-packages (from scikit-learn>=0.22.0->skorch) (3.2.0)\n"
          ]
        }
      ],
      "source": [
        "!pip install skorch"
      ]
    },
    {
      "cell_type": "code",
      "execution_count": null,
      "metadata": {
        "id": "K4-LswyXeU7p"
      },
      "outputs": [],
      "source": [
        "import os"
      ]
    },
    {
      "cell_type": "code",
      "execution_count": null,
      "metadata": {
        "id": "AFP12n8geYO_"
      },
      "outputs": [],
      "source": [
        "os.chdir('drive/MyDrive/Colab Notebooks')"
      ]
    },
    {
      "cell_type": "code",
      "execution_count": null,
      "metadata": {
        "id": "q8PrUDyVffCC"
      },
      "outputs": [],
      "source": [
        "from aug_training_sees import *"
      ]
    },
    {
      "cell_type": "code",
      "execution_count": null,
      "metadata": {
        "id": "ziA0onGdfmQ4"
      },
      "outputs": [],
      "source": [
        "# running the training\n",
        "\n",
        "experiment_name = \"water\"\n",
        "data_dir = \"../datasets/water\"\n",
        "\n",
        "if not os.path.isdir(os.path.join('outputs', 'probabilities', experiment_name)):\n",
        "    os.makedirs(os.path.join('outputs', 'probabilities', experiment_name))\n",
        "if not os.path.isdir(os.path.join('outputs', 'checkpoints', experiment_name)):\n",
        "    os.makedirs(os.path.join('outputs', 'checkpoints', experiment_name))\n",
        "if not os.path.isdir(os.path.join('outputs', 'histories', experiment_name)):\n",
        "    os.makedirs(os.path.join('outputs', 'histories', experiment_name))\n",
        "\n",
        "train(data_dir, experiment_name)"
      ]
    },
    {
      "cell_type": "code",
      "execution_count": null,
      "metadata": {
        "id": "79VSkMbefwps"
      },
      "outputs": [],
      "source": [
        "\n",
        "experiment_name = \"sky\"\n",
        "data_dir = \"../datasets/sky\"\n",
        "\n",
        "if not os.path.isdir(os.path.join('outputs', 'probabilities', experiment_name)):\n",
        "    os.makedirs(os.path.join('outputs', 'probabilities', experiment_name))\n",
        "if not os.path.isdir(os.path.join('outputs', 'checkpoints', experiment_name)):\n",
        "    os.makedirs(os.path.join('outputs', 'checkpoints', experiment_name))\n",
        "if not os.path.isdir(os.path.join('outputs', 'histories', experiment_name)):\n",
        "    os.makedirs(os.path.join('outputs', 'histories', experiment_name))\n",
        "\n",
        "train(data_dir, experiment_name)"
      ]
    },
    {
      "cell_type": "code",
      "execution_count": null,
      "metadata": {
        "colab": {
          "base_uri": "https://localhost:8080/"
        },
        "id": "rh6kMV188AWh",
        "outputId": "309fb006-5023-4c65-ba63-3edc15ae823d"
      },
      "outputs": [
        {
          "output_type": "stream",
          "name": "stdout",
          "text": [
            "Train/Test/Val datasets have been created.\n",
            "\n",
            "Experiment Name:land_weighting_larger\n",
            "Data Directory: ../datasets/land\n",
            "Number of Classes: 2\n",
            "Number of class 0: 4065\n",
            "Number of class 1: 61\n",
            "Batch Size: 64\n",
            "Number of Epochs: 50\n",
            "Initial Learning Rate: 5e-05\n",
            "Device: cuda\n",
            "quick test\n",
            "\n",
            "Model is fitting. Thank you for your patience.\n",
            "  epoch    train_acc    train_loss    valid_acc    valid_loss    cp      dur\n",
            "-------  -----------  ------------  -----------  ------------  ----  -------\n",
            "      1       \u001b[36m0.5036\u001b[0m        \u001b[32m0.7119\u001b[0m       \u001b[35m0.7864\u001b[0m        \u001b[31m0.5373\u001b[0m     +  52.7106\n",
            "      2       \u001b[36m0.5594\u001b[0m        \u001b[32m0.6565\u001b[0m       \u001b[35m0.8780\u001b[0m        \u001b[31m0.4609\u001b[0m     +  52.0878\n",
            "      3       \u001b[36m0.5996\u001b[0m        \u001b[32m0.6353\u001b[0m       \u001b[35m0.8814\u001b[0m        \u001b[31m0.4476\u001b[0m     +  53.4744\n",
            "      4       \u001b[36m0.6495\u001b[0m        \u001b[32m0.6070\u001b[0m       \u001b[35m0.9034\u001b[0m        \u001b[31m0.4192\u001b[0m     +  50.6350\n",
            "      5       0.6483        \u001b[32m0.6004\u001b[0m       \u001b[35m0.9068\u001b[0m        \u001b[31m0.4059\u001b[0m     +  51.7231\n",
            "      6       \u001b[36m0.6786\u001b[0m        \u001b[32m0.5851\u001b[0m       0.8966        0.4084        53.1552\n",
            "      7       \u001b[36m0.6924\u001b[0m        \u001b[32m0.5623\u001b[0m       \u001b[35m0.9271\u001b[0m        \u001b[31m0.3602\u001b[0m     +  51.6168\n",
            "      8       \u001b[36m0.6970\u001b[0m        \u001b[32m0.5578\u001b[0m       \u001b[35m0.9288\u001b[0m        \u001b[31m0.3488\u001b[0m     +  50.8709\n",
            "      9       \u001b[36m0.7130\u001b[0m        \u001b[32m0.5425\u001b[0m       0.9220        0.3517        53.2724\n",
            "     10       \u001b[36m0.7203\u001b[0m        \u001b[32m0.5296\u001b[0m       0.8983        0.3727        51.3712\n",
            "     11       \u001b[36m0.7218\u001b[0m        \u001b[32m0.5266\u001b[0m       0.8966        0.3663        51.8546\n",
            "     12       \u001b[36m0.7341\u001b[0m        \u001b[32m0.5150\u001b[0m       0.9153        \u001b[31m0.3325\u001b[0m     +  51.7611\n",
            "     13       \u001b[36m0.7470\u001b[0m        \u001b[32m0.5056\u001b[0m       0.9136        0.3407        51.8295\n",
            "     14       0.7404        \u001b[32m0.5036\u001b[0m       0.9034        0.3475        52.2765\n",
            "     15       \u001b[36m0.7540\u001b[0m        \u001b[32m0.4874\u001b[0m       0.9000        0.3505        51.2516\n",
            "     16       0.7467        0.4890       0.9085        \u001b[31m0.3319\u001b[0m     +  51.5121\n",
            "     17       \u001b[36m0.7588\u001b[0m        \u001b[32m0.4753\u001b[0m       0.9119        \u001b[31m0.3220\u001b[0m     +  52.6575\n",
            "     18       \u001b[36m0.7799\u001b[0m        \u001b[32m0.4554\u001b[0m       0.9102        \u001b[31m0.3185\u001b[0m     +  50.6577\n",
            "     19       \u001b[36m0.7828\u001b[0m        \u001b[32m0.4540\u001b[0m       0.9136        \u001b[31m0.3050\u001b[0m     +  51.6728\n",
            "     20       0.7761        \u001b[32m0.4511\u001b[0m       0.9017        0.3244        53.1889\n",
            "     21       0.7702        0.4544       0.8932        0.3344        51.1108\n",
            "     22       \u001b[36m0.7913\u001b[0m        \u001b[32m0.4444\u001b[0m       0.8983        0.3287        50.8235\n",
            "     23       \u001b[36m0.7984\u001b[0m        \u001b[32m0.4298\u001b[0m       0.8847        0.3499        52.7007\n",
            "     24       0.7930        0.4310       0.9000        0.3211        50.9934\n",
            "     25       0.7933        \u001b[32m0.4213\u001b[0m       0.8915        0.3279        52.3982\n",
            "     26       \u001b[36m0.8141\u001b[0m        \u001b[32m0.4031\u001b[0m       0.9034        0.3111        51.6908\n",
            "Stopping since valid_loss has not improved in the last 8 epochs.\n",
            "Model is performing inference. Results saved in probabilities folder.\n",
            "The code is done.\n"
          ]
        }
      ],
      "source": [
        "experiment_name = \"land_weighting_larger\"\n",
        "data_dir = \"../datasets/land\"\n",
        "\n",
        "if not os.path.isdir(os.path.join('outputs', 'probabilities', experiment_name)):\n",
        "    os.makedirs(os.path.join('outputs', 'probabilities', experiment_name))\n",
        "if not os.path.isdir(os.path.join('outputs', 'checkpoints', experiment_name)):\n",
        "    os.makedirs(os.path.join('outputs', 'checkpoints', experiment_name))\n",
        "if not os.path.isdir(os.path.join('outputs', 'histories', experiment_name)):\n",
        "    os.makedirs(os.path.join('outputs', 'histories', experiment_name))\n",
        "\n",
        "train(data_dir, experiment_name)"
      ]
    },
    {
      "cell_type": "code",
      "execution_count": null,
      "metadata": {
        "id": "jt6Ag83U8GEJ"
      },
      "outputs": [],
      "source": []
    }
  ],
  "metadata": {
    "accelerator": "GPU",
    "colab": {
      "provenance": [],
      "gpuType": "T4",
      "mount_file_id": "1flrmpBEI1AOEvuHyNoohPQhT8ZxU17aH",
      "authorship_tag": "ABX9TyO8nd50Mlxj4E9UiC3Ysdds",
      "include_colab_link": true
    },
    "kernelspec": {
      "display_name": "Python 3",
      "name": "python3"
    },
    "language_info": {
      "name": "python"
    }
  },
  "nbformat": 4,
  "nbformat_minor": 0
}