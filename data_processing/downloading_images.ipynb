{
  "nbformat": 4,
  "nbformat_minor": 0,
  "metadata": {
    "colab": {
      "provenance": [],
      "authorship_tag": "ABX9TyOQ0T9XtS5I3k5KIzmPVlAX",
      "include_colab_link": true
    },
    "kernelspec": {
      "name": "python3",
      "display_name": "Python 3"
    },
    "language_info": {
      "name": "python"
    }
  },
  "cells": [
    {
      "cell_type": "markdown",
      "metadata": {
        "id": "view-in-github",
        "colab_type": "text"
      },
      "source": [
        "<a href=\"https://colab.research.google.com/github/Centrattic/SEESZooniverse/blob/main/data_processing/downloading_images.ipynb\" target=\"_parent\"><img src=\"https://colab.research.google.com/assets/colab-badge.svg\" alt=\"Open In Colab\"/></a>"
      ]
    },
    {
      "cell_type": "code",
      "source": [
        "import requests\n",
        "import shutil\n",
        "import time\n",
        "import random\n",
        "from google.colab import drive\n",
        "import pandas as pd\n",
        "from tqdm import tqdm\n",
        "import os\n",
        "from PIL import Image\n",
        "import cv2\n",
        "import numpy as np"
      ],
      "metadata": {
        "id": "Sk8DyN5Ifsa5"
      },
      "execution_count": null,
      "outputs": []
    },
    {
      "cell_type": "code",
      "source": [
        "# Mount Google Drive\n",
        "drive.mount('/content/drive')"
      ],
      "metadata": {
        "colab": {
          "base_uri": "https://localhost:8080/"
        },
        "id": "A4KZmvoUsHTe",
        "outputId": "723863b1-f004-45c9-ba7f-4527e64a9eb8"
      },
      "execution_count": null,
      "outputs": [
        {
          "output_type": "stream",
          "name": "stdout",
          "text": [
            "Mounted at /content/drive\n"
          ]
        }
      ]
    },
    {
      "cell_type": "code",
      "source": [
        "len(os.listdir(\"drive/MyDrive/Zooniverse_Images2\"))"
      ],
      "metadata": {
        "colab": {
          "base_uri": "https://localhost:8080/"
        },
        "id": "BNCPkTzaw727",
        "outputId": "0fabd1e4-0ebf-4003-cd21-5d6d349a5846"
      },
      "execution_count": null,
      "outputs": [
        {
          "output_type": "execute_result",
          "data": {
            "text/plain": [
              "5896"
            ]
          },
          "metadata": {},
          "execution_count": 3
        }
      ]
    },
    {
      "cell_type": "code",
      "source": [
        "!mkdir \"drive/MyDrive/Zooniverse_Images2/\""
      ],
      "metadata": {
        "id": "Ey8qVhcK2ZPG"
      },
      "execution_count": null,
      "outputs": []
    },
    {
      "cell_type": "code",
      "source": [
        "def download_image(image_url, image_filename, folder_path = 'drive/MyDrive/Zooniverse_Images2/', image_size = (512, 512)):\n",
        "  # Download the image\n",
        "  target_path = folder_path + image_filename\n",
        "  if os.path.exists(target_path):\n",
        "    print('Already there.')\n",
        "  else:\n",
        "      response = requests.get(image_url, stream=True)\n",
        "      if response.status_code == 200:\n",
        "      # Create a temporary file to store the downloaded image\n",
        "        image_file = '/content/temp_image.jpg'\n",
        "        with open(image_file, 'wb') as file:\n",
        "            response.raw.decode_content = True\n",
        "            shutil.copyfileobj(response.raw, file)\n",
        "\n",
        "        img = Image.open(\"temp_image.jpg\")\n",
        "        img = img.resize(image_size)\n",
        "\n",
        "        img.save(target_path)\n",
        "\n",
        "      # Print the path of the downloaded image in Google Drive\n",
        "      #print('Image downloaded successfully. File saved at:', target_path)\n",
        "  # else:\n",
        "      #print('Failed to download the image.')"
      ],
      "metadata": {
        "id": "1fvxjMNKuIil"
      },
      "execution_count": null,
      "outputs": []
    },
    {
      "cell_type": "code",
      "source": [],
      "metadata": {
        "id": "C-WIoD1GxWFm"
      },
      "execution_count": null,
      "outputs": []
    },
    {
      "cell_type": "code",
      "source": [
        "data = pd.read_csv(\"drive/MyDrive/Data_Files/SEES2023.csv\")\n",
        "data = data.drop(data.columns[0], axis=1) # dropping random column that came in"
      ],
      "metadata": {
        "id": "18BsnFEasBrK"
      },
      "execution_count": null,
      "outputs": []
    },
    {
      "cell_type": "code",
      "source": [
        "data.head()"
      ],
      "metadata": {
        "colab": {
          "base_uri": "https://localhost:8080/",
          "height": 473
        },
        "id": "ueeZpNlasMZA",
        "outputId": "756db26f-22d9-4a8b-f56e-e4eb6e44e62b"
      },
      "execution_count": null,
      "outputs": [
        {
          "output_type": "execute_result",
          "data": {
            "text/plain": [
              "      protocol measuredDate           createDate           updateDate  \\\n",
              "0  land_covers   2023-07-13  2023-07-13T14:45:10  2023-07-13T15:15:01   \n",
              "1  land_covers   2023-07-13  2023-07-13T14:45:10  2023-07-13T15:15:01   \n",
              "2  land_covers   2023-07-11  2023-07-12T16:40:07  2023-07-18T03:04:04   \n",
              "3  land_covers   2023-07-11  2023-07-12T16:40:24  2023-07-18T03:02:22   \n",
              "4  land_covers   2023-07-11  2023-07-12T16:40:08  2023-07-18T03:01:07   \n",
              "\n",
              "           publishDate  organizationId  \\\n",
              "0  2023-07-14T04:11:09      17043304.0   \n",
              "1  2023-07-14T04:11:09      17043304.0   \n",
              "2  2023-07-18T03:10:00      17043304.0   \n",
              "3  2023-07-18T03:10:00      17043304.0   \n",
              "4  2023-07-18T03:10:00      17043304.0   \n",
              "\n",
              "                           organizationName    siteId     siteName  \\\n",
              "0  United States of America Citizen Science  320976.0  18TWK209668   \n",
              "1  United States of America Citizen Science  320976.0  18TWK209668   \n",
              "2  United States of America Citizen Science  321510.0  18TXL010372   \n",
              "3  United States of America Citizen Science  321523.0  18TXL020368   \n",
              "4  United States of America Citizen Science  321509.0  18TXL010377   \n",
              "\n",
              "     countryName  ... landcoversRainingSnowing  landcoversUpwardExtraData  \\\n",
              "0  United States  ...                    False                        NaN   \n",
              "1  United States  ...                    False                        NaN   \n",
              "2  United States  ...                    False                        NaN   \n",
              "3  United States  ...                    False                        NaN   \n",
              "4  United States  ...                    False                        NaN   \n",
              "\n",
              "   landcoversMeasurementElevation  landcoversWestExtraData  \\\n",
              "0                            56.6                      NaN   \n",
              "1                            56.8                      NaN   \n",
              "2                            81.0                      NaN   \n",
              "3                            79.8                      NaN   \n",
              "4                            60.3                      NaN   \n",
              "\n",
              "   landcoversLandCoverId landcoversMeasurementLongitude  \\\n",
              "0                60993.0                       -74.7529   \n",
              "1                60994.0                       -74.7529   \n",
              "2                60960.0                       -73.7994   \n",
              "3                60973.0                       -73.7871   \n",
              "4                60959.0                       -73.7992   \n",
              "\n",
              "            landcoversMucDescription landcoversSnowIce  \\\n",
              "0  Herbaceous/Grassland, Short Grass             False   \n",
              "1  Herbaceous/Grassland, Short Grass             False   \n",
              "2                                NaN             False   \n",
              "3                                NaN             False   \n",
              "4                                NaN             False   \n",
              "\n",
              "                      landcoversNorthClassifications  \\\n",
              "0  30% MUC 02 (b) [Trees, Closely Spaced, Deciduo...   \n",
              "1  20% MUC 01 (b) [Trees, Closely Spaced, Evergre...   \n",
              "2                                                NaN   \n",
              "3                                                NaN   \n",
              "4                                                NaN   \n",
              "\n",
              "                                landcoversFieldNotes  \n",
              "0  Area is in my backyard and in a shaded and woo...  \n",
              "1  Area is in my backyard and between two houses....  \n",
              "2                                             (none)  \n",
              "3                                             (none)  \n",
              "4                                             (none)  \n",
              "\n",
              "[5 rows x 57 columns]"
            ],
            "text/html": [
              "\n",
              "\n",
              "  <div id=\"df-22e6f24d-cb3d-476e-aec0-31b0e778d821\">\n",
              "    <div class=\"colab-df-container\">\n",
              "      <div>\n",
              "<style scoped>\n",
              "    .dataframe tbody tr th:only-of-type {\n",
              "        vertical-align: middle;\n",
              "    }\n",
              "\n",
              "    .dataframe tbody tr th {\n",
              "        vertical-align: top;\n",
              "    }\n",
              "\n",
              "    .dataframe thead th {\n",
              "        text-align: right;\n",
              "    }\n",
              "</style>\n",
              "<table border=\"1\" class=\"dataframe\">\n",
              "  <thead>\n",
              "    <tr style=\"text-align: right;\">\n",
              "      <th></th>\n",
              "      <th>protocol</th>\n",
              "      <th>measuredDate</th>\n",
              "      <th>createDate</th>\n",
              "      <th>updateDate</th>\n",
              "      <th>publishDate</th>\n",
              "      <th>organizationId</th>\n",
              "      <th>organizationName</th>\n",
              "      <th>siteId</th>\n",
              "      <th>siteName</th>\n",
              "      <th>countryName</th>\n",
              "      <th>...</th>\n",
              "      <th>landcoversRainingSnowing</th>\n",
              "      <th>landcoversUpwardExtraData</th>\n",
              "      <th>landcoversMeasurementElevation</th>\n",
              "      <th>landcoversWestExtraData</th>\n",
              "      <th>landcoversLandCoverId</th>\n",
              "      <th>landcoversMeasurementLongitude</th>\n",
              "      <th>landcoversMucDescription</th>\n",
              "      <th>landcoversSnowIce</th>\n",
              "      <th>landcoversNorthClassifications</th>\n",
              "      <th>landcoversFieldNotes</th>\n",
              "    </tr>\n",
              "  </thead>\n",
              "  <tbody>\n",
              "    <tr>\n",
              "      <th>0</th>\n",
              "      <td>land_covers</td>\n",
              "      <td>2023-07-13</td>\n",
              "      <td>2023-07-13T14:45:10</td>\n",
              "      <td>2023-07-13T15:15:01</td>\n",
              "      <td>2023-07-14T04:11:09</td>\n",
              "      <td>17043304.0</td>\n",
              "      <td>United States of America Citizen Science</td>\n",
              "      <td>320976.0</td>\n",
              "      <td>18TWK209668</td>\n",
              "      <td>United States</td>\n",
              "      <td>...</td>\n",
              "      <td>False</td>\n",
              "      <td>NaN</td>\n",
              "      <td>56.6</td>\n",
              "      <td>NaN</td>\n",
              "      <td>60993.0</td>\n",
              "      <td>-74.7529</td>\n",
              "      <td>Herbaceous/Grassland, Short Grass</td>\n",
              "      <td>False</td>\n",
              "      <td>30% MUC 02 (b) [Trees, Closely Spaced, Deciduo...</td>\n",
              "      <td>Area is in my backyard and in a shaded and woo...</td>\n",
              "    </tr>\n",
              "    <tr>\n",
              "      <th>1</th>\n",
              "      <td>land_covers</td>\n",
              "      <td>2023-07-13</td>\n",
              "      <td>2023-07-13T14:45:10</td>\n",
              "      <td>2023-07-13T15:15:01</td>\n",
              "      <td>2023-07-14T04:11:09</td>\n",
              "      <td>17043304.0</td>\n",
              "      <td>United States of America Citizen Science</td>\n",
              "      <td>320976.0</td>\n",
              "      <td>18TWK209668</td>\n",
              "      <td>United States</td>\n",
              "      <td>...</td>\n",
              "      <td>False</td>\n",
              "      <td>NaN</td>\n",
              "      <td>56.8</td>\n",
              "      <td>NaN</td>\n",
              "      <td>60994.0</td>\n",
              "      <td>-74.7529</td>\n",
              "      <td>Herbaceous/Grassland, Short Grass</td>\n",
              "      <td>False</td>\n",
              "      <td>20% MUC 01 (b) [Trees, Closely Spaced, Evergre...</td>\n",
              "      <td>Area is in my backyard and between two houses....</td>\n",
              "    </tr>\n",
              "    <tr>\n",
              "      <th>2</th>\n",
              "      <td>land_covers</td>\n",
              "      <td>2023-07-11</td>\n",
              "      <td>2023-07-12T16:40:07</td>\n",
              "      <td>2023-07-18T03:04:04</td>\n",
              "      <td>2023-07-18T03:10:00</td>\n",
              "      <td>17043304.0</td>\n",
              "      <td>United States of America Citizen Science</td>\n",
              "      <td>321510.0</td>\n",
              "      <td>18TXL010372</td>\n",
              "      <td>United States</td>\n",
              "      <td>...</td>\n",
              "      <td>False</td>\n",
              "      <td>NaN</td>\n",
              "      <td>81.0</td>\n",
              "      <td>NaN</td>\n",
              "      <td>60960.0</td>\n",
              "      <td>-73.7994</td>\n",
              "      <td>NaN</td>\n",
              "      <td>False</td>\n",
              "      <td>NaN</td>\n",
              "      <td>(none)</td>\n",
              "    </tr>\n",
              "    <tr>\n",
              "      <th>3</th>\n",
              "      <td>land_covers</td>\n",
              "      <td>2023-07-11</td>\n",
              "      <td>2023-07-12T16:40:24</td>\n",
              "      <td>2023-07-18T03:02:22</td>\n",
              "      <td>2023-07-18T03:10:00</td>\n",
              "      <td>17043304.0</td>\n",
              "      <td>United States of America Citizen Science</td>\n",
              "      <td>321523.0</td>\n",
              "      <td>18TXL020368</td>\n",
              "      <td>United States</td>\n",
              "      <td>...</td>\n",
              "      <td>False</td>\n",
              "      <td>NaN</td>\n",
              "      <td>79.8</td>\n",
              "      <td>NaN</td>\n",
              "      <td>60973.0</td>\n",
              "      <td>-73.7871</td>\n",
              "      <td>NaN</td>\n",
              "      <td>False</td>\n",
              "      <td>NaN</td>\n",
              "      <td>(none)</td>\n",
              "    </tr>\n",
              "    <tr>\n",
              "      <th>4</th>\n",
              "      <td>land_covers</td>\n",
              "      <td>2023-07-11</td>\n",
              "      <td>2023-07-12T16:40:08</td>\n",
              "      <td>2023-07-18T03:01:07</td>\n",
              "      <td>2023-07-18T03:10:00</td>\n",
              "      <td>17043304.0</td>\n",
              "      <td>United States of America Citizen Science</td>\n",
              "      <td>321509.0</td>\n",
              "      <td>18TXL010377</td>\n",
              "      <td>United States</td>\n",
              "      <td>...</td>\n",
              "      <td>False</td>\n",
              "      <td>NaN</td>\n",
              "      <td>60.3</td>\n",
              "      <td>NaN</td>\n",
              "      <td>60959.0</td>\n",
              "      <td>-73.7992</td>\n",
              "      <td>NaN</td>\n",
              "      <td>False</td>\n",
              "      <td>NaN</td>\n",
              "      <td>(none)</td>\n",
              "    </tr>\n",
              "  </tbody>\n",
              "</table>\n",
              "<p>5 rows × 57 columns</p>\n",
              "</div>\n",
              "      <button class=\"colab-df-convert\" onclick=\"convertToInteractive('df-22e6f24d-cb3d-476e-aec0-31b0e778d821')\"\n",
              "              title=\"Convert this dataframe to an interactive table.\"\n",
              "              style=\"display:none;\">\n",
              "\n",
              "  <svg xmlns=\"http://www.w3.org/2000/svg\" height=\"24px\"viewBox=\"0 0 24 24\"\n",
              "       width=\"24px\">\n",
              "    <path d=\"M0 0h24v24H0V0z\" fill=\"none\"/>\n",
              "    <path d=\"M18.56 5.44l.94 2.06.94-2.06 2.06-.94-2.06-.94-.94-2.06-.94 2.06-2.06.94zm-11 1L8.5 8.5l.94-2.06 2.06-.94-2.06-.94L8.5 2.5l-.94 2.06-2.06.94zm10 10l.94 2.06.94-2.06 2.06-.94-2.06-.94-.94-2.06-.94 2.06-2.06.94z\"/><path d=\"M17.41 7.96l-1.37-1.37c-.4-.4-.92-.59-1.43-.59-.52 0-1.04.2-1.43.59L10.3 9.45l-7.72 7.72c-.78.78-.78 2.05 0 2.83L4 21.41c.39.39.9.59 1.41.59.51 0 1.02-.2 1.41-.59l7.78-7.78 2.81-2.81c.8-.78.8-2.07 0-2.86zM5.41 20L4 18.59l7.72-7.72 1.47 1.35L5.41 20z\"/>\n",
              "  </svg>\n",
              "      </button>\n",
              "\n",
              "\n",
              "\n",
              "    <div id=\"df-5517a610-5b6a-4d07-9884-377bd148ff33\">\n",
              "      <button class=\"colab-df-quickchart\" onclick=\"quickchart('df-5517a610-5b6a-4d07-9884-377bd148ff33')\"\n",
              "              title=\"Suggest charts.\"\n",
              "              style=\"display:none;\">\n",
              "\n",
              "<svg xmlns=\"http://www.w3.org/2000/svg\" height=\"24px\"viewBox=\"0 0 24 24\"\n",
              "     width=\"24px\">\n",
              "    <g>\n",
              "        <path d=\"M19 3H5c-1.1 0-2 .9-2 2v14c0 1.1.9 2 2 2h14c1.1 0 2-.9 2-2V5c0-1.1-.9-2-2-2zM9 17H7v-7h2v7zm4 0h-2V7h2v10zm4 0h-2v-4h2v4z\"/>\n",
              "    </g>\n",
              "</svg>\n",
              "      </button>\n",
              "    </div>\n",
              "\n",
              "<style>\n",
              "  .colab-df-quickchart {\n",
              "    background-color: #E8F0FE;\n",
              "    border: none;\n",
              "    border-radius: 50%;\n",
              "    cursor: pointer;\n",
              "    display: none;\n",
              "    fill: #1967D2;\n",
              "    height: 32px;\n",
              "    padding: 0 0 0 0;\n",
              "    width: 32px;\n",
              "  }\n",
              "\n",
              "  .colab-df-quickchart:hover {\n",
              "    background-color: #E2EBFA;\n",
              "    box-shadow: 0px 1px 2px rgba(60, 64, 67, 0.3), 0px 1px 3px 1px rgba(60, 64, 67, 0.15);\n",
              "    fill: #174EA6;\n",
              "  }\n",
              "\n",
              "  [theme=dark] .colab-df-quickchart {\n",
              "    background-color: #3B4455;\n",
              "    fill: #D2E3FC;\n",
              "  }\n",
              "\n",
              "  [theme=dark] .colab-df-quickchart:hover {\n",
              "    background-color: #434B5C;\n",
              "    box-shadow: 0px 1px 3px 1px rgba(0, 0, 0, 0.15);\n",
              "    filter: drop-shadow(0px 1px 2px rgba(0, 0, 0, 0.3));\n",
              "    fill: #FFFFFF;\n",
              "  }\n",
              "</style>\n",
              "\n",
              "    <script>\n",
              "      async function quickchart(key) {\n",
              "        const containerElement = document.querySelector('#' + key);\n",
              "        const charts = await google.colab.kernel.invokeFunction(\n",
              "            'suggestCharts', [key], {});\n",
              "      }\n",
              "    </script>\n",
              "\n",
              "      <script>\n",
              "\n",
              "function displayQuickchartButton(domScope) {\n",
              "  let quickchartButtonEl =\n",
              "    domScope.querySelector('#df-5517a610-5b6a-4d07-9884-377bd148ff33 button.colab-df-quickchart');\n",
              "  quickchartButtonEl.style.display =\n",
              "    google.colab.kernel.accessAllowed ? 'block' : 'none';\n",
              "}\n",
              "\n",
              "        displayQuickchartButton(document);\n",
              "      </script>\n",
              "      <style>\n",
              "    .colab-df-container {\n",
              "      display:flex;\n",
              "      flex-wrap:wrap;\n",
              "      gap: 12px;\n",
              "    }\n",
              "\n",
              "    .colab-df-convert {\n",
              "      background-color: #E8F0FE;\n",
              "      border: none;\n",
              "      border-radius: 50%;\n",
              "      cursor: pointer;\n",
              "      display: none;\n",
              "      fill: #1967D2;\n",
              "      height: 32px;\n",
              "      padding: 0 0 0 0;\n",
              "      width: 32px;\n",
              "    }\n",
              "\n",
              "    .colab-df-convert:hover {\n",
              "      background-color: #E2EBFA;\n",
              "      box-shadow: 0px 1px 2px rgba(60, 64, 67, 0.3), 0px 1px 3px 1px rgba(60, 64, 67, 0.15);\n",
              "      fill: #174EA6;\n",
              "    }\n",
              "\n",
              "    [theme=dark] .colab-df-convert {\n",
              "      background-color: #3B4455;\n",
              "      fill: #D2E3FC;\n",
              "    }\n",
              "\n",
              "    [theme=dark] .colab-df-convert:hover {\n",
              "      background-color: #434B5C;\n",
              "      box-shadow: 0px 1px 3px 1px rgba(0, 0, 0, 0.15);\n",
              "      filter: drop-shadow(0px 1px 2px rgba(0, 0, 0, 0.3));\n",
              "      fill: #FFFFFF;\n",
              "    }\n",
              "  </style>\n",
              "\n",
              "      <script>\n",
              "        const buttonEl =\n",
              "          document.querySelector('#df-22e6f24d-cb3d-476e-aec0-31b0e778d821 button.colab-df-convert');\n",
              "        buttonEl.style.display =\n",
              "          google.colab.kernel.accessAllowed ? 'block' : 'none';\n",
              "\n",
              "        async function convertToInteractive(key) {\n",
              "          const element = document.querySelector('#df-22e6f24d-cb3d-476e-aec0-31b0e778d821');\n",
              "          const dataTable =\n",
              "            await google.colab.kernel.invokeFunction('convertToInteractive',\n",
              "                                                     [key], {});\n",
              "          if (!dataTable) return;\n",
              "\n",
              "          const docLinkHtml = 'Like what you see? Visit the ' +\n",
              "            '<a target=\"_blank\" href=https://colab.research.google.com/notebooks/data_table.ipynb>data table notebook</a>'\n",
              "            + ' to learn more about interactive tables.';\n",
              "          element.innerHTML = '';\n",
              "          dataTable['output_type'] = 'display_data';\n",
              "          await google.colab.output.renderOutput(dataTable, element);\n",
              "          const docLink = document.createElement('div');\n",
              "          docLink.innerHTML = docLinkHtml;\n",
              "          element.appendChild(docLink);\n",
              "        }\n",
              "      </script>\n",
              "    </div>\n",
              "  </div>\n"
            ]
          },
          "metadata": {},
          "execution_count": 7
        }
      ]
    },
    {
      "cell_type": "code",
      "source": [
        "img_cols = ['landcoversEastPhotoUrl','landcoversNorthPhotoUrl', 'landcoversSouthPhotoUrl', 'landcoversWestPhotoUrl']\n",
        "new_name_cols = ['landcoversEastPhotoName','landcoversNorthPhotoName', 'landcoversSouthPhotoName', 'landcoversWestPhotoName']"
      ],
      "metadata": {
        "id": "n_lxIVGws4EB"
      },
      "execution_count": null,
      "outputs": []
    },
    {
      "cell_type": "code",
      "source": [
        "data = data.dropna(subset=img_cols).reset_index(drop=True) # dropping if nan in our particular columns, only like three locations\n",
        "len(data)"
      ],
      "metadata": {
        "colab": {
          "base_uri": "https://localhost:8080/"
        },
        "id": "bxtfo1rQ7Qod",
        "outputId": "9e0775e9-5084-45bd-9942-1eee1d3101dd"
      },
      "execution_count": null,
      "outputs": [
        {
          "output_type": "execute_result",
          "data": {
            "text/plain": [
              "1474"
            ]
          },
          "metadata": {},
          "execution_count": 9
        }
      ]
    },
    {
      "cell_type": "code",
      "source": [
        "east_names = ['']*len(data)\n",
        "west_names = ['']*len(data)\n",
        "south_names = ['']*len(data)\n",
        "north_names = ['']*len(data)\n",
        "\n",
        "for i in tqdm(range(len(data))): # of data points\n",
        "  for name in img_cols:\n",
        "    image_url = str(data.loc[i, name])\n",
        "    image_filename = image_url.split('/')[-2] + \".jpg\"\n",
        "\n",
        "    if 'East' in name:\n",
        "      east_names[i] = image_filename\n",
        "    elif 'West' in name:\n",
        "      west_names[i] = image_filename\n",
        "    elif 'South' in name:\n",
        "      south_names[i] = image_filename\n",
        "    elif 'North' in name:\n",
        "      north_names[i] = image_filename\n",
        "\n",
        "    download_image(image_url, image_filename)"
      ],
      "metadata": {
        "colab": {
          "base_uri": "https://localhost:8080/"
        },
        "id": "7oh2HcUdyviL",
        "outputId": "feb45de3-926d-4d63-e4b8-618aca8c2d2b"
      },
      "execution_count": null,
      "outputs": [
        {
          "output_type": "stream",
          "name": "stderr",
          "text": [
            "100%|██████████| 1474/1474 [25:55<00:00,  1.06s/it]\n"
          ]
        }
      ]
    },
    {
      "cell_type": "code",
      "source": [
        "for name in new_name_cols:\n",
        "    if 'East' in name:\n",
        "      data[name] = east_names\n",
        "    elif 'West' in name:\n",
        "      data[name] = west_names\n",
        "    elif 'South' in name:\n",
        "      data[name] = south_names\n",
        "    elif 'North' in name:\n",
        "      data[name] = north_names"
      ],
      "metadata": {
        "id": "YMm2Yf8e8tKZ"
      },
      "execution_count": null,
      "outputs": []
    },
    {
      "cell_type": "code",
      "source": [
        "1474*4"
      ],
      "metadata": {
        "id": "oaj2VyC794Pu"
      },
      "execution_count": null,
      "outputs": []
    },
    {
      "cell_type": "code",
      "source": [
        "len(os.listdir(\"drive/MyDrive/Zooniverse_Images\")) # YEEEESSSS"
      ],
      "metadata": {
        "id": "viiz-FFO9yfD"
      },
      "execution_count": null,
      "outputs": []
    },
    {
      "cell_type": "code",
      "source": [
        "data.to_csv(\"Zooniverse_data.csv\")"
      ],
      "metadata": {
        "id": "SGTGp3KR9PY5"
      },
      "execution_count": null,
      "outputs": []
    },
    {
      "cell_type": "code",
      "source": [],
      "metadata": {
        "id": "wV58f9Sx-FBq"
      },
      "execution_count": null,
      "outputs": []
    },
    {
      "cell_type": "code",
      "source": [],
      "metadata": {
        "id": "yxaP1Hko06Yv"
      },
      "execution_count": null,
      "outputs": []
    },
    {
      "cell_type": "code",
      "source": [],
      "metadata": {
        "id": "Z0CKN-UO06bc"
      },
      "execution_count": null,
      "outputs": []
    },
    {
      "cell_type": "code",
      "source": [
        "zoo = pd.read_csv(\"drive/MyDrive/Data_Files/Zooniverse_data.csv\")"
      ],
      "metadata": {
        "id": "qt_UjwCS06eU"
      },
      "execution_count": null,
      "outputs": []
    },
    {
      "cell_type": "code",
      "source": [
        "new_name_cols = ['landcoversEastPhotoName','landcoversNorthPhotoName', 'landcoversSouthPhotoName', 'landcoversWestPhotoName']"
      ],
      "metadata": {
        "id": "r3Zp69o41FPS"
      },
      "execution_count": null,
      "outputs": []
    },
    {
      "cell_type": "code",
      "source": [
        "google_earth = ['3446922.jpg', '3446887.jpg']"
      ],
      "metadata": {
        "id": "I6HU4cWC1ICm"
      },
      "execution_count": null,
      "outputs": []
    },
    {
      "cell_type": "markdown",
      "source": [],
      "metadata": {
        "id": "xJaULVEh1IX4"
      }
    },
    {
      "cell_type": "code",
      "source": [
        "zoo[zoo['landcoversUserid'] == 107115175.0]['landcoversWestClassifications']"
      ],
      "metadata": {
        "colab": {
          "base_uri": "https://localhost:8080/"
        },
        "id": "ki_s6-tG1BNZ",
        "outputId": "a2ab648c-6943-4841-9c38-25556ad7f3c8"
      },
      "execution_count": null,
      "outputs": [
        {
          "output_type": "execute_result",
          "data": {
            "text/plain": [
              "438     NaN\n",
              "451     NaN\n",
              "453     NaN\n",
              "454     NaN\n",
              "466     NaN\n",
              "480     NaN\n",
              "490     NaN\n",
              "499     NaN\n",
              "500     NaN\n",
              "501     NaN\n",
              "505     NaN\n",
              "506     NaN\n",
              "507     NaN\n",
              "517     NaN\n",
              "520     NaN\n",
              "531     NaN\n",
              "536     NaN\n",
              "537     NaN\n",
              "539     NaN\n",
              "552     NaN\n",
              "553     NaN\n",
              "554     NaN\n",
              "556     NaN\n",
              "566     NaN\n",
              "570     NaN\n",
              "582     NaN\n",
              "587     NaN\n",
              "595     NaN\n",
              "599     NaN\n",
              "602     NaN\n",
              "610     NaN\n",
              "625     NaN\n",
              "629     NaN\n",
              "636     NaN\n",
              "639     NaN\n",
              "1385    NaN\n",
              "1386    NaN\n",
              "1412    NaN\n",
              "1423    NaN\n",
              "1425    NaN\n",
              "Name: landcoversWestClassifications, dtype: object"
            ]
          },
          "metadata": {},
          "execution_count": 31
        }
      ]
    },
    {
      "cell_type": "code",
      "source": [
        "zoo.iloc[453]['landcoversUserid']"
      ],
      "metadata": {
        "colab": {
          "base_uri": "https://localhost:8080/"
        },
        "id": "b3yIdA0m1WUC",
        "outputId": "5f959b75-c31b-4131-f277-6bed00bf44b5"
      },
      "execution_count": null,
      "outputs": [
        {
          "output_type": "execute_result",
          "data": {
            "text/plain": [
              "107115175.0"
            ]
          },
          "metadata": {},
          "execution_count": 29
        }
      ]
    },
    {
      "cell_type": "code",
      "source": [
        "zoo.iloc[556]"
      ],
      "metadata": {
        "colab": {
          "base_uri": "https://localhost:8080/"
        },
        "id": "PP3myI2z1gqc",
        "outputId": "882aff6f-ad70-42f1-ac56-2ddd6ff47bf8"
      },
      "execution_count": null,
      "outputs": [
        {
          "output_type": "execute_result",
          "data": {
            "text/plain": [
              "318852.0"
            ]
          },
          "metadata": {},
          "execution_count": 23
        }
      ]
    },
    {
      "cell_type": "code",
      "source": [
        "zoo.columns"
      ],
      "metadata": {
        "colab": {
          "base_uri": "https://localhost:8080/"
        },
        "id": "MFZh53dH1CBe",
        "outputId": "6586e01d-4c5f-403a-ebce-40279a45203c"
      },
      "execution_count": null,
      "outputs": [
        {
          "output_type": "execute_result",
          "data": {
            "text/plain": [
              "Index(['Unnamed: 0', 'protocol', 'measuredDate', 'createDate', 'updateDate',\n",
              "       'publishDate', 'organizationId', 'organizationName', 'siteId',\n",
              "       'siteName', 'countryName', 'countryCode', 'latitude', 'longitude',\n",
              "       'elevation', 'pid', 'landcoversDownwardPhotoUrl',\n",
              "       'landcoversEastExtraData', 'landcoversEastPhotoUrl',\n",
              "       'landcoversLocationAccuracyM', 'landcoversMucCode',\n",
              "       'landcoversUpwardPhotoUrl', 'landcoversEastCaption',\n",
              "       'landcoversMeasurementLatitude', 'landcoversWestClassifications',\n",
              "       'landcoversNorthCaption', 'landcoversNorthExtraData',\n",
              "       'landcoversDataSource', 'landcoversDryGround', 'landcoversWestCaption',\n",
              "       'landcoversSouthClassifications', 'landcoversNorthPhotoUrl',\n",
              "       'landcoversUpwardCaption', 'landcoversDownwardExtraData',\n",
              "       'landcoversEastClassifications', 'landcoversMucDetails',\n",
              "       'landcoversLocationMethod', 'landcoversMeasuredAt',\n",
              "       'landcoversDownwardCaption', 'landcoversSouthPhotoUrl',\n",
              "       'landcoversMuddy', 'landcoversWestPhotoUrl', 'landcoversStandingWater',\n",
              "       '0', 'landcoversLeavesOnTrees', 'landcoversUserid',\n",
              "       'landcoversSouthExtraData', 'landcoversSouthCaption',\n",
              "       'landcoversRainingSnowing', 'landcoversUpwardExtraData',\n",
              "       'landcoversMeasurementElevation', 'landcoversWestExtraData',\n",
              "       'landcoversLandCoverId', 'landcoversMeasurementLongitude',\n",
              "       'landcoversMucDescription', 'landcoversSnowIce',\n",
              "       'landcoversNorthClassifications', 'landcoversFieldNotes',\n",
              "       'landcoversEastPhotoName', 'landcoversNorthPhotoName',\n",
              "       'landcoversSouthPhotoName', 'landcoversWestPhotoName'],\n",
              "      dtype='object')"
            ]
          },
          "metadata": {},
          "execution_count": 13
        }
      ]
    },
    {
      "cell_type": "code",
      "source": [],
      "metadata": {
        "id": "Gq_d7PxS1imW"
      },
      "execution_count": null,
      "outputs": []
    }
  ]
}