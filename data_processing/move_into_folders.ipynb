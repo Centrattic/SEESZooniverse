{
  "nbformat": 4,
  "nbformat_minor": 0,
  "metadata": {
    "colab": {
      "provenance": [],
      "mount_file_id": "1y2c2b6PI_RQXwhwfBvudWln56O7nnV4l",
      "authorship_tag": "ABX9TyNuZZYqqGuXg3M4KMdNJ37H",
      "include_colab_link": true
    },
    "kernelspec": {
      "name": "python3",
      "display_name": "Python 3"
    },
    "language_info": {
      "name": "python"
    }
  },
  "cells": [
    {
      "cell_type": "markdown",
      "metadata": {
        "id": "view-in-github",
        "colab_type": "text"
      },
      "source": [
        "<a href=\"https://colab.research.google.com/github/Centrattic/SEESZooniverse/blob/main/data_processing/move_into_folders.ipynb\" target=\"_parent\"><img src=\"https://colab.research.google.com/assets/colab-badge.svg\" alt=\"Open In Colab\"/></a>"
      ]
    },
    {
      "cell_type": "code",
      "execution_count": null,
      "metadata": {
        "id": "rciR0j-J-Ilt"
      },
      "outputs": [],
      "source": [
        "import pandas as pd\n",
        "import numpy as np\n",
        "from sklearn.model_selection import train_test_split\n",
        "import os\n",
        "import shutil\n",
        "from tqdm import tqdm\n",
        "from subprocess import call\n"
      ]
    },
    {
      "cell_type": "code",
      "source": [
        "Zooni_data = pd.read_csv(\"drive/MyDrive/Data_Files/parsed_zooni_out.csv\")"
      ],
      "metadata": {
        "id": "GfQz4iSV-NJr"
      },
      "execution_count": null,
      "outputs": []
    },
    {
      "cell_type": "code",
      "source": [
        "Zooni_data.head()"
      ],
      "metadata": {
        "colab": {
          "base_uri": "https://localhost:8080/",
          "height": 461
        },
        "id": "0kD41uoN-jK5",
        "outputId": "e3f3495d-555c-4a21-c3c6-e3b8408e0f54"
      },
      "execution_count": null,
      "outputs": [
        {
          "output_type": "execute_result",
          "data": {
            "text/plain": [
              "   Unnamed: 0  classification_id        user_name    user_id  \\\n",
              "0           0          501999199  MountainRobot03  2624165.0   \n",
              "1           1          501999214  MountainRobot03  2624165.0   \n",
              "2           2          501999223  MountainRobot03  2624165.0   \n",
              "3           3          501999240  MountainRobot03  2624165.0   \n",
              "4           4          501999254  MountainRobot03  2624165.0   \n",
              "\n",
              "                user_ip  workflow_id                     workflow_name  \\\n",
              "0  a954d9bd77756da2e84f        24748  Choose the Land Cover Categories   \n",
              "1  a954d9bd77756da2e84f        24748  Choose the Land Cover Categories   \n",
              "2  a954d9bd77756da2e84f        24748  Choose the Land Cover Categories   \n",
              "3  a954d9bd77756da2e84f        24748  Choose the Land Cover Categories   \n",
              "4  a954d9bd77756da2e84f        24748  Choose the Land Cover Categories   \n",
              "\n",
              "   workflow_version               created_at  gold_standard  expert  \\\n",
              "0               6.9  2023-07-19 18:17:59 UTC            NaN     NaN   \n",
              "1               6.9  2023-07-19 18:18:02 UTC            NaN     NaN   \n",
              "2               6.9  2023-07-19 18:18:05 UTC            NaN     NaN   \n",
              "3               6.9  2023-07-19 18:18:09 UTC            NaN     NaN   \n",
              "4               6.9  2023-07-19 18:18:13 UTC            NaN     NaN   \n",
              "\n",
              "                                            metadata  \\\n",
              "0  {\"source\":\"api\",\"session\":\"1592f2abcf85083013e...   \n",
              "1  {\"source\":\"api\",\"session\":\"1592f2abcf85083013e...   \n",
              "2  {\"source\":\"api\",\"session\":\"1592f2abcf85083013e...   \n",
              "3  {\"source\":\"api\",\"session\":\"1592f2abcf85083013e...   \n",
              "4  {\"source\":\"api\",\"session\":\"1592f2abcf85083013e...   \n",
              "\n",
              "                                         annotations  \\\n",
              "0  [{\"task\":\"T0\",\"task_label\":\"Select each of the...   \n",
              "1  [{\"task\":\"T0\",\"task_label\":\"Select each of the...   \n",
              "2  [{\"task\":\"T0\",\"task_label\":\"Select each of the...   \n",
              "3  [{\"task\":\"T0\",\"task_label\":\"Select each of the...   \n",
              "4  [{\"task\":\"T0\",\"task_label\":\"Select each of the...   \n",
              "\n",
              "                                        subject_data  subject_ids  water  sky  \\\n",
              "0  {\"90815996\":{\"retired\":{\"id\":118054626,\"workfl...     90815996      0    1   \n",
              "1  {\"90812812\":{\"retired\":{\"id\":118054627,\"workfl...     90812812      0    1   \n",
              "2  {\"90814635\":{\"retired\":{\"id\":118054630,\"workfl...     90814635      0    0   \n",
              "3  {\"90810735\":{\"retired\":{\"id\":118054631,\"workfl...     90810735      0    1   \n",
              "4  {\"90810670\":{\"retired\":{\"id\":118054636,\"workfl...     90810670      1    0   \n",
              "\n",
              "   land     img_name  \n",
              "0     1  3471352.jpg  \n",
              "1     1  3445155.jpg  \n",
              "2     1  3456233.jpg  \n",
              "3     1  3426903.jpg  \n",
              "4     1  3426742.jpg  "
            ],
            "text/html": [
              "\n",
              "\n",
              "  <div id=\"df-262a454e-1ad3-46d3-aa79-c67610bb906f\">\n",
              "    <div class=\"colab-df-container\">\n",
              "      <div>\n",
              "<style scoped>\n",
              "    .dataframe tbody tr th:only-of-type {\n",
              "        vertical-align: middle;\n",
              "    }\n",
              "\n",
              "    .dataframe tbody tr th {\n",
              "        vertical-align: top;\n",
              "    }\n",
              "\n",
              "    .dataframe thead th {\n",
              "        text-align: right;\n",
              "    }\n",
              "</style>\n",
              "<table border=\"1\" class=\"dataframe\">\n",
              "  <thead>\n",
              "    <tr style=\"text-align: right;\">\n",
              "      <th></th>\n",
              "      <th>Unnamed: 0</th>\n",
              "      <th>classification_id</th>\n",
              "      <th>user_name</th>\n",
              "      <th>user_id</th>\n",
              "      <th>user_ip</th>\n",
              "      <th>workflow_id</th>\n",
              "      <th>workflow_name</th>\n",
              "      <th>workflow_version</th>\n",
              "      <th>created_at</th>\n",
              "      <th>gold_standard</th>\n",
              "      <th>expert</th>\n",
              "      <th>metadata</th>\n",
              "      <th>annotations</th>\n",
              "      <th>subject_data</th>\n",
              "      <th>subject_ids</th>\n",
              "      <th>water</th>\n",
              "      <th>sky</th>\n",
              "      <th>land</th>\n",
              "      <th>img_name</th>\n",
              "    </tr>\n",
              "  </thead>\n",
              "  <tbody>\n",
              "    <tr>\n",
              "      <th>0</th>\n",
              "      <td>0</td>\n",
              "      <td>501999199</td>\n",
              "      <td>MountainRobot03</td>\n",
              "      <td>2624165.0</td>\n",
              "      <td>a954d9bd77756da2e84f</td>\n",
              "      <td>24748</td>\n",
              "      <td>Choose the Land Cover Categories</td>\n",
              "      <td>6.9</td>\n",
              "      <td>2023-07-19 18:17:59 UTC</td>\n",
              "      <td>NaN</td>\n",
              "      <td>NaN</td>\n",
              "      <td>{\"source\":\"api\",\"session\":\"1592f2abcf85083013e...</td>\n",
              "      <td>[{\"task\":\"T0\",\"task_label\":\"Select each of the...</td>\n",
              "      <td>{\"90815996\":{\"retired\":{\"id\":118054626,\"workfl...</td>\n",
              "      <td>90815996</td>\n",
              "      <td>0</td>\n",
              "      <td>1</td>\n",
              "      <td>1</td>\n",
              "      <td>3471352.jpg</td>\n",
              "    </tr>\n",
              "    <tr>\n",
              "      <th>1</th>\n",
              "      <td>1</td>\n",
              "      <td>501999214</td>\n",
              "      <td>MountainRobot03</td>\n",
              "      <td>2624165.0</td>\n",
              "      <td>a954d9bd77756da2e84f</td>\n",
              "      <td>24748</td>\n",
              "      <td>Choose the Land Cover Categories</td>\n",
              "      <td>6.9</td>\n",
              "      <td>2023-07-19 18:18:02 UTC</td>\n",
              "      <td>NaN</td>\n",
              "      <td>NaN</td>\n",
              "      <td>{\"source\":\"api\",\"session\":\"1592f2abcf85083013e...</td>\n",
              "      <td>[{\"task\":\"T0\",\"task_label\":\"Select each of the...</td>\n",
              "      <td>{\"90812812\":{\"retired\":{\"id\":118054627,\"workfl...</td>\n",
              "      <td>90812812</td>\n",
              "      <td>0</td>\n",
              "      <td>1</td>\n",
              "      <td>1</td>\n",
              "      <td>3445155.jpg</td>\n",
              "    </tr>\n",
              "    <tr>\n",
              "      <th>2</th>\n",
              "      <td>2</td>\n",
              "      <td>501999223</td>\n",
              "      <td>MountainRobot03</td>\n",
              "      <td>2624165.0</td>\n",
              "      <td>a954d9bd77756da2e84f</td>\n",
              "      <td>24748</td>\n",
              "      <td>Choose the Land Cover Categories</td>\n",
              "      <td>6.9</td>\n",
              "      <td>2023-07-19 18:18:05 UTC</td>\n",
              "      <td>NaN</td>\n",
              "      <td>NaN</td>\n",
              "      <td>{\"source\":\"api\",\"session\":\"1592f2abcf85083013e...</td>\n",
              "      <td>[{\"task\":\"T0\",\"task_label\":\"Select each of the...</td>\n",
              "      <td>{\"90814635\":{\"retired\":{\"id\":118054630,\"workfl...</td>\n",
              "      <td>90814635</td>\n",
              "      <td>0</td>\n",
              "      <td>0</td>\n",
              "      <td>1</td>\n",
              "      <td>3456233.jpg</td>\n",
              "    </tr>\n",
              "    <tr>\n",
              "      <th>3</th>\n",
              "      <td>3</td>\n",
              "      <td>501999240</td>\n",
              "      <td>MountainRobot03</td>\n",
              "      <td>2624165.0</td>\n",
              "      <td>a954d9bd77756da2e84f</td>\n",
              "      <td>24748</td>\n",
              "      <td>Choose the Land Cover Categories</td>\n",
              "      <td>6.9</td>\n",
              "      <td>2023-07-19 18:18:09 UTC</td>\n",
              "      <td>NaN</td>\n",
              "      <td>NaN</td>\n",
              "      <td>{\"source\":\"api\",\"session\":\"1592f2abcf85083013e...</td>\n",
              "      <td>[{\"task\":\"T0\",\"task_label\":\"Select each of the...</td>\n",
              "      <td>{\"90810735\":{\"retired\":{\"id\":118054631,\"workfl...</td>\n",
              "      <td>90810735</td>\n",
              "      <td>0</td>\n",
              "      <td>1</td>\n",
              "      <td>1</td>\n",
              "      <td>3426903.jpg</td>\n",
              "    </tr>\n",
              "    <tr>\n",
              "      <th>4</th>\n",
              "      <td>4</td>\n",
              "      <td>501999254</td>\n",
              "      <td>MountainRobot03</td>\n",
              "      <td>2624165.0</td>\n",
              "      <td>a954d9bd77756da2e84f</td>\n",
              "      <td>24748</td>\n",
              "      <td>Choose the Land Cover Categories</td>\n",
              "      <td>6.9</td>\n",
              "      <td>2023-07-19 18:18:13 UTC</td>\n",
              "      <td>NaN</td>\n",
              "      <td>NaN</td>\n",
              "      <td>{\"source\":\"api\",\"session\":\"1592f2abcf85083013e...</td>\n",
              "      <td>[{\"task\":\"T0\",\"task_label\":\"Select each of the...</td>\n",
              "      <td>{\"90810670\":{\"retired\":{\"id\":118054636,\"workfl...</td>\n",
              "      <td>90810670</td>\n",
              "      <td>1</td>\n",
              "      <td>0</td>\n",
              "      <td>1</td>\n",
              "      <td>3426742.jpg</td>\n",
              "    </tr>\n",
              "  </tbody>\n",
              "</table>\n",
              "</div>\n",
              "      <button class=\"colab-df-convert\" onclick=\"convertToInteractive('df-262a454e-1ad3-46d3-aa79-c67610bb906f')\"\n",
              "              title=\"Convert this dataframe to an interactive table.\"\n",
              "              style=\"display:none;\">\n",
              "\n",
              "  <svg xmlns=\"http://www.w3.org/2000/svg\" height=\"24px\"viewBox=\"0 0 24 24\"\n",
              "       width=\"24px\">\n",
              "    <path d=\"M0 0h24v24H0V0z\" fill=\"none\"/>\n",
              "    <path d=\"M18.56 5.44l.94 2.06.94-2.06 2.06-.94-2.06-.94-.94-2.06-.94 2.06-2.06.94zm-11 1L8.5 8.5l.94-2.06 2.06-.94-2.06-.94L8.5 2.5l-.94 2.06-2.06.94zm10 10l.94 2.06.94-2.06 2.06-.94-2.06-.94-.94-2.06-.94 2.06-2.06.94z\"/><path d=\"M17.41 7.96l-1.37-1.37c-.4-.4-.92-.59-1.43-.59-.52 0-1.04.2-1.43.59L10.3 9.45l-7.72 7.72c-.78.78-.78 2.05 0 2.83L4 21.41c.39.39.9.59 1.41.59.51 0 1.02-.2 1.41-.59l7.78-7.78 2.81-2.81c.8-.78.8-2.07 0-2.86zM5.41 20L4 18.59l7.72-7.72 1.47 1.35L5.41 20z\"/>\n",
              "  </svg>\n",
              "      </button>\n",
              "\n",
              "\n",
              "\n",
              "    <div id=\"df-37ee16fd-ed16-4b01-b39d-f7cd6160ec36\">\n",
              "      <button class=\"colab-df-quickchart\" onclick=\"quickchart('df-37ee16fd-ed16-4b01-b39d-f7cd6160ec36')\"\n",
              "              title=\"Suggest charts.\"\n",
              "              style=\"display:none;\">\n",
              "\n",
              "<svg xmlns=\"http://www.w3.org/2000/svg\" height=\"24px\"viewBox=\"0 0 24 24\"\n",
              "     width=\"24px\">\n",
              "    <g>\n",
              "        <path d=\"M19 3H5c-1.1 0-2 .9-2 2v14c0 1.1.9 2 2 2h14c1.1 0 2-.9 2-2V5c0-1.1-.9-2-2-2zM9 17H7v-7h2v7zm4 0h-2V7h2v10zm4 0h-2v-4h2v4z\"/>\n",
              "    </g>\n",
              "</svg>\n",
              "      </button>\n",
              "    </div>\n",
              "\n",
              "<style>\n",
              "  .colab-df-quickchart {\n",
              "    background-color: #E8F0FE;\n",
              "    border: none;\n",
              "    border-radius: 50%;\n",
              "    cursor: pointer;\n",
              "    display: none;\n",
              "    fill: #1967D2;\n",
              "    height: 32px;\n",
              "    padding: 0 0 0 0;\n",
              "    width: 32px;\n",
              "  }\n",
              "\n",
              "  .colab-df-quickchart:hover {\n",
              "    background-color: #E2EBFA;\n",
              "    box-shadow: 0px 1px 2px rgba(60, 64, 67, 0.3), 0px 1px 3px 1px rgba(60, 64, 67, 0.15);\n",
              "    fill: #174EA6;\n",
              "  }\n",
              "\n",
              "  [theme=dark] .colab-df-quickchart {\n",
              "    background-color: #3B4455;\n",
              "    fill: #D2E3FC;\n",
              "  }\n",
              "\n",
              "  [theme=dark] .colab-df-quickchart:hover {\n",
              "    background-color: #434B5C;\n",
              "    box-shadow: 0px 1px 3px 1px rgba(0, 0, 0, 0.15);\n",
              "    filter: drop-shadow(0px 1px 2px rgba(0, 0, 0, 0.3));\n",
              "    fill: #FFFFFF;\n",
              "  }\n",
              "</style>\n",
              "\n",
              "    <script>\n",
              "      async function quickchart(key) {\n",
              "        const containerElement = document.querySelector('#' + key);\n",
              "        const charts = await google.colab.kernel.invokeFunction(\n",
              "            'suggestCharts', [key], {});\n",
              "      }\n",
              "    </script>\n",
              "\n",
              "      <script>\n",
              "\n",
              "function displayQuickchartButton(domScope) {\n",
              "  let quickchartButtonEl =\n",
              "    domScope.querySelector('#df-37ee16fd-ed16-4b01-b39d-f7cd6160ec36 button.colab-df-quickchart');\n",
              "  quickchartButtonEl.style.display =\n",
              "    google.colab.kernel.accessAllowed ? 'block' : 'none';\n",
              "}\n",
              "\n",
              "        displayQuickchartButton(document);\n",
              "      </script>\n",
              "      <style>\n",
              "    .colab-df-container {\n",
              "      display:flex;\n",
              "      flex-wrap:wrap;\n",
              "      gap: 12px;\n",
              "    }\n",
              "\n",
              "    .colab-df-convert {\n",
              "      background-color: #E8F0FE;\n",
              "      border: none;\n",
              "      border-radius: 50%;\n",
              "      cursor: pointer;\n",
              "      display: none;\n",
              "      fill: #1967D2;\n",
              "      height: 32px;\n",
              "      padding: 0 0 0 0;\n",
              "      width: 32px;\n",
              "    }\n",
              "\n",
              "    .colab-df-convert:hover {\n",
              "      background-color: #E2EBFA;\n",
              "      box-shadow: 0px 1px 2px rgba(60, 64, 67, 0.3), 0px 1px 3px 1px rgba(60, 64, 67, 0.15);\n",
              "      fill: #174EA6;\n",
              "    }\n",
              "\n",
              "    [theme=dark] .colab-df-convert {\n",
              "      background-color: #3B4455;\n",
              "      fill: #D2E3FC;\n",
              "    }\n",
              "\n",
              "    [theme=dark] .colab-df-convert:hover {\n",
              "      background-color: #434B5C;\n",
              "      box-shadow: 0px 1px 3px 1px rgba(0, 0, 0, 0.15);\n",
              "      filter: drop-shadow(0px 1px 2px rgba(0, 0, 0, 0.3));\n",
              "      fill: #FFFFFF;\n",
              "    }\n",
              "  </style>\n",
              "\n",
              "      <script>\n",
              "        const buttonEl =\n",
              "          document.querySelector('#df-262a454e-1ad3-46d3-aa79-c67610bb906f button.colab-df-convert');\n",
              "        buttonEl.style.display =\n",
              "          google.colab.kernel.accessAllowed ? 'block' : 'none';\n",
              "\n",
              "        async function convertToInteractive(key) {\n",
              "          const element = document.querySelector('#df-262a454e-1ad3-46d3-aa79-c67610bb906f');\n",
              "          const dataTable =\n",
              "            await google.colab.kernel.invokeFunction('convertToInteractive',\n",
              "                                                     [key], {});\n",
              "          if (!dataTable) return;\n",
              "\n",
              "          const docLinkHtml = 'Like what you see? Visit the ' +\n",
              "            '<a target=\"_blank\" href=https://colab.research.google.com/notebooks/data_table.ipynb>data table notebook</a>'\n",
              "            + ' to learn more about interactive tables.';\n",
              "          element.innerHTML = '';\n",
              "          dataTable['output_type'] = 'display_data';\n",
              "          await google.colab.output.renderOutput(dataTable, element);\n",
              "          const docLink = document.createElement('div');\n",
              "          docLink.innerHTML = docLinkHtml;\n",
              "          element.appendChild(docLink);\n",
              "        }\n",
              "      </script>\n",
              "    </div>\n",
              "  </div>\n"
            ]
          },
          "metadata": {},
          "execution_count": 4
        }
      ]
    },
    {
      "cell_type": "code",
      "source": [
        "# don't run this. It deletes the whole dataset file: !rm -rf \"drive/MyDrive/datasets/\""
      ],
      "metadata": {
        "id": "Tu5jVmh3wrmg"
      },
      "execution_count": null,
      "outputs": []
    },
    {
      "cell_type": "code",
      "source": [
        "def make_paths(base_path, split, ftr_name):\n",
        "  positive_path = base_path + ftr_name + \"/\" + split + ftr_name\n",
        "  negative_path = base_path + ftr_name + \"/\" + split + \"no_\" + ftr_name\n",
        "\n",
        "  if not os.path.exists(positive_path):\n",
        "    os.makedirs(positive_path)\n",
        "  if not os.path.exists(negative_path):\n",
        "    os.makedirs(negative_path)"
      ],
      "metadata": {
        "id": "kiYO5y7trLoN"
      },
      "execution_count": null,
      "outputs": []
    },
    {
      "cell_type": "code",
      "source": [
        "def df_to_folder(df, ftr_name, save_base_path, split,\n",
        "                 store_path = \"drive/MyDrive/Zooniverse_Images2/\"):\n",
        "\n",
        "  save_path_positive = save_base_path + ftr_name + \"/\" + split + ftr_name + \"/\"\n",
        "  save_path_negative = save_base_path + ftr_name + \"/\" + split + \"no_\" + ftr_name + \"/\"\n",
        "\n",
        "  for i in tqdm(range(len(df))):\n",
        "    img_path = store_path + df['img_name'][i]\n",
        "    if df[ftr_name][i] == 1:\n",
        "      call(['cp', img_path, save_path_positive + df['img_name'][i]])\n",
        "      # shutil.copy(store_path + df['img_name'][i], save_path_positive + df['img_name'][i])\n",
        "    elif df[ftr_name][i] == 0:\n",
        "      call(['cp', img_path, save_path_negative + df['img_name'][i]])\n",
        "      # shutil.copy(store_path + df['img_name'][i], save_path_negative + df['img_name'][i])"
      ],
      "metadata": {
        "id": "vNKvGYwDrwy9"
      },
      "execution_count": null,
      "outputs": []
    },
    {
      "cell_type": "code",
      "source": [
        "def move_to_folders(ftr_name, data, path): # either 'water' 'land' or 'sky'\n",
        "  if not os.path.exists(path):\n",
        "    os.makedirs(path)\n",
        "\n",
        "  X_train, X_test, y_train, y_test = train_test_split(data, data[ftr_name],\n",
        "                                                    test_size=0.2, stratify = data[ftr_name],\n",
        "                                                    random_state=86)\n",
        "  X_train, X_val, y_train, y_val = train_test_split(X_train, X_train[ftr_name],\n",
        "                                                    test_size=0.125, stratify = X_train[ftr_name],\n",
        "                                                    random_state=86)\n",
        "\n",
        "  X_train.reset_index(drop=True, inplace=True)\n",
        "  X_test.reset_index(drop=True, inplace=True)\n",
        "  X_val.reset_index(drop=True, inplace=True)\n",
        "\n",
        "  make_paths(path, \"train/\", ftr_name)\n",
        "  make_paths(path, \"val/\", ftr_name)\n",
        "  make_paths(path, \"test/\", ftr_name)\n",
        "\n",
        "  df_to_folder(X_train, ftr_name, path, \"train/\")\n",
        "  df_to_folder(X_val, ftr_name, path, \"val/\")\n",
        "  df_to_folder(X_test, ftr_name, path, \"test/\")"
      ],
      "metadata": {
        "id": "Egxx8AgTpyFU"
      },
      "execution_count": null,
      "outputs": []
    },
    {
      "cell_type": "code",
      "source": [
        "path = \"drive/MyDrive/datasets/\""
      ],
      "metadata": {
        "id": "oPdjn4i7tYcb"
      },
      "execution_count": null,
      "outputs": []
    },
    {
      "cell_type": "code",
      "source": [
        "move_to_folders(\"water\", Zooni_data, path)"
      ],
      "metadata": {
        "colab": {
          "base_uri": "https://localhost:8080/"
        },
        "id": "6-tL3am2tkXy",
        "outputId": "e5316c1f-7d2e-4506-facd-7faf162de9d5"
      },
      "execution_count": null,
      "outputs": [
        {
          "output_type": "stream",
          "name": "stderr",
          "text": [
            "100%|██████████| 4126/4126 [09:04<00:00,  7.58it/s]\n",
            "100%|██████████| 590/590 [01:14<00:00,  7.97it/s]\n",
            "100%|██████████| 1180/1180 [05:23<00:00,  3.65it/s]\n"
          ]
        }
      ]
    },
    {
      "cell_type": "code",
      "source": [
        "move_to_folders(\"land\", Zooni_data, path)"
      ],
      "metadata": {
        "colab": {
          "base_uri": "https://localhost:8080/"
        },
        "id": "4sj5Ut3HvyBh",
        "outputId": "14346a8d-ca69-4cd0-e46e-d4ea5b8ba74f"
      },
      "execution_count": null,
      "outputs": [
        {
          "output_type": "stream",
          "name": "stderr",
          "text": [
            "100%|██████████| 4126/4126 [00:52<00:00, 79.14it/s]\n",
            "100%|██████████| 590/590 [00:07<00:00, 82.93it/s]\n",
            "100%|██████████| 1180/1180 [00:14<00:00, 81.72it/s]\n"
          ]
        }
      ]
    },
    {
      "cell_type": "code",
      "source": [
        "move_to_folders(\"sky\", Zooni_data, path)"
      ],
      "metadata": {
        "colab": {
          "base_uri": "https://localhost:8080/"
        },
        "id": "6h1rXCi6xen9",
        "outputId": "fc1fe93e-8548-411b-dccd-956d116a199a"
      },
      "execution_count": null,
      "outputs": [
        {
          "output_type": "stream",
          "name": "stderr",
          "text": [
            "100%|██████████| 4126/4126 [00:52<00:00, 78.66it/s]\n",
            "100%|██████████| 590/590 [00:06<00:00, 90.41it/s]\n",
            "100%|██████████| 1180/1180 [00:13<00:00, 85.97it/s]\n"
          ]
        }
      ]
    },
    {
      "cell_type": "code",
      "source": [
        "os.listdir(path)"
      ],
      "metadata": {
        "colab": {
          "base_uri": "https://localhost:8080/"
        },
        "id": "YYL_PVCVxfo9",
        "outputId": "926b61b1-3e09-4963-de45-87ed258660f2"
      },
      "execution_count": null,
      "outputs": [
        {
          "output_type": "execute_result",
          "data": {
            "text/plain": [
              "['water', 'land', 'sky']"
            ]
          },
          "metadata": {},
          "execution_count": 28
        }
      ]
    },
    {
      "cell_type": "code",
      "source": [],
      "metadata": {
        "id": "4c8bmklwxqcQ"
      },
      "execution_count": null,
      "outputs": []
    }
  ]
}