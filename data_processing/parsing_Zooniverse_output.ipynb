{
  "nbformat": 4,
  "nbformat_minor": 0,
  "metadata": {
    "colab": {
      "provenance": [],
      "include_colab_link": true
    },
    "kernelspec": {
      "name": "python3",
      "display_name": "Python 3"
    },
    "language_info": {
      "name": "python"
    }
  },
  "cells": [
    {
      "cell_type": "markdown",
      "metadata": {
        "id": "view-in-github",
        "colab_type": "text"
      },
      "source": [
        "<a href=\"https://colab.research.google.com/github/Centrattic/SEESZooniverse/blob/main/data_processing/parsing_Zooniverse_output.ipynb\" target=\"_parent\"><img src=\"https://colab.research.google.com/assets/colab-badge.svg\" alt=\"Open In Colab\"/></a>"
      ]
    },
    {
      "cell_type": "code",
      "source": [
        "from google.colab import drive\n",
        "drive.mount('/content/drive')"
      ],
      "metadata": {
        "colab": {
          "base_uri": "https://localhost:8080/"
        },
        "id": "AVMymLrpvxt6",
        "outputId": "a63c707c-cadd-4535-f6c9-c03ad9dfba35"
      },
      "execution_count": null,
      "outputs": [
        {
          "output_type": "stream",
          "name": "stdout",
          "text": [
            "Mounted at /content/drive\n"
          ]
        }
      ]
    },
    {
      "cell_type": "code",
      "source": [
        "import re\n",
        "import numpy as np\n",
        "from tqdm import tqdm\n",
        "import pandas as pd"
      ],
      "metadata": {
        "id": "hm0X-4TTndHL"
      },
      "execution_count": null,
      "outputs": []
    },
    {
      "cell_type": "markdown",
      "source": [
        "## load in csv\n"
      ],
      "metadata": {
        "id": "9VrK05-4oQGz"
      }
    },
    {
      "cell_type": "code",
      "source": [
        "data_df = pd.read_csv(\"/content/drive/MyDrive/Data_Files/zooni_output.csv\")"
      ],
      "metadata": {
        "id": "6ZkSrNcKnmnI"
      },
      "execution_count": null,
      "outputs": []
    },
    {
      "cell_type": "code",
      "source": [
        "test = data_df['annotations'][0]"
      ],
      "metadata": {
        "id": "JauGCV3xndKD"
      },
      "execution_count": null,
      "outputs": []
    },
    {
      "cell_type": "code",
      "source": [
        "len(data_df['annotations'])"
      ],
      "metadata": {
        "colab": {
          "base_uri": "https://localhost:8080/"
        },
        "id": "Pm1_86DAylbw",
        "outputId": "29b2c718-cd0f-4bcd-ebec-5cb656eda7c6"
      },
      "execution_count": null,
      "outputs": [
        {
          "output_type": "execute_result",
          "data": {
            "text/plain": [
              "6058"
            ]
          },
          "metadata": {},
          "execution_count": 5
        }
      ]
    },
    {
      "cell_type": "markdown",
      "source": [
        "## Extracted Land, Sky, Water Presence"
      ],
      "metadata": {
        "id": "T6o2UfZj0hCm"
      }
    },
    {
      "cell_type": "code",
      "source": [
        "def find_features(col):\n",
        "  water_arr = [-1] * len(col)\n",
        "  sky_arr = [-1] * len(col)\n",
        "  land_arr = [-1] * len(col)\n",
        "\n",
        "  for i in range(len(col)): # 0, 1, 2, 3, ... len-1\n",
        "    if '\"Water\"' in col[i]:\n",
        "      water_arr[i] = 1\n",
        "    else:\n",
        "      water_arr[i] = 0\n",
        "    if '\"Sky\"' in col[i]:\n",
        "      sky_arr[i] = 1\n",
        "    else:\n",
        "      sky_arr[i] = 0\n",
        "    if '\"Land\"' in col[i]:\n",
        "      land_arr[i] = 1\n",
        "    else:\n",
        "      land_arr[i] = 0\n",
        "\n",
        "  return water_arr, sky_arr, land_arr"
      ],
      "metadata": {
        "id": "MEBD6DYCyU67"
      },
      "execution_count": null,
      "outputs": []
    },
    {
      "cell_type": "code",
      "source": [
        "water_col, sky_col, land_col = find_features(data_df['annotations'])"
      ],
      "metadata": {
        "id": "XA23N4q_yagR"
      },
      "execution_count": null,
      "outputs": []
    },
    {
      "cell_type": "code",
      "source": [
        "data_df['water'] = water_col\n",
        "data_df['sky'] = sky_col\n",
        "data_df['land'] = land_col"
      ],
      "metadata": {
        "id": "3qH5oVH-zeJ5"
      },
      "execution_count": null,
      "outputs": []
    },
    {
      "cell_type": "markdown",
      "source": [
        "## Extract Image Name"
      ],
      "metadata": {
        "id": "Gl_tCRn00kLF"
      }
    },
    {
      "cell_type": "code",
      "source": [
        "def find_name(col):\n",
        "  name_arr = [''] * len(col)\n",
        "\n",
        "  for i in range(len(col)): # 0, 1, 2, 3, ... len-1\n",
        "    img_name = re.findall(r'[0-9]+', col[i])[-1] + \".jpg\"\n",
        "    name_arr[i] = img_name\n",
        "\n",
        "  return name_arr"
      ],
      "metadata": {
        "id": "-HgnABvY2VyT"
      },
      "execution_count": null,
      "outputs": []
    },
    {
      "cell_type": "code",
      "source": [
        "name_col = find_name(data_df['subject_data'])"
      ],
      "metadata": {
        "id": "7kcd3_Jj2q-O"
      },
      "execution_count": null,
      "outputs": []
    },
    {
      "cell_type": "code",
      "source": [
        "data_df['img_name'] = name_col"
      ],
      "metadata": {
        "id": "-QIP7fet2xFx"
      },
      "execution_count": null,
      "outputs": []
    },
    {
      "cell_type": "markdown",
      "source": [
        "## Deleting Duplicates"
      ],
      "metadata": {
        "id": "XlEYXzkC3kFR"
      }
    },
    {
      "cell_type": "code",
      "source": [
        "len(np.unique(data_df['img_name']))"
      ],
      "metadata": {
        "colab": {
          "base_uri": "https://localhost:8080/"
        },
        "id": "tpWKiZc_5S9U",
        "outputId": "3ef2823d-a4d3-4ac8-c9a0-edba95333928"
      },
      "execution_count": null,
      "outputs": [
        {
          "output_type": "execute_result",
          "data": {
            "text/plain": [
              "5896"
            ]
          },
          "metadata": {},
          "execution_count": 14
        }
      ]
    },
    {
      "cell_type": "code",
      "source": [
        "np.random.randint"
      ],
      "metadata": {
        "colab": {
          "base_uri": "https://localhost:8080/"
        },
        "id": "eKrC4Ox452GZ",
        "outputId": "e7fd4118-49d4-4060-b65d-13139a03c784"
      },
      "execution_count": null,
      "outputs": [
        {
          "output_type": "execute_result",
          "data": {
            "text/plain": [
              "1"
            ]
          },
          "metadata": {},
          "execution_count": 31
        }
      ]
    },
    {
      "cell_type": "code",
      "source": [
        "def deleting_duplicates(df):\n",
        "  unique_names = np.unique(df['img_name'])\n",
        "  for i in range(len(unique_names)):\n",
        "    # subset with same image name\n",
        "    img_subset = df[df['img_name'] == unique_names[i]]\n",
        "    if len(img_subset) > 1:\n",
        "      choice = np.random.randint(0,len(img_subset))\n",
        "      # drop row of choice from subset\n",
        "      indxs = list(img_subset.index)\n",
        "      del indxs[choice]\n",
        "      # indxs now contains all indxs we want to remove\n",
        "      df.drop(indxs, inplace=True)\n",
        "\n",
        "  return df"
      ],
      "metadata": {
        "id": "GwAkMEmw4Grs"
      },
      "execution_count": null,
      "outputs": []
    },
    {
      "cell_type": "code",
      "source": [
        "dropped_df = deleting_duplicates(data_df)"
      ],
      "metadata": {
        "id": "vWiK5uG28uLg"
      },
      "execution_count": null,
      "outputs": []
    },
    {
      "cell_type": "code",
      "source": [
        "dropped_df.reset_index(drop=True, inplace=True)"
      ],
      "metadata": {
        "id": "5XeiA4Ps4epM"
      },
      "execution_count": null,
      "outputs": []
    },
    {
      "cell_type": "code",
      "source": [
        "len(np.unique(dropped_df['img_name'])) # we succeeded!"
      ],
      "metadata": {
        "colab": {
          "base_uri": "https://localhost:8080/"
        },
        "id": "Z8WiIozs9QLf",
        "outputId": "02f3b7bb-f0f2-490c-d4bb-1088b623037c"
      },
      "execution_count": null,
      "outputs": [
        {
          "output_type": "execute_result",
          "data": {
            "text/plain": [
              "5896"
            ]
          },
          "metadata": {},
          "execution_count": 50
        }
      ]
    },
    {
      "cell_type": "code",
      "source": [
        "data_df[data_df['user_name'] == 'roayba.adhi']"
      ],
      "metadata": {
        "id": "C0VSNWQf25Y-"
      },
      "execution_count": null,
      "outputs": []
    },
    {
      "cell_type": "code",
      "source": [
        "dropped_df.to_csv(\"drive/MyDrive/Data_Files/parsed_zooni_out.csv\")"
      ],
      "metadata": {
        "id": "l0u4Ag-J9r0y"
      },
      "execution_count": null,
      "outputs": []
    },
    {
      "cell_type": "code",
      "source": [],
      "metadata": {
        "id": "YK9QUf7u90xL"
      },
      "execution_count": null,
      "outputs": []
    }
  ]
}