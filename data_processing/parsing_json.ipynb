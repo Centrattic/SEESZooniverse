{
  "nbformat": 4,
  "nbformat_minor": 0,
  "metadata": {
    "colab": {
      "provenance": [],
      "authorship_tag": "ABX9TyMmLzCr/IY5tjCva8ic0zK6",
      "include_colab_link": true
    },
    "kernelspec": {
      "name": "python3",
      "display_name": "Python 3"
    },
    "language_info": {
      "name": "python"
    }
  },
  "cells": [
    {
      "cell_type": "markdown",
      "metadata": {
        "id": "view-in-github",
        "colab_type": "text"
      },
      "source": [
        "<a href=\"https://colab.research.google.com/github/Centrattic/SEESZooniverse/blob/main/data_processing/parsing_json.ipynb\" target=\"_parent\"><img src=\"https://colab.research.google.com/assets/colab-badge.svg\" alt=\"Open In Colab\"/></a>"
      ]
    },
    {
      "cell_type": "code",
      "source": [
        "!pip install flatten_json\n"
      ],
      "metadata": {
        "colab": {
          "base_uri": "https://localhost:8080/"
        },
        "id": "BdGYfIikgm85",
        "outputId": "e9e16567-274b-4b69-ba44-432ea5d0b62e"
      },
      "execution_count": null,
      "outputs": [
        {
          "output_type": "stream",
          "name": "stdout",
          "text": [
            "Collecting flatten_json\n",
            "  Downloading flatten_json-0.1.13.tar.gz (11 kB)\n",
            "  Preparing metadata (setup.py) ... \u001b[?25l\u001b[?25hdone\n",
            "Requirement already satisfied: six in /usr/local/lib/python3.10/dist-packages (from flatten_json) (1.16.0)\n",
            "Building wheels for collected packages: flatten_json\n",
            "  Building wheel for flatten_json (setup.py) ... \u001b[?25l\u001b[?25hdone\n",
            "  Created wheel for flatten_json: filename=flatten_json-0.1.13-py3-none-any.whl size=7964 sha256=415023f05add0018f28ba0c753062c1e169993ad8ab030522fb091d021011241\n",
            "  Stored in directory: /root/.cache/pip/wheels/c7/55/89/0dbf87571194b7ed4228b018280a8312e5af2d8f5954504672\n",
            "Successfully built flatten_json\n",
            "Installing collected packages: flatten_json\n",
            "Successfully installed flatten_json-0.1.13\n"
          ]
        }
      ]
    },
    {
      "cell_type": "code",
      "source": [
        "import flatten_json as fj\n",
        "import json\n",
        "import re\n",
        "import numpy as np\n",
        "from tqdm import tqdm\n",
        "import pandas as pd"
      ],
      "metadata": {
        "id": "hm0X-4TTndHL"
      },
      "execution_count": null,
      "outputs": []
    },
    {
      "cell_type": "markdown",
      "source": [
        "## load in json & flatten"
      ],
      "metadata": {
        "id": "9VrK05-4oQGz"
      }
    },
    {
      "cell_type": "code",
      "source": [
        "with open('input.json') as json_file:\n",
        "    data = json.load(json_file)"
      ],
      "metadata": {
        "id": "6ZkSrNcKnmnI"
      },
      "execution_count": null,
      "outputs": []
    },
    {
      "cell_type": "code",
      "source": [
        "med = dict(fj.flatten(data))"
      ],
      "metadata": {
        "id": "JauGCV3xndKD"
      },
      "execution_count": null,
      "outputs": []
    },
    {
      "cell_type": "markdown",
      "source": [
        "# make quick key df for easy access"
      ],
      "metadata": {
        "id": "5NwydcAXoUNy"
      }
    },
    {
      "cell_type": "code",
      "source": [
        "med.keys()"
      ],
      "metadata": {
        "id": "eWv_pYreoLhZ"
      },
      "execution_count": null,
      "outputs": []
    },
    {
      "cell_type": "code",
      "source": [
        "key_df = pd.DataFrame()"
      ],
      "metadata": {
        "id": "u1Lr4GR5MMf5"
      },
      "execution_count": null,
      "outputs": []
    },
    {
      "cell_type": "code",
      "source": [
        "id_arr = [-1]*84191 # of keys\n",
        "col_arr = ['']*84191\n",
        "key_arr = [-1]*84191\n",
        "\n",
        "i = 0\n",
        "for key in tqdm(med.keys()):\n",
        "  id = re.findall(r'[0-9]+', key)\n",
        "  if len(id) != 0:\n",
        "    id = int(id[0])\n",
        "    colname = key.split(\"_\")[-1]\n",
        "    id_arr[i] = id\n",
        "    col_arr[i] = colname\n",
        "    key_arr[i] = key\n",
        "    i+=1"
      ],
      "metadata": {
        "colab": {
          "base_uri": "https://localhost:8080/"
        },
        "id": "46yQGauVN2J6",
        "outputId": "bc18c1ed-5adb-4739-b07c-015bec5ec17e"
      },
      "execution_count": null,
      "outputs": [
        {
          "output_type": "stream",
          "name": "stderr",
          "text": [
            "100%|██████████| 84191/84191 [00:00<00:00, 292425.38it/s]\n"
          ]
        }
      ]
    },
    {
      "cell_type": "code",
      "source": [
        "key_df = key_df[key_df['key']!=-1] # just skipping the two at the beginning where len(id) ==0"
      ],
      "metadata": {
        "id": "21vLM-XCMo70"
      },
      "execution_count": null,
      "outputs": []
    },
    {
      "cell_type": "code",
      "source": [
        "key_df['loc_id'] = id_arr\n",
        "key_df['colname'] = col_arr\n",
        "key_df['key'] = key_arr"
      ],
      "metadata": {
        "id": "3UgbHcMXirmr"
      },
      "execution_count": null,
      "outputs": []
    },
    {
      "cell_type": "code",
      "source": [
        "key_df[key_df['loc_id']==0]"
      ],
      "metadata": {
        "id": "_yAwnA1Gmjv5"
      },
      "execution_count": null,
      "outputs": []
    },
    {
      "cell_type": "markdown",
      "source": [
        "# use key df to efficiently make data df"
      ],
      "metadata": {
        "id": "9e1EtMtLoiCv"
      }
    },
    {
      "cell_type": "code",
      "source": [
        "data_np = np.negative(np.ones((1477, 57))) # of columns\n",
        "data_df = pd.DataFrame(data_np)"
      ],
      "metadata": {
        "id": "rHREg25dsNIk"
      },
      "execution_count": null,
      "outputs": []
    },
    {
      "cell_type": "code",
      "source": [
        "col_arr = [key.split(\"_\")[-1] for key in med.keys() if \"1475\" in key] # all columns"
      ],
      "metadata": {
        "id": "is-3O-9Yt8Mc"
      },
      "execution_count": null,
      "outputs": []
    },
    {
      "cell_type": "code",
      "source": [
        "data_df.columns = col_arr"
      ],
      "metadata": {
        "id": "WZcYXuAboJrJ"
      },
      "execution_count": null,
      "outputs": []
    },
    {
      "cell_type": "code",
      "source": [
        "for i in tqdm(range(1477)): # of loc ids\n",
        "  id_subset = key_df[key_df['loc_id']==i]\n",
        "  keys_subset = np.array(id_subset['key'])\n",
        "  data_df.loc[i] = [med[key] for key in keys_subset] # list comp"
      ],
      "metadata": {
        "colab": {
          "base_uri": "https://localhost:8080/"
        },
        "id": "rWyUYFEtmpoa",
        "outputId": "a6e46c5d-cdf3-4dbe-fd40-02ac74d5fc3e"
      },
      "execution_count": null,
      "outputs": [
        {
          "output_type": "stream",
          "name": "stderr",
          "text": [
            "100%|██████████| 1477/1477 [00:05<00:00, 258.18it/s]\n"
          ]
        }
      ]
    },
    {
      "cell_type": "code",
      "source": [
        "data_df"
      ],
      "metadata": {
        "colab": {
          "base_uri": "https://localhost:8080/",
          "height": 834
        },
        "id": "bY7WtfBCn8nw",
        "outputId": "e7ef8b33-abdd-4a6a-dc0e-41a8d12de58f"
      },
      "execution_count": null,
      "outputs": [
        {
          "output_type": "execute_result",
          "data": {
            "text/plain": [
              "         protocol measuredDate           createDate           updateDate  \\\n",
              "0     land_covers   2023-07-13  2023-07-13T14:45:10  2023-07-13T15:15:01   \n",
              "1     land_covers   2023-07-13  2023-07-13T14:45:10  2023-07-13T15:15:01   \n",
              "2     land_covers   2023-07-11  2023-07-12T16:40:07  2023-07-18T03:04:04   \n",
              "3     land_covers   2023-07-11  2023-07-12T16:40:24  2023-07-18T03:02:22   \n",
              "4     land_covers   2023-07-11  2023-07-12T16:40:08  2023-07-18T03:01:07   \n",
              "...           ...          ...                  ...                  ...   \n",
              "1472  land_covers   2023-06-03  2023-06-03T19:45:03  2023-06-05T11:37:04   \n",
              "1473  land_covers   2023-06-03  2023-06-03T18:25:03  2023-06-05T11:36:52   \n",
              "1474  land_covers   2023-06-03  2023-06-03T15:35:03  2023-06-05T11:36:52   \n",
              "1475  land_covers   2023-06-03  2023-06-03T19:00:01  2023-06-05T11:36:47   \n",
              "1476  land_covers   2023-06-03  2023-06-03T20:40:02  2023-06-05T11:35:16   \n",
              "\n",
              "              publishDate  organizationId  \\\n",
              "0     2023-07-14T04:11:09      17043304.0   \n",
              "1     2023-07-14T04:11:09      17043304.0   \n",
              "2     2023-07-18T03:10:00      17043304.0   \n",
              "3     2023-07-18T03:10:00      17043304.0   \n",
              "4     2023-07-18T03:10:00      17043304.0   \n",
              "...                   ...             ...   \n",
              "1472  2023-07-14T04:11:09      17043304.0   \n",
              "1473  2023-07-14T04:11:09      17043304.0   \n",
              "1474  2023-07-14T04:11:09      17043304.0   \n",
              "1475  2023-07-14T04:11:09      17043304.0   \n",
              "1476  2023-07-14T04:11:09      17043304.0   \n",
              "\n",
              "                              organizationName    siteId     siteName  \\\n",
              "0     United States of America Citizen Science  320976.0  18TWK209668   \n",
              "1     United States of America Citizen Science  320976.0  18TWK209668   \n",
              "2     United States of America Citizen Science  321510.0  18TXL010372   \n",
              "3     United States of America Citizen Science  321523.0  18TXL020368   \n",
              "4     United States of America Citizen Science  321509.0  18TXL010377   \n",
              "...                                        ...       ...          ...   \n",
              "1472  United States of America Citizen Science  317086.0  18TVK384359   \n",
              "1473  United States of America Citizen Science  317075.0  18SVK656221   \n",
              "1474  United States of America Citizen Science  317060.0  18TVK517343   \n",
              "1475  United States of America Citizen Science  317081.0  18SVK507263   \n",
              "1476  United States of America Citizen Science  317087.0  18TVK478382   \n",
              "\n",
              "        countryName  ... landcoversRainingSnowing  landcoversUpwardExtraData  \\\n",
              "0     United States  ...                    False                       null   \n",
              "1     United States  ...                    False                       null   \n",
              "2     United States  ...                    False                       null   \n",
              "3     United States  ...                    False                       null   \n",
              "4     United States  ...                    False                       null   \n",
              "...             ...  ...                      ...                        ...   \n",
              "1472  United States  ...                    False                       null   \n",
              "1473  United States  ...                    False                       null   \n",
              "1474  United States  ...                    False                       null   \n",
              "1475  United States  ...                    False                       null   \n",
              "1476  United States  ...                    False                       null   \n",
              "\n",
              "      landcoversMeasurementElevation  landcoversWestExtraData  \\\n",
              "0                               56.6                     null   \n",
              "1                               56.8                     null   \n",
              "2                               81.0                     null   \n",
              "3                               79.8                     null   \n",
              "4                               60.3                     null   \n",
              "...                              ...                      ...   \n",
              "1472                           110.0                     null   \n",
              "1473                            80.6                     null   \n",
              "1474                           113.3                     null   \n",
              "1475                           127.8                     null   \n",
              "1476                            87.5                     null   \n",
              "\n",
              "      landcoversLandCoverId landcoversMeasurementLongitude  \\\n",
              "0                   60993.0                       -74.7529   \n",
              "1                   60994.0                       -74.7529   \n",
              "2                   60960.0                       -73.7994   \n",
              "3                   60973.0                       -73.7871   \n",
              "4                   60959.0                       -73.7992   \n",
              "...                     ...                            ...   \n",
              "1472                58457.0                       -75.7214   \n",
              "1473                58454.0                       -75.4021   \n",
              "1474                58453.0                       -75.5652   \n",
              "1475                58455.0                       -75.5772   \n",
              "1476                58458.0                       -75.6114   \n",
              "\n",
              "                             landcoversMucDescription landcoversSnowIce  \\\n",
              "0                   Herbaceous/Grassland, Short Grass             False   \n",
              "1                   Herbaceous/Grassland, Short Grass             False   \n",
              "2                                                None             False   \n",
              "3                                                None             False   \n",
              "4                                                None             False   \n",
              "...                                               ...               ...   \n",
              "1472                           Open Water, Freshwater             False   \n",
              "1473  Trees, Closely Spaced, Evergreen - Broad Leaved             False   \n",
              "1474                Herbaceous/Grassland, Short Grass             False   \n",
              "1475           Shrubs, Closely Spaced, Tall Deciduous             False   \n",
              "1476                Herbaceous/Grassland, Short Grass             False   \n",
              "\n",
              "                         landcoversNorthClassifications  \\\n",
              "0     30% MUC 02 (b) [Trees, Closely Spaced, Deciduo...   \n",
              "1     20% MUC 01 (b) [Trees, Closely Spaced, Evergre...   \n",
              "2                                                  None   \n",
              "3                                                  None   \n",
              "4                                                  None   \n",
              "...                                                 ...   \n",
              "1472  40% MUC 01 (b) [Trees, Closely Spaced, Evergre...   \n",
              "1473  70% MUC 01 (b) [Trees, Closely Spaced, Evergre...   \n",
              "1474  60% MUC 11 (n) [Trees, Loosely Spaced, Evergre...   \n",
              "1475  80% MUC 01 (b) [Trees, Closely Spaced, Evergre...   \n",
              "1476  70% MUC 11 (b) [Trees, Loosely Spaced, Evergre...   \n",
              "\n",
              "                                   landcoversFieldNotes  \n",
              "0     Area is in my backyard and in a shaded and woo...  \n",
              "1     Area is in my backyard and between two houses....  \n",
              "2                                                (none)  \n",
              "3                                                (none)  \n",
              "4                                                (none)  \n",
              "...                                                 ...  \n",
              "1472                                   Canoeing in lane  \n",
              "1473  It used to be common to fish here. Now it’s le...  \n",
              "1474                          Soccer field, nice weathe  \n",
              "1475                                             (none)  \n",
              "1476  Not a lot of water, mostly absorbed in the ground  \n",
              "\n",
              "[1477 rows x 57 columns]"
            ],
            "text/html": [
              "\n",
              "\n",
              "  <div id=\"df-b7371e73-67d9-4775-b64c-cc572d12b0a7\">\n",
              "    <div class=\"colab-df-container\">\n",
              "      <div>\n",
              "<style scoped>\n",
              "    .dataframe tbody tr th:only-of-type {\n",
              "        vertical-align: middle;\n",
              "    }\n",
              "\n",
              "    .dataframe tbody tr th {\n",
              "        vertical-align: top;\n",
              "    }\n",
              "\n",
              "    .dataframe thead th {\n",
              "        text-align: right;\n",
              "    }\n",
              "</style>\n",
              "<table border=\"1\" class=\"dataframe\">\n",
              "  <thead>\n",
              "    <tr style=\"text-align: right;\">\n",
              "      <th></th>\n",
              "      <th>protocol</th>\n",
              "      <th>measuredDate</th>\n",
              "      <th>createDate</th>\n",
              "      <th>updateDate</th>\n",
              "      <th>publishDate</th>\n",
              "      <th>organizationId</th>\n",
              "      <th>organizationName</th>\n",
              "      <th>siteId</th>\n",
              "      <th>siteName</th>\n",
              "      <th>countryName</th>\n",
              "      <th>...</th>\n",
              "      <th>landcoversRainingSnowing</th>\n",
              "      <th>landcoversUpwardExtraData</th>\n",
              "      <th>landcoversMeasurementElevation</th>\n",
              "      <th>landcoversWestExtraData</th>\n",
              "      <th>landcoversLandCoverId</th>\n",
              "      <th>landcoversMeasurementLongitude</th>\n",
              "      <th>landcoversMucDescription</th>\n",
              "      <th>landcoversSnowIce</th>\n",
              "      <th>landcoversNorthClassifications</th>\n",
              "      <th>landcoversFieldNotes</th>\n",
              "    </tr>\n",
              "  </thead>\n",
              "  <tbody>\n",
              "    <tr>\n",
              "      <th>0</th>\n",
              "      <td>land_covers</td>\n",
              "      <td>2023-07-13</td>\n",
              "      <td>2023-07-13T14:45:10</td>\n",
              "      <td>2023-07-13T15:15:01</td>\n",
              "      <td>2023-07-14T04:11:09</td>\n",
              "      <td>17043304.0</td>\n",
              "      <td>United States of America Citizen Science</td>\n",
              "      <td>320976.0</td>\n",
              "      <td>18TWK209668</td>\n",
              "      <td>United States</td>\n",
              "      <td>...</td>\n",
              "      <td>False</td>\n",
              "      <td>null</td>\n",
              "      <td>56.6</td>\n",
              "      <td>null</td>\n",
              "      <td>60993.0</td>\n",
              "      <td>-74.7529</td>\n",
              "      <td>Herbaceous/Grassland, Short Grass</td>\n",
              "      <td>False</td>\n",
              "      <td>30% MUC 02 (b) [Trees, Closely Spaced, Deciduo...</td>\n",
              "      <td>Area is in my backyard and in a shaded and woo...</td>\n",
              "    </tr>\n",
              "    <tr>\n",
              "      <th>1</th>\n",
              "      <td>land_covers</td>\n",
              "      <td>2023-07-13</td>\n",
              "      <td>2023-07-13T14:45:10</td>\n",
              "      <td>2023-07-13T15:15:01</td>\n",
              "      <td>2023-07-14T04:11:09</td>\n",
              "      <td>17043304.0</td>\n",
              "      <td>United States of America Citizen Science</td>\n",
              "      <td>320976.0</td>\n",
              "      <td>18TWK209668</td>\n",
              "      <td>United States</td>\n",
              "      <td>...</td>\n",
              "      <td>False</td>\n",
              "      <td>null</td>\n",
              "      <td>56.8</td>\n",
              "      <td>null</td>\n",
              "      <td>60994.0</td>\n",
              "      <td>-74.7529</td>\n",
              "      <td>Herbaceous/Grassland, Short Grass</td>\n",
              "      <td>False</td>\n",
              "      <td>20% MUC 01 (b) [Trees, Closely Spaced, Evergre...</td>\n",
              "      <td>Area is in my backyard and between two houses....</td>\n",
              "    </tr>\n",
              "    <tr>\n",
              "      <th>2</th>\n",
              "      <td>land_covers</td>\n",
              "      <td>2023-07-11</td>\n",
              "      <td>2023-07-12T16:40:07</td>\n",
              "      <td>2023-07-18T03:04:04</td>\n",
              "      <td>2023-07-18T03:10:00</td>\n",
              "      <td>17043304.0</td>\n",
              "      <td>United States of America Citizen Science</td>\n",
              "      <td>321510.0</td>\n",
              "      <td>18TXL010372</td>\n",
              "      <td>United States</td>\n",
              "      <td>...</td>\n",
              "      <td>False</td>\n",
              "      <td>null</td>\n",
              "      <td>81.0</td>\n",
              "      <td>null</td>\n",
              "      <td>60960.0</td>\n",
              "      <td>-73.7994</td>\n",
              "      <td>None</td>\n",
              "      <td>False</td>\n",
              "      <td>None</td>\n",
              "      <td>(none)</td>\n",
              "    </tr>\n",
              "    <tr>\n",
              "      <th>3</th>\n",
              "      <td>land_covers</td>\n",
              "      <td>2023-07-11</td>\n",
              "      <td>2023-07-12T16:40:24</td>\n",
              "      <td>2023-07-18T03:02:22</td>\n",
              "      <td>2023-07-18T03:10:00</td>\n",
              "      <td>17043304.0</td>\n",
              "      <td>United States of America Citizen Science</td>\n",
              "      <td>321523.0</td>\n",
              "      <td>18TXL020368</td>\n",
              "      <td>United States</td>\n",
              "      <td>...</td>\n",
              "      <td>False</td>\n",
              "      <td>null</td>\n",
              "      <td>79.8</td>\n",
              "      <td>null</td>\n",
              "      <td>60973.0</td>\n",
              "      <td>-73.7871</td>\n",
              "      <td>None</td>\n",
              "      <td>False</td>\n",
              "      <td>None</td>\n",
              "      <td>(none)</td>\n",
              "    </tr>\n",
              "    <tr>\n",
              "      <th>4</th>\n",
              "      <td>land_covers</td>\n",
              "      <td>2023-07-11</td>\n",
              "      <td>2023-07-12T16:40:08</td>\n",
              "      <td>2023-07-18T03:01:07</td>\n",
              "      <td>2023-07-18T03:10:00</td>\n",
              "      <td>17043304.0</td>\n",
              "      <td>United States of America Citizen Science</td>\n",
              "      <td>321509.0</td>\n",
              "      <td>18TXL010377</td>\n",
              "      <td>United States</td>\n",
              "      <td>...</td>\n",
              "      <td>False</td>\n",
              "      <td>null</td>\n",
              "      <td>60.3</td>\n",
              "      <td>null</td>\n",
              "      <td>60959.0</td>\n",
              "      <td>-73.7992</td>\n",
              "      <td>None</td>\n",
              "      <td>False</td>\n",
              "      <td>None</td>\n",
              "      <td>(none)</td>\n",
              "    </tr>\n",
              "    <tr>\n",
              "      <th>...</th>\n",
              "      <td>...</td>\n",
              "      <td>...</td>\n",
              "      <td>...</td>\n",
              "      <td>...</td>\n",
              "      <td>...</td>\n",
              "      <td>...</td>\n",
              "      <td>...</td>\n",
              "      <td>...</td>\n",
              "      <td>...</td>\n",
              "      <td>...</td>\n",
              "      <td>...</td>\n",
              "      <td>...</td>\n",
              "      <td>...</td>\n",
              "      <td>...</td>\n",
              "      <td>...</td>\n",
              "      <td>...</td>\n",
              "      <td>...</td>\n",
              "      <td>...</td>\n",
              "      <td>...</td>\n",
              "      <td>...</td>\n",
              "      <td>...</td>\n",
              "    </tr>\n",
              "    <tr>\n",
              "      <th>1472</th>\n",
              "      <td>land_covers</td>\n",
              "      <td>2023-06-03</td>\n",
              "      <td>2023-06-03T19:45:03</td>\n",
              "      <td>2023-06-05T11:37:04</td>\n",
              "      <td>2023-07-14T04:11:09</td>\n",
              "      <td>17043304.0</td>\n",
              "      <td>United States of America Citizen Science</td>\n",
              "      <td>317086.0</td>\n",
              "      <td>18TVK384359</td>\n",
              "      <td>United States</td>\n",
              "      <td>...</td>\n",
              "      <td>False</td>\n",
              "      <td>null</td>\n",
              "      <td>110.0</td>\n",
              "      <td>null</td>\n",
              "      <td>58457.0</td>\n",
              "      <td>-75.7214</td>\n",
              "      <td>Open Water, Freshwater</td>\n",
              "      <td>False</td>\n",
              "      <td>40% MUC 01 (b) [Trees, Closely Spaced, Evergre...</td>\n",
              "      <td>Canoeing in lane</td>\n",
              "    </tr>\n",
              "    <tr>\n",
              "      <th>1473</th>\n",
              "      <td>land_covers</td>\n",
              "      <td>2023-06-03</td>\n",
              "      <td>2023-06-03T18:25:03</td>\n",
              "      <td>2023-06-05T11:36:52</td>\n",
              "      <td>2023-07-14T04:11:09</td>\n",
              "      <td>17043304.0</td>\n",
              "      <td>United States of America Citizen Science</td>\n",
              "      <td>317075.0</td>\n",
              "      <td>18SVK656221</td>\n",
              "      <td>United States</td>\n",
              "      <td>...</td>\n",
              "      <td>False</td>\n",
              "      <td>null</td>\n",
              "      <td>80.6</td>\n",
              "      <td>null</td>\n",
              "      <td>58454.0</td>\n",
              "      <td>-75.4021</td>\n",
              "      <td>Trees, Closely Spaced, Evergreen - Broad Leaved</td>\n",
              "      <td>False</td>\n",
              "      <td>70% MUC 01 (b) [Trees, Closely Spaced, Evergre...</td>\n",
              "      <td>It used to be common to fish here. Now it’s le...</td>\n",
              "    </tr>\n",
              "    <tr>\n",
              "      <th>1474</th>\n",
              "      <td>land_covers</td>\n",
              "      <td>2023-06-03</td>\n",
              "      <td>2023-06-03T15:35:03</td>\n",
              "      <td>2023-06-05T11:36:52</td>\n",
              "      <td>2023-07-14T04:11:09</td>\n",
              "      <td>17043304.0</td>\n",
              "      <td>United States of America Citizen Science</td>\n",
              "      <td>317060.0</td>\n",
              "      <td>18TVK517343</td>\n",
              "      <td>United States</td>\n",
              "      <td>...</td>\n",
              "      <td>False</td>\n",
              "      <td>null</td>\n",
              "      <td>113.3</td>\n",
              "      <td>null</td>\n",
              "      <td>58453.0</td>\n",
              "      <td>-75.5652</td>\n",
              "      <td>Herbaceous/Grassland, Short Grass</td>\n",
              "      <td>False</td>\n",
              "      <td>60% MUC 11 (n) [Trees, Loosely Spaced, Evergre...</td>\n",
              "      <td>Soccer field, nice weathe</td>\n",
              "    </tr>\n",
              "    <tr>\n",
              "      <th>1475</th>\n",
              "      <td>land_covers</td>\n",
              "      <td>2023-06-03</td>\n",
              "      <td>2023-06-03T19:00:01</td>\n",
              "      <td>2023-06-05T11:36:47</td>\n",
              "      <td>2023-07-14T04:11:09</td>\n",
              "      <td>17043304.0</td>\n",
              "      <td>United States of America Citizen Science</td>\n",
              "      <td>317081.0</td>\n",
              "      <td>18SVK507263</td>\n",
              "      <td>United States</td>\n",
              "      <td>...</td>\n",
              "      <td>False</td>\n",
              "      <td>null</td>\n",
              "      <td>127.8</td>\n",
              "      <td>null</td>\n",
              "      <td>58455.0</td>\n",
              "      <td>-75.5772</td>\n",
              "      <td>Shrubs, Closely Spaced, Tall Deciduous</td>\n",
              "      <td>False</td>\n",
              "      <td>80% MUC 01 (b) [Trees, Closely Spaced, Evergre...</td>\n",
              "      <td>(none)</td>\n",
              "    </tr>\n",
              "    <tr>\n",
              "      <th>1476</th>\n",
              "      <td>land_covers</td>\n",
              "      <td>2023-06-03</td>\n",
              "      <td>2023-06-03T20:40:02</td>\n",
              "      <td>2023-06-05T11:35:16</td>\n",
              "      <td>2023-07-14T04:11:09</td>\n",
              "      <td>17043304.0</td>\n",
              "      <td>United States of America Citizen Science</td>\n",
              "      <td>317087.0</td>\n",
              "      <td>18TVK478382</td>\n",
              "      <td>United States</td>\n",
              "      <td>...</td>\n",
              "      <td>False</td>\n",
              "      <td>null</td>\n",
              "      <td>87.5</td>\n",
              "      <td>null</td>\n",
              "      <td>58458.0</td>\n",
              "      <td>-75.6114</td>\n",
              "      <td>Herbaceous/Grassland, Short Grass</td>\n",
              "      <td>False</td>\n",
              "      <td>70% MUC 11 (b) [Trees, Loosely Spaced, Evergre...</td>\n",
              "      <td>Not a lot of water, mostly absorbed in the ground</td>\n",
              "    </tr>\n",
              "  </tbody>\n",
              "</table>\n",
              "<p>1477 rows × 57 columns</p>\n",
              "</div>\n",
              "      <button class=\"colab-df-convert\" onclick=\"convertToInteractive('df-b7371e73-67d9-4775-b64c-cc572d12b0a7')\"\n",
              "              title=\"Convert this dataframe to an interactive table.\"\n",
              "              style=\"display:none;\">\n",
              "\n",
              "  <svg xmlns=\"http://www.w3.org/2000/svg\" height=\"24px\"viewBox=\"0 0 24 24\"\n",
              "       width=\"24px\">\n",
              "    <path d=\"M0 0h24v24H0V0z\" fill=\"none\"/>\n",
              "    <path d=\"M18.56 5.44l.94 2.06.94-2.06 2.06-.94-2.06-.94-.94-2.06-.94 2.06-2.06.94zm-11 1L8.5 8.5l.94-2.06 2.06-.94-2.06-.94L8.5 2.5l-.94 2.06-2.06.94zm10 10l.94 2.06.94-2.06 2.06-.94-2.06-.94-.94-2.06-.94 2.06-2.06.94z\"/><path d=\"M17.41 7.96l-1.37-1.37c-.4-.4-.92-.59-1.43-.59-.52 0-1.04.2-1.43.59L10.3 9.45l-7.72 7.72c-.78.78-.78 2.05 0 2.83L4 21.41c.39.39.9.59 1.41.59.51 0 1.02-.2 1.41-.59l7.78-7.78 2.81-2.81c.8-.78.8-2.07 0-2.86zM5.41 20L4 18.59l7.72-7.72 1.47 1.35L5.41 20z\"/>\n",
              "  </svg>\n",
              "      </button>\n",
              "\n",
              "\n",
              "\n",
              "    <div id=\"df-2aba8715-0534-461d-9fc8-5117903c3ec0\">\n",
              "      <button class=\"colab-df-quickchart\" onclick=\"quickchart('df-2aba8715-0534-461d-9fc8-5117903c3ec0')\"\n",
              "              title=\"Suggest charts.\"\n",
              "              style=\"display:none;\">\n",
              "\n",
              "<svg xmlns=\"http://www.w3.org/2000/svg\" height=\"24px\"viewBox=\"0 0 24 24\"\n",
              "     width=\"24px\">\n",
              "    <g>\n",
              "        <path d=\"M19 3H5c-1.1 0-2 .9-2 2v14c0 1.1.9 2 2 2h14c1.1 0 2-.9 2-2V5c0-1.1-.9-2-2-2zM9 17H7v-7h2v7zm4 0h-2V7h2v10zm4 0h-2v-4h2v4z\"/>\n",
              "    </g>\n",
              "</svg>\n",
              "      </button>\n",
              "    </div>\n",
              "\n",
              "<style>\n",
              "  .colab-df-quickchart {\n",
              "    background-color: #E8F0FE;\n",
              "    border: none;\n",
              "    border-radius: 50%;\n",
              "    cursor: pointer;\n",
              "    display: none;\n",
              "    fill: #1967D2;\n",
              "    height: 32px;\n",
              "    padding: 0 0 0 0;\n",
              "    width: 32px;\n",
              "  }\n",
              "\n",
              "  .colab-df-quickchart:hover {\n",
              "    background-color: #E2EBFA;\n",
              "    box-shadow: 0px 1px 2px rgba(60, 64, 67, 0.3), 0px 1px 3px 1px rgba(60, 64, 67, 0.15);\n",
              "    fill: #174EA6;\n",
              "  }\n",
              "\n",
              "  [theme=dark] .colab-df-quickchart {\n",
              "    background-color: #3B4455;\n",
              "    fill: #D2E3FC;\n",
              "  }\n",
              "\n",
              "  [theme=dark] .colab-df-quickchart:hover {\n",
              "    background-color: #434B5C;\n",
              "    box-shadow: 0px 1px 3px 1px rgba(0, 0, 0, 0.15);\n",
              "    filter: drop-shadow(0px 1px 2px rgba(0, 0, 0, 0.3));\n",
              "    fill: #FFFFFF;\n",
              "  }\n",
              "</style>\n",
              "\n",
              "    <script>\n",
              "      async function quickchart(key) {\n",
              "        const containerElement = document.querySelector('#' + key);\n",
              "        const charts = await google.colab.kernel.invokeFunction(\n",
              "            'suggestCharts', [key], {});\n",
              "      }\n",
              "    </script>\n",
              "\n",
              "      <script>\n",
              "\n",
              "function displayQuickchartButton(domScope) {\n",
              "  let quickchartButtonEl =\n",
              "    domScope.querySelector('#df-2aba8715-0534-461d-9fc8-5117903c3ec0 button.colab-df-quickchart');\n",
              "  quickchartButtonEl.style.display =\n",
              "    google.colab.kernel.accessAllowed ? 'block' : 'none';\n",
              "}\n",
              "\n",
              "        displayQuickchartButton(document);\n",
              "      </script>\n",
              "      <style>\n",
              "    .colab-df-container {\n",
              "      display:flex;\n",
              "      flex-wrap:wrap;\n",
              "      gap: 12px;\n",
              "    }\n",
              "\n",
              "    .colab-df-convert {\n",
              "      background-color: #E8F0FE;\n",
              "      border: none;\n",
              "      border-radius: 50%;\n",
              "      cursor: pointer;\n",
              "      display: none;\n",
              "      fill: #1967D2;\n",
              "      height: 32px;\n",
              "      padding: 0 0 0 0;\n",
              "      width: 32px;\n",
              "    }\n",
              "\n",
              "    .colab-df-convert:hover {\n",
              "      background-color: #E2EBFA;\n",
              "      box-shadow: 0px 1px 2px rgba(60, 64, 67, 0.3), 0px 1px 3px 1px rgba(60, 64, 67, 0.15);\n",
              "      fill: #174EA6;\n",
              "    }\n",
              "\n",
              "    [theme=dark] .colab-df-convert {\n",
              "      background-color: #3B4455;\n",
              "      fill: #D2E3FC;\n",
              "    }\n",
              "\n",
              "    [theme=dark] .colab-df-convert:hover {\n",
              "      background-color: #434B5C;\n",
              "      box-shadow: 0px 1px 3px 1px rgba(0, 0, 0, 0.15);\n",
              "      filter: drop-shadow(0px 1px 2px rgba(0, 0, 0, 0.3));\n",
              "      fill: #FFFFFF;\n",
              "    }\n",
              "  </style>\n",
              "\n",
              "      <script>\n",
              "        const buttonEl =\n",
              "          document.querySelector('#df-b7371e73-67d9-4775-b64c-cc572d12b0a7 button.colab-df-convert');\n",
              "        buttonEl.style.display =\n",
              "          google.colab.kernel.accessAllowed ? 'block' : 'none';\n",
              "\n",
              "        async function convertToInteractive(key) {\n",
              "          const element = document.querySelector('#df-b7371e73-67d9-4775-b64c-cc572d12b0a7');\n",
              "          const dataTable =\n",
              "            await google.colab.kernel.invokeFunction('convertToInteractive',\n",
              "                                                     [key], {});\n",
              "          if (!dataTable) return;\n",
              "\n",
              "          const docLinkHtml = 'Like what you see? Visit the ' +\n",
              "            '<a target=\"_blank\" href=https://colab.research.google.com/notebooks/data_table.ipynb>data table notebook</a>'\n",
              "            + ' to learn more about interactive tables.';\n",
              "          element.innerHTML = '';\n",
              "          dataTable['output_type'] = 'display_data';\n",
              "          await google.colab.output.renderOutput(dataTable, element);\n",
              "          const docLink = document.createElement('div');\n",
              "          docLink.innerHTML = docLinkHtml;\n",
              "          element.appendChild(docLink);\n",
              "        }\n",
              "      </script>\n",
              "    </div>\n",
              "  </div>\n"
            ]
          },
          "metadata": {},
          "execution_count": 30
        }
      ]
    },
    {
      "cell_type": "code",
      "source": [
        "data_df.to_csv(\"SEES2023.csv\")"
      ],
      "metadata": {
        "id": "ItlSNGt7mprL"
      },
      "execution_count": null,
      "outputs": []
    },
    {
      "cell_type": "markdown",
      "source": [
        "## old code\n",
        "\n",
        "five hours"
      ],
      "metadata": {
        "id": "LgGl0bMJoDIz"
      }
    },
    {
      "cell_type": "code",
      "source": [
        "for i in tqdm(range(len(data_df.index))):\n",
        "  for j in data_df.columns:\n",
        "    for key in med.keys():\n",
        "      id = re.findall(r'[0-9]+', key)\n",
        "      if len(id) != 0:\n",
        "        id = int(id[0])\n",
        "        if (id == int(data_df.index[i])):\n",
        "          if j in str(key):\n",
        "            # print(key, med[str(key)])\n",
        "            idx = int(data_df.index[i])\n",
        "            data_df.loc[idx, str(j)] = med[str(key)]"
      ],
      "metadata": {
        "colab": {
          "base_uri": "https://localhost:8080/",
          "height": 264
        },
        "id": "cwkiUj_YvpMq",
        "outputId": "c831e7a2-8b9c-4764-89da-fd8e7bcac27f"
      },
      "execution_count": null,
      "outputs": [
        {
          "output_type": "stream",
          "name": "stderr",
          "text": [
            "  0%|          | 1/1477 [00:16<6:36:11, 16.11s/it]\n"
          ]
        },
        {
          "output_type": "error",
          "ename": "KeyboardInterrupt",
          "evalue": "ignored",
          "traceback": [
            "\u001b[0;31m---------------------------------------------------------------------------\u001b[0m",
            "\u001b[0;31mKeyboardInterrupt\u001b[0m                         Traceback (most recent call last)",
            "\u001b[0;32m<ipython-input-32-3e3f21c9ab42>\u001b[0m in \u001b[0;36m<cell line: 1>\u001b[0;34m()\u001b[0m\n\u001b[1;32m      3\u001b[0m     \u001b[0;32mfor\u001b[0m \u001b[0mkey\u001b[0m \u001b[0;32min\u001b[0m \u001b[0mmed\u001b[0m\u001b[0;34m.\u001b[0m\u001b[0mkeys\u001b[0m\u001b[0;34m(\u001b[0m\u001b[0;34m)\u001b[0m\u001b[0;34m:\u001b[0m\u001b[0;34m\u001b[0m\u001b[0;34m\u001b[0m\u001b[0m\n\u001b[1;32m      4\u001b[0m       \u001b[0mid\u001b[0m \u001b[0;34m=\u001b[0m \u001b[0mre\u001b[0m\u001b[0;34m.\u001b[0m\u001b[0mfindall\u001b[0m\u001b[0;34m(\u001b[0m\u001b[0;34mr'[0-9]+'\u001b[0m\u001b[0;34m,\u001b[0m \u001b[0mkey\u001b[0m\u001b[0;34m)\u001b[0m\u001b[0;34m\u001b[0m\u001b[0;34m\u001b[0m\u001b[0m\n\u001b[0;32m----> 5\u001b[0;31m       \u001b[0;32mif\u001b[0m \u001b[0mlen\u001b[0m\u001b[0;34m(\u001b[0m\u001b[0mid\u001b[0m\u001b[0;34m)\u001b[0m \u001b[0;34m!=\u001b[0m \u001b[0;36m0\u001b[0m\u001b[0;34m:\u001b[0m\u001b[0;34m\u001b[0m\u001b[0;34m\u001b[0m\u001b[0m\n\u001b[0m\u001b[1;32m      6\u001b[0m         \u001b[0mid\u001b[0m \u001b[0;34m=\u001b[0m \u001b[0mint\u001b[0m\u001b[0;34m(\u001b[0m\u001b[0mid\u001b[0m\u001b[0;34m[\u001b[0m\u001b[0;36m0\u001b[0m\u001b[0;34m]\u001b[0m\u001b[0;34m)\u001b[0m\u001b[0;34m\u001b[0m\u001b[0;34m\u001b[0m\u001b[0m\n\u001b[1;32m      7\u001b[0m         \u001b[0;32mif\u001b[0m \u001b[0;34m(\u001b[0m\u001b[0mid\u001b[0m \u001b[0;34m==\u001b[0m \u001b[0mint\u001b[0m\u001b[0;34m(\u001b[0m\u001b[0mdata_df\u001b[0m\u001b[0;34m.\u001b[0m\u001b[0mindex\u001b[0m\u001b[0;34m[\u001b[0m\u001b[0mi\u001b[0m\u001b[0;34m]\u001b[0m\u001b[0;34m)\u001b[0m\u001b[0;34m)\u001b[0m\u001b[0;34m:\u001b[0m\u001b[0;34m\u001b[0m\u001b[0;34m\u001b[0m\u001b[0m\n",
            "\u001b[0;31mKeyboardInterrupt\u001b[0m: "
          ]
        }
      ]
    },
    {
      "cell_type": "code",
      "source": [],
      "metadata": {
        "id": "UTCdWaZ_ptBF"
      },
      "execution_count": null,
      "outputs": []
    }
  ]
}